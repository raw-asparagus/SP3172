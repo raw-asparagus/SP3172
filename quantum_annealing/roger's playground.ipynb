{
 "cells": [
  {
   "cell_type": "raw",
   "metadata": {
    "vscode": {
     "languageId": "raw"
    }
   },
   "source": [
    "States with the highest probabilities:\n",
    "| 0000101 1111 >: 0.0023\n",
    "| 0110000 1111 >: 0.0023\n",
    "| 0000010 0111 >: 0.0023\n",
    "| 0000100 1101 >: 0.0022\n",
    "| 1001000 1111 >: 0.0022"
   ]
  },
  {
   "cell_type": "code",
   "execution_count": 1,
   "metadata": {},
   "outputs": [],
   "source": [
    "import numpy as np"
   ]
  },
  {
   "cell_type": "code",
   "execution_count": 19,
   "metadata": {},
   "outputs": [],
   "source": [
    "def analyse(states: list[str], profits, weights, capacity):\n",
    "    for state in states:\n",
    "        main_qubits, ancillary_qubits = state.split(\" \")\n",
    "        main_qubits = np.array([int(bit) for bit in main_qubits])\n",
    "        ancillary_qubits = np.array([int(bit) for bit in ancillary_qubits])\n",
    "        profit = np.dot(main_qubits, profits)\n",
    "        weight = np.dot(main_qubits, weights)\n",
    "        ancillary_weight = 0\n",
    "        M = len(ancillary_qubits) - 1\n",
    "        for j in range(M):\n",
    "            ancillary_weight += 2**j * ancillary_qubits[j]\n",
    "        ancillary_weight += (capacity + 1 - 2**M) * ancillary_qubits[-1]\n",
    "\n",
    "        print(f\"state: {state}, profit: {profit}, weight: {weight}, ancillary_weight: {ancillary_weight}\")"
   ]
  },
  {
   "cell_type": "code",
   "execution_count": null,
   "metadata": {},
   "outputs": [],
   "source": [
    "#   Parameters to set\n",
    "profits = np.array([6, 5, 8, 9, 6, 7, 3])\n",
    "weights = np.array([2, 3, 6, 7, 5, 8, 4])\n",
    "capacity = 9\n",
    "\n",
    "states = [\n",
    "    \"0000101 1111\",\n",
    "    \"0110000 1111\",\n",
    "    \"0000010 0111\",\n",
    "    \"0000100 1101\",\n",
    "    \"1001000 1111\"\n",
    "]\n",
    "\n",
    "analyse(states, profits, weights, capacity)"
   ]
  },
  {
   "cell_type": "code",
   "execution_count": null,
   "metadata": {},
   "outputs": [],
   "source": []
  }
 ],
 "metadata": {
  "kernelspec": {
   "display_name": "env",
   "language": "python",
   "name": "python3"
  },
  "language_info": {
   "codemirror_mode": {
    "name": "ipython",
    "version": 3
   },
   "file_extension": ".py",
   "mimetype": "text/x-python",
   "name": "python",
   "nbconvert_exporter": "python",
   "pygments_lexer": "ipython3",
   "version": "3.12.5"
  }
 },
 "nbformat": 4,
 "nbformat_minor": 2
}
