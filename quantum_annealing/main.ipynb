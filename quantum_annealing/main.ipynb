{
 "cells": [
  {
   "cell_type": "markdown",
   "metadata": {},
   "source": [
    "Consider the evolution of a simple Hamiltonian into a problem-specific Hamiltonian where the optimal solution is 'encoded' in the ground state of the problem Hamiltonian $\\displaystyle \\hat{\\mathcal{H}}_{\\text{P}}$\n",
    "\n",
    "$$\\hat{\\mathcal{H}}\\left(s\\right) = \\left(1 - s\\right)\\hat{\\mathcal{H}}_0 + s\\underbrace{\\left(\\alpha\\hat{\\mathcal{H}}_{\\text{A}} + \\hat{\\mathcal{H}}_{\\text{B}}\\right)}_{\\hat{\\mathcal{H}}_{\\text{P}}},\\qquad\\hat{\\mathcal{H}}_{\\text{B}} = -\\sum_{i = 1}^np_ix_i$$\n",
    "\n",
    "for some $\\displaystyle s = \\frac{t}{T}$ where $T$ is the total computation time with\n",
    "\n",
    "$$\\begin{dcases}\n",
    "    \\quad\\text{Transverse}:\\qquad&\\hat{\\mathcal{H}}_0 = -\\sum_i\\sigma_x^i\\\\\n",
    "    \\quad\\text{Mixed}:\\qquad&\\hat{\\mathcal{H}}_0 = -\\sum_{i < j}\\sigma_x^i\\sigma_x^j\n",
    "\\end{dcases}$$\n",
    "\n",
    "and\n",
    "\n",
    "$$\\hat{\\mathcal{H}}_{\\text{A}} = \\left[\\sum_{j = 0}^{M - 1}2^jy_j + \\left(c + 1 - 2^M\\right)y_M - \\sum_{i = 1}^nw_ix_i\\right]^2,\\qquad S\\left(n\\right) = O\\left(n + \\left\\lfloor\\log_2c\\right\\rfloor + 1\\right)$$\n",
    "\n",
    "where $\\displaystyle \\alpha > \\max\\left(p_j\\right)$ and $\\displaystyle M = \\left\\lfloor\\log_2c\\right\\rfloor$ s.t. $2^{\\ell + 1} \\leq c < 2^{M + 1}$\n"
   ]
  },
  {
   "cell_type": "code",
   "execution_count": 1,
   "metadata": {},
   "outputs": [],
   "source": [
    "from quantum_annealing_engine import Coffey, MakeGraphCoffey\n",
    "import numpy as np"
   ]
  },
  {
   "cell_type": "code",
   "execution_count": 2,
   "metadata": {},
   "outputs": [],
   "source": [
    "#   Parameters to set\n",
    "# profits = np.array([10, 2])\n",
    "# weights = np.array([1, 2])\n",
    "# capacity = 2\n",
    "\n",
    "# profits = np.array([8, 3, 5, 6, 9])\n",
    "# weights = np.array([1, 2, 1, 3, 2])\n",
    "# capacity = 7\n",
    "\n",
    "profits = np.array([6, 5, 8, 9, 6, 7, 3])\n",
    "weights = np.array([2, 3, 6, 7, 5, 8, 4])\n",
    "capacity = 9\n",
    "\n",
    "num_steps = 10000\n",
    "num_spectrum_steps = 100"
   ]
  },
  {
   "cell_type": "code",
   "execution_count": 3,
   "metadata": {},
   "outputs": [
    {
     "name": "stdout",
     "output_type": "stream",
     "text": [
      "Initial Hamiltonian set as transverse!\n",
      "\n",
      "Note that by default Initial Hamiltonian will use transverse Hamiltonian!\n",
      "\n",
      "Initial Hamiltonian set as mixed!\n",
      "\n"
     ]
    }
   ],
   "source": [
    "sim = Coffey(profits, weights, capacity)\n",
    "\n",
    "sim.set_H_0(\"mixed\")"
   ]
  },
  {
   "cell_type": "code",
   "execution_count": 4,
   "metadata": {},
   "outputs": [
    {
     "name": "stderr",
     "output_type": "stream",
     "text": [
      "/opt/homebrew/lib/python3.13/site-packages/qutip/core/qobj.py:1623: UserWarning: Ground state may be degenerate.\n",
      "  warnings.warn(\"Ground state may be degenerate.\", UserWarning)\n"
     ]
    },
    {
     "name": "stdout",
     "output_type": "stream",
     "text": [
      "Quantum annealing complete!\n",
      "\n"
     ]
    }
   ],
   "source": [
    "res = sim.anneal(num_steps)"
   ]
  },
  {
   "cell_type": "code",
   "execution_count": null,
   "metadata": {},
   "outputs": [],
   "source": [
    "spectrum = sim.compute_spectrum(num_spectrum_steps)"
   ]
  },
  {
   "cell_type": "code",
   "execution_count": null,
   "metadata": {},
   "outputs": [],
   "source": [
    "probs = sim.compute_probs(res)"
   ]
  },
  {
   "cell_type": "code",
   "execution_count": null,
   "metadata": {},
   "outputs": [],
   "source": [
    "dis = MakeGraphCoffey()\n",
    "dis.set_probs(probs)\n",
    "dis.set_spectrum(spectrum)"
   ]
  },
  {
   "cell_type": "code",
   "execution_count": null,
   "metadata": {},
   "outputs": [],
   "source": [
    "dis.display_probs(sim)"
   ]
  },
  {
   "cell_type": "code",
   "execution_count": null,
   "metadata": {},
   "outputs": [],
   "source": [
    "dis.display_filtered_probs(sim)"
   ]
  },
  {
   "cell_type": "code",
   "execution_count": null,
   "metadata": {},
   "outputs": [],
   "source": [
    "dis.display_graph(sim)"
   ]
  }
 ],
 "metadata": {
  "kernelspec": {
   "display_name": "Python 3",
   "language": "python",
   "name": "python3"
  },
  "language_info": {
   "codemirror_mode": {
    "name": "ipython",
    "version": 3
   },
   "file_extension": ".py",
   "mimetype": "text/x-python",
   "name": "python",
   "nbconvert_exporter": "python",
   "pygments_lexer": "ipython3",
   "version": "3.13.1"
  }
 },
 "nbformat": 4,
 "nbformat_minor": 2
}
