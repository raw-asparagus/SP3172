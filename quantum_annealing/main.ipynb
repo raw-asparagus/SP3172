{
 "cells": [
  {
   "cell_type": "markdown",
   "metadata": {},
   "source": [
    "Consider the evolution of a simple Hamiltonian into a problem-specific Hamiltonian where the optimal solution is 'encoded' in the ground state of the problem Hamiltonian $\\displaystyle \\hat{\\mathcal{H}}_{\\text{P}}$\n",
    "\n",
    "$$\\hat{\\mathcal{H}}\\left(s\\right) = \\left(1 - s\\right)\\gamma\\hat{\\mathcal{H}}_0 + s\\underbrace{\\left(\\alpha\\hat{\\mathcal{H}}_{\\text{A}} + \\hat{\\mathcal{H}}_{\\text{B}}\\right)}_{\\hat{\\mathcal{H}}_{\\text{P}}},\\qquad\\hat{\\mathcal{H}}_{\\text{B}} = -\\sum_{i = 1}^np_ix_i$$\n",
    "\n",
    "for some $\\displaystyle s = \\frac{t}{T}$ where $T$ is the total computation time with\n",
    "\n",
    "$$\\begin{dcases}\n",
    "    \\quad\\hat{\\mathcal{H}}_0 = -\\sum_i\\sigma_x^i,\\qquad&\\left(\\text{Transverse}\\right)\\\\\n",
    "    \\quad\\hat{\\mathcal{H}}_0 = -\\sum_{i < j}\\sigma_x^i\\sigma_x^j,\\qquad&\\left(\\text{Mixed}\\right)\n",
    "\\end{dcases}$$\n",
    "\n",
    "and\n",
    "\n",
    "$$\\hat{\\mathcal{H}}_{\\text{A}} = \\left[\\sum_{j = 0}^{M - 1}2^jy_j + \\left(c + 1 - 2^M\\right)y_M - \\sum_{i = 1}^nw_ix_i\\right]^2,\\qquad S\\left(n\\right) = O\\left(n + \\left\\lfloor\\log_2c\\right\\rfloor + 1\\right)$$\n",
    "\n",
    "where $\\displaystyle \\alpha > \\max\\left(p_j\\right)$ and $\\displaystyle M = \\left\\lfloor\\log_2c\\right\\rfloor$ s.t. $2^{\\ell + 1} \\leq c < 2^{M + 1}$\n"
   ]
  },
  {
   "cell_type": "code",
   "execution_count": 1,
   "metadata": {},
   "outputs": [],
   "source": [
    "from quantum_annealing_engine import Basis, Observable, Coffey, MakeGraphCoffey\n",
    "import matplotlib.pyplot as plt\n",
    "import numpy as np\n",
    "import pandas as pd"
   ]
  },
  {
   "cell_type": "code",
   "execution_count": 27,
   "metadata": {},
   "outputs": [
    {
     "data": {
      "text/html": [
       "<div>\n",
       "<style scoped>\n",
       "    .dataframe tbody tr th:only-of-type {\n",
       "        vertical-align: middle;\n",
       "    }\n",
       "\n",
       "    .dataframe tbody tr th {\n",
       "        vertical-align: top;\n",
       "    }\n",
       "\n",
       "    .dataframe thead th {\n",
       "        text-align: right;\n",
       "    }\n",
       "</style>\n",
       "<table border=\"1\" class=\"dataframe\">\n",
       "  <thead>\n",
       "    <tr style=\"text-align: right;\">\n",
       "      <th></th>\n",
       "      <th>1</th>\n",
       "      <th>2</th>\n",
       "      <th>3</th>\n",
       "      <th>4</th>\n",
       "      <th>5</th>\n",
       "      <th>6</th>\n",
       "      <th>7</th>\n",
       "    </tr>\n",
       "  </thead>\n",
       "  <tbody>\n",
       "    <tr>\n",
       "      <th>Profit</th>\n",
       "      <td>6</td>\n",
       "      <td>5</td>\n",
       "      <td>8</td>\n",
       "      <td>9</td>\n",
       "      <td>6</td>\n",
       "      <td>7</td>\n",
       "      <td>3</td>\n",
       "    </tr>\n",
       "    <tr>\n",
       "      <th>Weight</th>\n",
       "      <td>2</td>\n",
       "      <td>3</td>\n",
       "      <td>6</td>\n",
       "      <td>7</td>\n",
       "      <td>5</td>\n",
       "      <td>8</td>\n",
       "      <td>4</td>\n",
       "    </tr>\n",
       "  </tbody>\n",
       "</table>\n",
       "</div>"
      ],
      "text/plain": [
       "        1  2  3  4  5  6  7\n",
       "Profit  6  5  8  9  6  7  3\n",
       "Weight  2  3  6  7  5  8  4"
      ]
     },
     "metadata": {},
     "output_type": "display_data"
    },
    {
     "name": "stdout",
     "output_type": "stream",
     "text": [
      "Note that by default, H_0 will use take the form of a transverse Hamiltonian!\n",
      "\n",
      "gamma parameter has been set to: 1.0\n",
      "\n",
      "alpha parameter has been set to default as: 10\n",
      "\n",
      "H_0 set as mixed!\n",
      "\n",
      "gamma parameter has been set to: 10.0\n",
      "\n"
     ]
    },
    {
     "name": "stderr",
     "output_type": "stream",
     "text": [
      "/opt/homebrew/lib/python3.13/site-packages/qutip/core/qobj.py:1623: UserWarning: Ground state may be degenerate.\n",
      "  warnings.warn(\"Ground state may be degenerate.\", UserWarning)\n"
     ]
    }
   ],
   "source": [
    "#   Parameters to set\n",
    "# profits = np.array([10, 2])\n",
    "# weights = np.array([1, 2])\n",
    "# capacity = 2\n",
    "\n",
    "# profits = np.array([8, 3, 5, 6, 9])\n",
    "# weights = np.array([1, 2, 1, 3, 2])\n",
    "# capacity = 7\n",
    "\n",
    "profits = np.array([6, 5, 8, 9, 6, 7, 3])\n",
    "weights = np.array([2, 3, 6, 7, 5, 8, 4])\n",
    "capacity = 9\n",
    "\n",
    "df = pd.DataFrame({\n",
    "    \"Profit\": profits,\n",
    "    \"Weight\": weights\n",
    "}).T\n",
    "df.columns = range(1, len(df.columns) + 1)\n",
    "\n",
    "display(df)\n",
    "\n",
    "num_steps = 100\n",
    "num_sub_steps = 100\n",
    "\n",
    "sim = Coffey(profits, weights, capacity)\n",
    "\n",
    "sim.set_H_0_state(\"mixed\")\n",
    "sim.set_gamma(10.0)\n",
    "# sim.set_alpha(0)\n",
    "\n",
    "res = sim.anneal(num_steps)\n",
    "# res = sim.manual_anneal(num_steps)\n",
    "probs = sim.compute_probs(res, num_sub_steps)\n",
    "simulated_spectrum = sim.simulate_spectrum(num_sub_steps)\n",
    "computed_spectrum = sim.compute_spectrum(res, num_sub_steps)\n",
    "\n",
    "dis = MakeGraphCoffey()\n",
    "dis.set_probs(probs)\n",
    "dis.set_simulated_spectrum(simulated_spectrum)\n",
    "dis.set_computed_spectrum(computed_spectrum)\n",
    "\n",
    "dis.display_probs(sim)\n",
    "dis.display_filtered_probs(sim)\n",
    "dis.display_graph(sim, 5)"
   ]
  },
  {
   "cell_type": "code",
   "execution_count": null,
   "metadata": {},
   "outputs": [
    {
     "name": "stdout",
     "output_type": "stream",
     "text": [
      "[['| 10010001111 >', np.float64(1.0)]]\n"
     ]
    }
   ],
   "source": [
    "ground_state = Observable.get_ground_eigenstate(sim.get_H(1))\n",
    "\n",
    "basis_system = Basis(sim.get_total_qubits())\n",
    "\n",
    "probs_lst = []\n",
    "for idx, state in enumerate(basis_system.get_basis_states()):\n",
    "    prob = np.power(np.abs(state.dag() * ground_state), 2)\n",
    "    if prob > 0:\n",
    "        probs_lst.append([\"| \" + format(idx, f\"0{sim.get_total_qubits()}b\") + \" >\", prob])\n",
    "\n",
    "print(probs_lst)"
   ]
  },
  {
   "cell_type": "code",
   "execution_count": 22,
   "metadata": {},
   "outputs": [],
   "source": [
    "valid_solutions = [\"1010\", \"1001\"]\n",
    "# valid_solutions = [\"10111111\"]\n",
    "# valid_solutions = ['10010001111']\n",
    "\n",
    "alphas = np.linspace(np.max(sim.get_profits()) + 1, np.max(sim.get_profits()) + 100, 100)\n",
    "gammas = np.linspace(1, 200, 200)\n",
    "\n",
    "prob_matrix = np.zeros((alphas.shape[0], gammas.shape[0]))"
   ]
  },
  {
   "cell_type": "code",
   "execution_count": 23,
   "metadata": {},
   "outputs": [],
   "source": [
    "# %%capture\n",
    "\n",
    "# for i, alpha in enumerate(alphas):\n",
    "#     sim.set_alpha(alpha)\n",
    "#     for j, gamma in enumerate(gammas):\n",
    "#         sim.set_gamma(gamma)\n",
    "#         final_probs = sim.compute_probs(sim.anneal(num_steps), num_sub_steps)[-1]\n",
    "#         total_prob = sum(\n",
    "#             prob\n",
    "#             for idx, prob in enumerate(final_probs)\n",
    "#             if format(idx, f\"0{sim.get_total_qubits()}b\") in valid_solutions\n",
    "#         )\n",
    "#         prob_matrix[i, j] = total_prob"
   ]
  },
  {
   "cell_type": "code",
   "execution_count": 24,
   "metadata": {},
   "outputs": [],
   "source": [
    "# plt.figure(figsize=(10, 8), dpi=300)\n",
    "# plt.imshow(prob_matrix, extent=[gammas.min(), gammas.max(), alphas.min(), alphas.max()], aspect='auto', origin='lower', vmin=0.0, vmax=1.0)\n",
    "# plt.colorbar(label='Solution Probability')\n",
    "# plt.xlabel(r'$\\gamma$')\n",
    "# plt.ylabel(r'$\\alpha$')\n",
    "# plt.title('Solution Probability Heatmap')\n",
    "# plt.grid(False)\n",
    "# plt.show()"
   ]
  },
  {
   "cell_type": "code",
   "execution_count": 25,
   "metadata": {},
   "outputs": [],
   "source": [
    "# %%capture\n",
    "\n",
    "# sim.set_H_0_state(\"mixed\")\n",
    "\n",
    "# for i, alpha in enumerate(alphas):\n",
    "#     sim.set_alpha(alpha)\n",
    "#     for j, gamma in enumerate(gammas):\n",
    "#         sim.set_gamma(gamma)\n",
    "#         final_probs = sim.compute_probs(sim.anneal(num_steps), num_sub_steps)[-1]\n",
    "#         total_prob = sum(\n",
    "#             prob\n",
    "#             for idx, prob in enumerate(final_probs)\n",
    "#             if format(idx, f\"0{sim.get_total_qubits()}b\") in valid_solutions\n",
    "#         )\n",
    "#         prob_matrix[i, j] = total_prob"
   ]
  },
  {
   "cell_type": "code",
   "execution_count": 26,
   "metadata": {},
   "outputs": [],
   "source": [
    "# plt.figure(figsize=(10, 8), dpi=300)\n",
    "# plt.imshow(prob_matrix, extent=[gammas.min(), gammas.max(), alphas.min(), alphas.max()], aspect='auto', origin='lower', vmin=0.0, vmax=1.0)\n",
    "# plt.colorbar(label='Solution Probability')\n",
    "# plt.xlabel(r'$\\gamma$')\n",
    "# plt.ylabel(r'$\\alpha$')\n",
    "# plt.title('Solution Probability Heatmap')\n",
    "# plt.grid(False)\n",
    "# plt.show()"
   ]
  },
  {
   "cell_type": "code",
   "execution_count": null,
   "metadata": {},
   "outputs": [],
   "source": []
  }
 ],
 "metadata": {
  "kernelspec": {
   "display_name": "Python 3",
   "language": "python",
   "name": "python3"
  },
  "language_info": {
   "codemirror_mode": {
    "name": "ipython",
    "version": 3
   },
   "file_extension": ".py",
   "mimetype": "text/x-python",
   "name": "python",
   "nbconvert_exporter": "python",
   "pygments_lexer": "ipython3",
   "version": "3.13.1"
  }
 },
 "nbformat": 4,
 "nbformat_minor": 2
}
