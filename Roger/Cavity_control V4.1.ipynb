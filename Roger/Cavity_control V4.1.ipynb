{
 "cells": [
  {
   "cell_type": "markdown",
   "metadata": {},
   "source": [
    "### Here, I see if I can pick up the Berry phase for SNAP gate.\n",
    "\n",
    "##### In V4.1, I remove the $e^{i \\omega_c t}$ factor. So I use:\n",
    "\n",
    "$$ \\hat{H}_1 = \\epsilon(t) \\hat{a}^\\dag + H.c. $$\n",
    "\n",
    "$$\\alpha = i \\int \\epsilon(t) dt$$"
   ]
  },
  {
   "cell_type": "code",
   "execution_count": 101,
   "metadata": {},
   "outputs": [],
   "source": [
    "import numpy as np\n",
    "from scipy.linalg import expm\n",
    "import scipy\n",
    "import matplotlib.pyplot as plt\n",
    "import time"
   ]
  },
  {
   "cell_type": "code",
   "execution_count": 102,
   "metadata": {},
   "outputs": [],
   "source": [
    "np.set_printoptions(suppress=True)\n",
    "np.set_printoptions(precision=3)"
   ]
  },
  {
   "cell_type": "code",
   "execution_count": 103,
   "metadata": {},
   "outputs": [],
   "source": [
    "cavity_dim = 8\n",
    "omega_q = 21\n",
    "omega_c = 20\n",
    "Delta = omega_q - omega_c\n",
    "chi = 1 / Delta\n",
    "\n",
    "T = 1\n",
    "dt = 0.01\n",
    "t_axis = np.arange(0, T, dt)[0:]"
   ]
  },
  {
   "cell_type": "code",
   "execution_count": 104,
   "metadata": {},
   "outputs": [],
   "source": [
    "sigmaI = np.array(\n",
    "    [\n",
    "        [1, 0],\n",
    "        [0, 1],\n",
    "    ]\n",
    ")\n",
    "sigmaX = np.array(\n",
    "    [\n",
    "        [0, 1],\n",
    "        [1, 0],\n",
    "    ]\n",
    ")\n",
    "# sigmaZ = np.array(\n",
    "#     [\n",
    "#         [-1, 0],\n",
    "#         [0, 1],\n",
    "#     ]\n",
    "# )\n",
    "sigmaBin = np.array(\n",
    "    [\n",
    "        [0, 0],\n",
    "        [0, 1],\n",
    "    ]\n",
    ")\n",
    "\n",
    "# Annihilation operator\n",
    "a = np.zeros((cavity_dim, cavity_dim))\n",
    "n_indices = np.arange(1, cavity_dim)\n",
    "a[n_indices - 1, n_indices] = np.sqrt(n_indices)\n",
    "a_dag = a.conjugate().transpose()\n",
    "# print(a)\n",
    "# print(a_dag)\n",
    "\n",
    "def Fock(n):\n",
    "    vec = [[0] for _ in range(cavity_dim)]\n",
    "    vec[n] = [1]\n",
    "    return np.array(vec)\n",
    "# print(Fock(1))"
   ]
  },
  {
   "cell_type": "code",
   "execution_count": 105,
   "metadata": {},
   "outputs": [],
   "source": [
    "drive_qubit = np.array([0 for t in t_axis])\n",
    "drive_cavity = np.array([18.75/T for t in t_axis])\n",
    "\n",
    "def H(i):\n",
    "    # from the SNAP paper, alpha = 1j * integrate(drive_cavity * dt)\n",
    "    return (\n",
    "        omega_q * np.kron(sigmaBin, np.identity(cavity_dim))\n",
    "      + (omega_c - chi*np.kron(sigmaBin, np.identity(cavity_dim))) * (np.kron(sigmaI, a_dag) @ np.kron(sigmaI, a))\n",
    "      + drive_cavity[i] * np.kron(sigmaI, a_dag) + drive_cavity[i].conjugate() * np.kron(sigmaI, a)\n",
    "      + drive_qubit[i] * np.kron(np.array([[0,0],[1,0]]), np.identity(cavity_dim)) + drive_qubit[i].conjugate() * np.kron(np.array([[0,1],[0,0]]), np.identity(cavity_dim))\n",
    "    )\n",
    "\n",
    "def D(alpha):\n",
    "    return expm(alpha * np.kron(sigmaI, a_dag) - np.conjugate(alpha) * np.kron(sigmaI, a))\n",
    "# def D(alpha):\n",
    "#     return expm(alpha * a_dag - np.conjugate(alpha) * a)\n",
    "\n",
    "def CoheState(alpha):\n",
    "    ket = np.zeros((cavity_dim, 1), dtype=np.complex128)\n",
    "    ket[0] = 1. + 0j\n",
    "    for n in range(1, cavity_dim):\n",
    "        ket[n] = ket[n-1] * alpha / np.sqrt(n)\n",
    "    return ket / np.linalg.norm(ket)\n",
    "    # return ket * expm(-np.abs(alpha)**2 / 2)\n",
    "    "
   ]
  },
  {
   "cell_type": "code",
   "execution_count": 106,
   "metadata": {},
   "outputs": [
    {
     "data": {
      "text/plain": [
       "18.75j"
      ]
     },
     "execution_count": 106,
     "metadata": {},
     "output_type": "execute_result"
    }
   ],
   "source": [
    "1j * sum(drive_cavity * dt)"
   ]
  },
  {
   "cell_type": "code",
   "execution_count": 107,
   "metadata": {},
   "outputs": [],
   "source": [
    "# H(len(t_axis)-1)\n",
    "# eigenVals, eigenVecs = np.linalg.eigh(H(0))"
   ]
  },
  {
   "cell_type": "code",
   "execution_count": 108,
   "metadata": {},
   "outputs": [
    {
     "name": "stdout",
     "output_type": "stream",
     "text": [
      "[[-0.24 -0.556j -0.209+0.374j  0.421-0.233j -0.247-0.115j  0.014+0.254j\n",
      "   0.087-0.211j -0.087+0.124j  0.046-0.052j  0.   +0.j     0.   +0.j\n",
      "   0.   +0.j     0.   +0.j     0.   +0.j     0.   +0.j     0.   +0.j\n",
      "   0.   +0.j   ]\n",
      " [-0.209+0.374j  0.133-0.487j  0.176-0.168j -0.031-0.264j -0.238+0.382j\n",
      "   0.283-0.252j -0.22 +0.141j  0.116-0.063j  0.   +0.j     0.   +0.j\n",
      "   0.   +0.j     0.   +0.j     0.   +0.j     0.   +0.j     0.   +0.j\n",
      "   0.   +0.j   ]\n",
      " [ 0.421-0.233j  0.176-0.168j -0.07 -0.772j  0.007+0.018j -0.144-0.087j\n",
      "   0.037+0.237j -0.058-0.11j   0.083+0.017j  0.   +0.j     0.   +0.j\n",
      "   0.   +0.j     0.   +0.j     0.   +0.j     0.   +0.j     0.   +0.j\n",
      "   0.   +0.j   ]\n",
      " [-0.247-0.115j -0.031-0.264j  0.007+0.018j -0.206-0.645j  0.073-0.092j\n",
      "  -0.43 +0.376j  0.215-0.026j  0.071-0.066j  0.   +0.j     0.   +0.j\n",
      "   0.   +0.j     0.   +0.j     0.   +0.j     0.   +0.j     0.   +0.j\n",
      "   0.   +0.j   ]\n",
      " [ 0.014+0.254j -0.238+0.382j -0.144-0.087j  0.073-0.092j -0.524-0.199j\n",
      "  -0.146+0.06j  -0.039+0.427j  0.364-0.19j   0.   +0.j     0.   +0.j\n",
      "   0.   +0.j     0.   +0.j     0.   +0.j     0.   +0.j     0.   +0.j\n",
      "   0.   +0.j   ]\n",
      " [ 0.087-0.211j  0.283-0.252j  0.037+0.237j -0.43 +0.376j -0.146+0.06j\n",
      "  -0.251-0.039j  0.042+0.272j  0.412+0.292j  0.   +0.j     0.   +0.j\n",
      "   0.   +0.j     0.   +0.j     0.   +0.j     0.   +0.j     0.   +0.j\n",
      "   0.   +0.j   ]\n",
      " [-0.087+0.124j -0.22 +0.141j -0.058-0.11j   0.215-0.026j -0.039+0.427j\n",
      "   0.042+0.272j  0.248+0.006j  0.071+0.722j  0.   +0.j     0.   +0.j\n",
      "   0.   +0.j     0.   +0.j     0.   +0.j     0.   +0.j     0.   +0.j\n",
      "   0.   +0.j   ]\n",
      " [ 0.046-0.052j  0.116-0.063j  0.083+0.017j  0.071-0.066j  0.364-0.19j\n",
      "   0.412+0.292j  0.071+0.722j -0.105+0.026j  0.   +0.j     0.   +0.j\n",
      "   0.   +0.j     0.   +0.j     0.   +0.j     0.   +0.j     0.   +0.j\n",
      "   0.   +0.j   ]\n",
      " [ 0.   +0.j     0.   +0.j     0.   +0.j     0.   +0.j     0.   +0.j\n",
      "   0.   +0.j     0.   +0.j     0.   +0.j    -0.752-0.334j  0.25 +0.307j\n",
      "   0.28 -0.024j -0.116-0.088j -0.104+0.08j   0.167-0.036j -0.125+0.001j\n",
      "   0.058+0.007j]\n",
      " [ 0.   +0.j     0.   +0.j     0.   +0.j     0.   +0.j     0.   +0.j\n",
      "   0.   +0.j     0.   +0.j     0.   +0.j     0.25 +0.307j -0.104-0.057j\n",
      "   0.718+0.233j -0.077-0.148j -0.28 +0.07j   0.309+0.j    -0.198-0.062j\n",
      "   0.083+0.054j]\n",
      " [ 0.   +0.j     0.   +0.j     0.   +0.j     0.   +0.j     0.   +0.j\n",
      "   0.   +0.j     0.   +0.j     0.   +0.j     0.28 -0.024j  0.718+0.233j\n",
      "   0.118-0.054j  0.455+0.233j -0.15 -0.117j -0.019+0.029j  0.07 -0.122j\n",
      "  -0.056+0.111j]\n",
      " [ 0.   +0.j     0.   +0.j     0.   +0.j     0.   +0.j     0.   +0.j\n",
      "   0.   +0.j     0.   +0.j     0.   +0.j    -0.116-0.088j -0.077-0.148j\n",
      "   0.455+0.233j  0.275+0.069j  0.555+0.113j -0.38 -0.273j  0.212-0.025j\n",
      "  -0.125+0.094j]\n",
      " [ 0.   +0.j     0.   +0.j     0.   +0.j     0.   +0.j     0.   +0.j\n",
      "   0.   +0.j     0.   +0.j     0.   +0.j    -0.104+0.08j  -0.28 +0.07j\n",
      "  -0.15 -0.117j  0.555+0.113j  0.261-0.078j  0.512-0.205j -0.368-0.142j\n",
      "   0.077+0.061j]\n",
      " [ 0.   +0.j     0.   +0.j     0.   +0.j     0.   +0.j     0.   +0.j\n",
      "   0.   +0.j     0.   +0.j     0.   +0.j     0.167-0.036j  0.309+0.j\n",
      "  -0.019+0.029j -0.38 -0.273j  0.512-0.205j  0.43 -0.083j  0.129-0.259j\n",
      "  -0.219-0.169j]\n",
      " [ 0.   +0.j     0.   +0.j     0.   +0.j     0.   +0.j     0.   +0.j\n",
      "   0.   +0.j     0.   +0.j     0.   +0.j    -0.125+0.001j -0.198-0.062j\n",
      "   0.07 -0.122j  0.212-0.025j -0.368-0.142j  0.129-0.259j  0.582-0.243j\n",
      "  -0.112-0.476j]\n",
      " [ 0.   +0.j     0.   +0.j     0.   +0.j     0.   +0.j     0.   +0.j\n",
      "   0.   +0.j     0.   +0.j     0.   +0.j     0.058+0.007j  0.083+0.054j\n",
      "  -0.056+0.111j -0.125+0.094j  0.077+0.061j -0.219-0.169j -0.112-0.476j\n",
      "   0.742-0.269j]]\n"
     ]
    }
   ],
   "source": [
    "Unitary = np.identity(len(H(0)))\n",
    "for i in range(len(t_axis)):\n",
    "    Unitary = expm(-1j * H(i) * dt) @ Unitary\n",
    "print(Unitary)"
   ]
  },
  {
   "cell_type": "code",
   "execution_count": 109,
   "metadata": {},
   "outputs": [
    {
     "data": {
      "text/plain": [
       "array([[0.366],\n",
       "       [0.183],\n",
       "       [0.232],\n",
       "       [0.074],\n",
       "       [0.065],\n",
       "       [0.052],\n",
       "       [0.023],\n",
       "       [0.005],\n",
       "       [0.   ],\n",
       "       [0.   ],\n",
       "       [0.   ],\n",
       "       [0.   ],\n",
       "       [0.   ],\n",
       "       [0.   ],\n",
       "       [0.   ],\n",
       "       [0.   ]])"
      ]
     },
     "execution_count": 109,
     "metadata": {},
     "output_type": "execute_result"
    }
   ],
   "source": [
    "# Unitary @ np.kron( np.array([[1], [0]]), Fock(0))\n",
    "\n",
    "np.abs(Unitary @ np.kron( np.array([[1], [0]]), Fock(0)))**2"
   ]
  },
  {
   "cell_type": "code",
   "execution_count": 110,
   "metadata": {},
   "outputs": [
    {
     "data": {
      "text/plain": [
       "array([[0.368],\n",
       "       [0.368],\n",
       "       [0.184],\n",
       "       [0.061],\n",
       "       [0.015],\n",
       "       [0.003],\n",
       "       [0.   ],\n",
       "       [0.   ],\n",
       "       [0.   ],\n",
       "       [0.   ],\n",
       "       [0.   ],\n",
       "       [0.   ],\n",
       "       [0.   ],\n",
       "       [0.   ],\n",
       "       [0.   ],\n",
       "       [0.   ]])"
      ]
     },
     "execution_count": 110,
     "metadata": {},
     "output_type": "execute_result"
    }
   ],
   "source": [
    "# D(1j) @ np.kron( np.array([[1], [0]]), Fock(0))\n",
    "\n",
    "np.abs(D(1j) @ np.kron( np.array([[1], [0]]), Fock(0)))**2"
   ]
  },
  {
   "cell_type": "code",
   "execution_count": 111,
   "metadata": {},
   "outputs": [
    {
     "data": {
      "text/plain": [
       "array([[0.368],\n",
       "       [0.368],\n",
       "       [0.184],\n",
       "       [0.061],\n",
       "       [0.015],\n",
       "       [0.003],\n",
       "       [0.001],\n",
       "       [0.   ],\n",
       "       [0.   ],\n",
       "       [0.   ],\n",
       "       [0.   ],\n",
       "       [0.   ],\n",
       "       [0.   ],\n",
       "       [0.   ],\n",
       "       [0.   ],\n",
       "       [0.   ]])"
      ]
     },
     "execution_count": 111,
     "metadata": {},
     "output_type": "execute_result"
    }
   ],
   "source": [
    "# np.kron( np.array([[1], [0]]), CoheState(1j))\n",
    "\n",
    "np.abs(np.kron( np.array([[1], [0]]), CoheState(1j)))**2"
   ]
  },
  {
   "cell_type": "code",
   "execution_count": null,
   "metadata": {},
   "outputs": [],
   "source": []
  },
  {
   "cell_type": "code",
   "execution_count": 112,
   "metadata": {},
   "outputs": [
    {
     "name": "stdout",
     "output_type": "stream",
     "text": [
      "[[-0.466+0.51j   0.566-0.181j -0.353-0.076j  0.134+0.118j -0.023-0.074j\n",
      "  -0.005+0.032j  0.005-0.011j -0.002+0.003j  0.   +0.j     0.   +0.j\n",
      "   0.   +0.j     0.   +0.j     0.   +0.j     0.   +0.j     0.   +0.j\n",
      "   0.   +0.j   ]\n",
      " [ 0.477+0.355j  0.073+0.164j  0.065-0.528j -0.263+0.379j  0.278-0.109j\n",
      "  -0.159+0.002j  0.064+0.008j -0.02 -0.002j  0.   +0.j     0.   +0.j\n",
      "   0.   +0.j     0.   +0.j     0.   +0.j     0.   +0.j     0.   +0.j\n",
      "   0.   +0.j   ]\n",
      " [ 0.187-0.309j  0.467-0.254j -0.122+0.021j -0.282-0.12j   0.206+0.505j\n",
      "  -0.077-0.379j  0.051+0.157j -0.032-0.045j  0.   +0.j     0.   +0.j\n",
      "   0.   +0.j     0.   +0.j     0.   +0.j     0.   +0.j     0.   +0.j\n",
      "   0.   +0.j   ]\n",
      " [-0.162-0.075j -0.273-0.371j -0.067-0.299j -0.29 +0.399j -0.451+0.095j\n",
      "   0.38 -0.128j -0.038+0.159j -0.055-0.125j  0.   +0.j     0.   +0.j\n",
      "   0.   +0.j     0.   +0.j     0.   +0.j     0.   +0.j     0.   +0.j\n",
      "   0.   +0.j   ]\n",
      " [-0.027+0.073j -0.235+0.184j -0.545+0.032j -0.339-0.312j  0.023-0.137j\n",
      "  -0.168+0.116j  0.064+0.385j  0.08 -0.418j  0.   +0.j     0.   +0.j\n",
      "   0.   +0.j     0.   +0.j     0.   +0.j     0.   +0.j     0.   +0.j\n",
      "   0.   +0.j   ]\n",
      " [ 0.031+0.006j  0.127+0.096j  0.182+0.341j -0.002+0.401j -0.192-0.07j\n",
      "  -0.269-0.168j -0.201+0.242j  0.632-0.151j  0.   +0.j     0.   +0.j\n",
      "   0.   +0.j     0.   +0.j     0.   +0.j     0.   +0.j     0.   +0.j\n",
      "   0.   +0.j   ]\n",
      " [-0.002-0.012j  0.01 -0.064j  0.056-0.155j -0.01 -0.163j -0.385-0.064j\n",
      "  -0.314-0.023j  0.636+0.226j  0.142+0.462j  0.   +0.j     0.   +0.j\n",
      "   0.   +0.j     0.   +0.j     0.   +0.j     0.   +0.j     0.   +0.j\n",
      "   0.   +0.j   ]\n",
      " [-0.003+0.002j -0.018+0.009j -0.046+0.03j  -0.033+0.132j  0.043+0.424j\n",
      "  -0.062+0.646j -0.294+0.384j -0.031+0.374j  0.   +0.j     0.   +0.j\n",
      "   0.   +0.j     0.   +0.j     0.   +0.j     0.   +0.j     0.   +0.j\n",
      "   0.   +0.j   ]\n",
      " [ 0.   +0.j     0.   +0.j     0.   +0.j     0.   +0.j     0.   +0.j\n",
      "   0.   +0.j     0.   +0.j     0.   +0.j     0.798+0.27j  -0.11 -0.48j\n",
      "  -0.145+0.144j  0.069+0.017j -0.007-0.02j  -0.007+0.004j  0.005+0.002j\n",
      "  -0.002-0.001j]\n",
      " [ 0.   +0.j     0.   +0.j     0.   +0.j     0.   +0.j     0.   +0.j\n",
      "   0.   +0.j     0.   +0.j     0.   +0.j     0.327-0.368j  0.546+0.099j\n",
      "  -0.211-0.528j -0.187+0.262j  0.122-0.j    -0.031-0.063j -0.001+0.047j\n",
      "   0.005-0.02j ]\n",
      " [ 0.   +0.j     0.   +0.j     0.   +0.j     0.   +0.j     0.   +0.j\n",
      "   0.   +0.j     0.   +0.j     0.   +0.j    -0.089-0.183j  0.307-0.479j\n",
      "   0.29 +0.026j -0.317-0.488j -0.141+0.274j  0.243-0.116j -0.182+0.055j\n",
      "   0.086-0.015j]\n",
      " [ 0.   +0.j     0.   +0.j     0.   +0.j     0.   +0.j     0.   +0.j\n",
      "   0.   +0.j     0.   +0.j     0.   +0.j    -0.071+0.003j -0.187-0.262j\n",
      "   0.213-0.542j  0.169-0.052j -0.015-0.449j  0.126+0.357j -0.242-0.268j\n",
      "   0.133+0.169j]\n",
      " [ 0.   +0.j     0.   +0.j     0.   +0.j     0.   +0.j     0.   +0.j\n",
      "   0.   +0.j     0.   +0.j     0.   +0.j    -0.007+0.02j  -0.117+0.035j\n",
      "  -0.213-0.222j  0.357-0.273j  0.412+0.46j   0.055-0.29j  -0.107-0.311j\n",
      "  -0.113+0.313j]\n",
      " [ 0.   +0.j     0.   +0.j     0.   +0.j     0.   +0.j     0.   +0.j\n",
      "   0.   +0.j     0.   +0.j     0.   +0.j     0.003+0.007j -0.014+0.069j\n",
      "  -0.199+0.181j -0.378+0.004j  0.268-0.124j  0.549+0.246j  0.022-0.361j\n",
      "  -0.427-0.134j]\n",
      " [ 0.   +0.j     0.   +0.j     0.   +0.j     0.   +0.j     0.   +0.j\n",
      "   0.   +0.j     0.   +0.j     0.   +0.j     0.005-0.002j  0.047+0.002j\n",
      "   0.178+0.069j  0.308+0.187j  0.329+0.j     0.306-0.192j -0.172-0.054j\n",
      "   0.398-0.634j]\n",
      " [ 0.   +0.j     0.   +0.j     0.   +0.j     0.   +0.j     0.   +0.j\n",
      "   0.   +0.j     0.   +0.j     0.   +0.j    -0.001-0.002j -0.007-0.019j\n",
      "  -0.012-0.087j -0.001-0.215j  0.019-0.332j  0.265-0.361j  0.747-0.044j\n",
      "   0.243+0.123j]]\n"
     ]
    }
   ],
   "source": [
    "def H(i):\n",
    "    # from the SNAP paper, alpha = 1j * integrate(drive_cavity * dt)\n",
    "    return (\n",
    "        omega_q * np.kron(sigmaBin, np.identity(cavity_dim))\n",
    "      + (omega_c - chi*np.kron(sigmaBin, np.identity(cavity_dim))) * (np.kron(sigmaI, a_dag) @ np.kron(sigmaI, a))\n",
    "      + drive_cavity[i] * np.exp(1j * omega_c * i*dt) * np.kron(sigmaI, a_dag) + drive_cavity[i].conjugate() * np.exp(-1j * omega_c * i*dt) * np.kron(sigmaI, a)\n",
    "      + drive_qubit[i] * np.exp(1j * omega_q * i*dt) * np.kron(np.array([[0,0],[1,0]]), np.identity(cavity_dim)) + drive_qubit[i].conjugate() * np.exp(-1j * omega_q * i*dt) * np.kron(np.array([[0,1],[0,0]]), np.identity(cavity_dim))\n",
    "    )\n",
    "\n",
    "H(len(t_axis)-1)\n",
    "\n",
    "Unitary = np.identity(len(H(0)))\n",
    "for i in range(len(t_axis)):\n",
    "    Unitary = expm(-1j * H(i) * dt) @ Unitary\n",
    "print(Unitary)"
   ]
  },
  {
   "cell_type": "code",
   "execution_count": 113,
   "metadata": {},
   "outputs": [
    {
     "data": {
      "text/plain": [
       "array([[0.477],\n",
       "       [0.353],\n",
       "       [0.131],\n",
       "       [0.032],\n",
       "       [0.006],\n",
       "       [0.001],\n",
       "       [0.   ],\n",
       "       [0.   ],\n",
       "       [0.   ],\n",
       "       [0.   ],\n",
       "       [0.   ],\n",
       "       [0.   ],\n",
       "       [0.   ],\n",
       "       [0.   ],\n",
       "       [0.   ],\n",
       "       [0.   ]])"
      ]
     },
     "execution_count": 113,
     "metadata": {},
     "output_type": "execute_result"
    }
   ],
   "source": [
    "# Unitary @ np.kron( np.array([[1], [0]]), Fock(0))\n",
    "\n",
    "np.abs(Unitary @ np.kron( np.array([[1], [0]]), Fock(0)))**2"
   ]
  },
  {
   "cell_type": "code",
   "execution_count": 114,
   "metadata": {},
   "outputs": [
    {
     "data": {
      "text/plain": [
       "array([[0.368],\n",
       "       [0.368],\n",
       "       [0.184],\n",
       "       [0.061],\n",
       "       [0.015],\n",
       "       [0.003],\n",
       "       [0.   ],\n",
       "       [0.   ],\n",
       "       [0.   ],\n",
       "       [0.   ],\n",
       "       [0.   ],\n",
       "       [0.   ],\n",
       "       [0.   ],\n",
       "       [0.   ],\n",
       "       [0.   ],\n",
       "       [0.   ]])"
      ]
     },
     "execution_count": 114,
     "metadata": {},
     "output_type": "execute_result"
    }
   ],
   "source": [
    "# D(1j) @ np.kron( np.array([[1], [0]]), Fock(0))\n",
    "\n",
    "np.abs(D(1j) @ np.kron( np.array([[1], [0]]), Fock(0)))**2"
   ]
  },
  {
   "cell_type": "code",
   "execution_count": 115,
   "metadata": {},
   "outputs": [
    {
     "data": {
      "text/plain": [
       "array([[0.368],\n",
       "       [0.368],\n",
       "       [0.184],\n",
       "       [0.061],\n",
       "       [0.015],\n",
       "       [0.003],\n",
       "       [0.001],\n",
       "       [0.   ],\n",
       "       [0.   ],\n",
       "       [0.   ],\n",
       "       [0.   ],\n",
       "       [0.   ],\n",
       "       [0.   ],\n",
       "       [0.   ],\n",
       "       [0.   ],\n",
       "       [0.   ]])"
      ]
     },
     "execution_count": 115,
     "metadata": {},
     "output_type": "execute_result"
    }
   ],
   "source": [
    "# np.kron( np.array([[1], [0]]), CoheState(1j))\n",
    "\n",
    "np.abs(np.kron( np.array([[1], [0]]), CoheState(1j)))**2"
   ]
  },
  {
   "cell_type": "code",
   "execution_count": null,
   "metadata": {},
   "outputs": [],
   "source": []
  }
 ],
 "metadata": {
  "kernelspec": {
   "display_name": "env",
   "language": "python",
   "name": "python3"
  },
  "language_info": {
   "codemirror_mode": {
    "name": "ipython",
    "version": 3
   },
   "file_extension": ".py",
   "mimetype": "text/x-python",
   "name": "python",
   "nbconvert_exporter": "python",
   "pygments_lexer": "ipython3",
   "version": "3.12.5"
  }
 },
 "nbformat": 4,
 "nbformat_minor": 2
}
