{
 "cells": [
  {
   "cell_type": "markdown",
   "metadata": {},
   "source": [
    "### This file was created on 2025/03/07. I was debugging with Jun Rui in SPS room."
   ]
  },
  {
   "cell_type": "code",
   "execution_count": 75,
   "metadata": {},
   "outputs": [],
   "source": [
    "import numpy as np\n",
    "from scipy.linalg import expm\n",
    "import scipy\n",
    "import matplotlib.pyplot as plt"
   ]
  },
  {
   "cell_type": "code",
   "execution_count": 76,
   "metadata": {},
   "outputs": [],
   "source": [
    "# np.set_printoptions(suppress=True)\n",
    "np.set_printoptions(precision=3)"
   ]
  },
  {
   "cell_type": "code",
   "execution_count": 77,
   "metadata": {},
   "outputs": [],
   "source": [
    "# Values = [10, 2]\n",
    "Values = [10, 5]\n",
    "Weights = [2, 3]\n",
    "# Weights = [2, 3]\n",
    "Ancil = [1, 2]\n",
    "\n",
    "# alpha = 100  # this gave best accuracy so far!\n",
    "alpha = 1\n",
    "# beta = 4.01\n",
    "beta = 1\n",
    "gamma = max(Values) + 1\n",
    "T = 1\n",
    "t_axis = np.arange(0, T, 0.01)"
   ]
  },
  {
   "cell_type": "code",
   "execution_count": 78,
   "metadata": {},
   "outputs": [],
   "source": [
    "sigmaI = np.array(\n",
    "    [\n",
    "        [1, 0],\n",
    "        [0, 1],\n",
    "    ]\n",
    ")\n",
    "sigmaX = np.array(\n",
    "    [\n",
    "        [0, 1],\n",
    "        [1, 0],\n",
    "    ]\n",
    ")\n",
    "sigmaBin = np.array(\n",
    "    [\n",
    "        [0, 0],\n",
    "        [0, 1],\n",
    "    ]\n",
    ")"
   ]
  },
  {
   "cell_type": "code",
   "execution_count": 79,
   "metadata": {},
   "outputs": [
    {
     "name": "stdout",
     "output_type": "stream",
     "text": [
      "-47.34465334125993\n",
      "[-1.224e-05  8.115e-05 -3.719e-04  1.357e-03 -4.178e-03  1.118e-02\n",
      " -2.644e-02  5.592e-02 -1.064e-01  1.824e-01 -2.815e-01  3.889e-01\n",
      " -4.749e-01  4.997e-01 -4.280e-01  2.500e-01]\n"
     ]
    }
   ],
   "source": [
    "# H0 = np.zeros((2**(len(Values) + len(Ancil)), 2**(len(Values) + len(Ancil))))\n",
    "# H0 = np.kron(np.kron(np.kron(sigmaX, sigmaI), sigmaI), sigmaI) + np.kron(np.kron(np.kron(sigmaI, sigmaX), sigmaI), sigmaI) + np.kron(np.kron(np.kron(sigmaI, sigmaI), sigmaX), sigmaI) + np.kron(np.kron(np.kron(sigmaI, sigmaI), sigmaI), sigmaX)\n",
    "H0 = np.array([[ 0.,7.14,0.,0.,0.,0.,0.,0.,0.,0.\n",
    ",0.,0.,0.,0.,0.,0.,],\n",
    "[ 7.14,0.,10.097,0.,0.,0.,0.,0.,0.,0.\n",
    ",0.,0.,0.,0.,0.,0.,],\n",
    "[ 0.,10.097,0.,12.367,0.,0.,0.,0.,0.,0.\n",
    ",0.,0.,0.,0.,0.,0.,],\n",
    "[ 0.,0.,12.367,0.,14.28,0.,0.,0.,0.,0.\n",
    ",0.,0.,0.,0.,0.,0.,],\n",
    "[ 0.,0.,0.,14.28,0.,15.966,0.,0.,0.,0.\n",
    ",0.,0.,0.,0.,0.,0.,],\n",
    "[ 0.,0.,0.,0.,15.966,0.,17.489,0.,0.,0.\n",
    ",0.,0.,0.,0.,0.,0.,],\n",
    "[ 0.,0.,0.,0.,0.,17.489,0.,18.891,0.,0.\n",
    ",0.,0.,0.,0.,0.,0.,],\n",
    "[ 0.,0.,0.,0.,0.,0.,18.891,0.,20.195,0.\n",
    ",0.,0.,0.,0.,0.,0.,],\n",
    "[ 0.,0.,0.,0.,0.,0.,0.,20.195,0.,21.42\n",
    ",0.,0.,0.,0.,0.,0.,],\n",
    "[ 0.,0.,0.,0.,0.,0.,0.,0.,21.42,0.\n",
    ",22.579,0.,0.,0.,0.,0.,],\n",
    "[ 0.,0.,0.,0.,0.,0.,0.,0.,0.,22.579\n",
    ",0.,23.681,0.,0.,0.,0.,],\n",
    "[ 0.,0.,0.,0.,0.,0.,0.,0.,0.,0.\n",
    ",23.681,0.,24.734,0.,0.,0.,],\n",
    "[ 0.,0.,0.,0.,0.,0.,0.,0.,0.,0.\n",
    ",0.,24.734,0.,25.744,0.,0.,],\n",
    "[ 0.,0.,0.,0.,0.,0.,0.,0.,0.,0.\n",
    ",0.,0.,25.744,0.,26.715,0.,],\n",
    "[ 0.,0.,0.,0.,0.,0.,0.,0.,0.,0.\n",
    ",0.,0.,0.,26.715,0.,27.653],\n",
    "[ 0.,0.,0.,0.,0.,0.,0.,0.,0.,0.\n",
    ",0.,0.,0.,0.,27.653,0.,]])\n",
    "# print(H0)\n",
    "\n",
    "eigenvals_H0, eigenvecs_H0 = np.linalg.eigh(H0)\n",
    "ground_idx_H0 = eigenvals_H0.argsort()[0]\n",
    "print(eigenvals_H0[ground_idx_H0])\n",
    "print(eigenvecs_H0[:, ground_idx_H0])"
   ]
  },
  {
   "cell_type": "code",
   "execution_count": 80,
   "metadata": {},
   "outputs": [
    {
     "name": "stdout",
     "output_type": "stream",
     "text": [
      "[-1.224e-05  8.115e-05 -3.719e-04  1.357e-03 -4.178e-03  1.118e-02\n",
      " -2.644e-02  5.592e-02 -1.064e-01  1.824e-01 -2.815e-01  3.889e-01\n",
      " -4.749e-01  4.997e-01 -4.280e-01  2.500e-01]\n"
     ]
    }
   ],
   "source": [
    "print(np.linalg.eigh(H0)[1][:,0])"
   ]
  },
  {
   "cell_type": "code",
   "execution_count": null,
   "metadata": {},
   "outputs": [],
   "source": []
  },
  {
   "cell_type": "code",
   "execution_count": null,
   "metadata": {},
   "outputs": [],
   "source": []
  },
  {
   "cell_type": "code",
   "execution_count": 81,
   "metadata": {},
   "outputs": [
    {
     "name": "stdout",
     "output_type": "stream",
     "text": [
      "-10.0\n",
      "[0. 0. 0. 0. 0. 0. 0. 0. 0. 1. 0. 0. 0. 0. 0. 0.]\n"
     ]
    }
   ],
   "source": [
    "Hp = (\n",
    "    - (Values[0] * np.kron(np.kron(np.kron(sigmaBin, sigmaI), sigmaI), sigmaI) + Values[1] * np.kron(np.kron(np.kron(sigmaI, sigmaBin), sigmaI), sigmaI))\n",
    "    + gamma * (\n",
    "        (Weights[0] * np.kron(np.kron(np.kron(sigmaBin, sigmaI), sigmaI), sigmaI) + Weights[1] * np.kron(np.kron(np.kron(sigmaI, sigmaBin), sigmaI), sigmaI))\n",
    "      - (Ancil[0] * np.kron(np.kron(np.kron(sigmaI, sigmaI), sigmaBin), sigmaI) + Ancil[1] * np.kron(np.kron(np.kron(sigmaI, sigmaI), sigmaI), sigmaBin))\n",
    "    )**2\n",
    ")\n",
    "# print(Hp)\n",
    "\n",
    "eigenvals_Hp, eigenvecs_Hp = np.linalg.eigh(Hp)\n",
    "ground_idx_Hp = eigenvals_Hp.argsort()[0]\n",
    "print(eigenvals_Hp[ground_idx_Hp])\n",
    "print(eigenvecs_Hp[:, ground_idx_Hp])\n"
   ]
  },
  {
   "cell_type": "code",
   "execution_count": 82,
   "metadata": {},
   "outputs": [],
   "source": [
    "# def t_stepped(t, num_steps=3):\n",
    "#     i = t // (T / num_steps)\n",
    "#     return (i) * (t / num_steps)\n",
    "\n",
    "def H(t):\n",
    "    return alpha * ( (1 - t/T)*beta*H0 + (t/T)*Hp )\n",
    "\n",
    "# def H(t):\n",
    "#     return alpha * ( (1 - t_stepped(t)/T)*beta*H0 + (t_stepped(t)/T)*Hp )\n",
    "\n",
    "# print(H(0))\n",
    "# print(H(T))"
   ]
  },
  {
   "cell_type": "code",
   "execution_count": 83,
   "metadata": {},
   "outputs": [
    {
     "data": {
      "text/plain": [
       "[<matplotlib.lines.Line2D at 0x16961e480>,\n",
       " <matplotlib.lines.Line2D at 0x16961e4b0>,\n",
       " <matplotlib.lines.Line2D at 0x16961e5d0>,\n",
       " <matplotlib.lines.Line2D at 0x16961e6f0>,\n",
       " <matplotlib.lines.Line2D at 0x1694ac440>]"
      ]
     },
     "execution_count": 83,
     "metadata": {},
     "output_type": "execute_result"
    },
    {
     "data": {
      "image/png": "[encoded data removed]",
      "text/plain": [
       "<Figure size 640x480 with 1 Axes>"
      ]
     },
     "metadata": {},
     "output_type": "display_data"
    }
   ],
   "source": [
    "instant_eigenvals = []\n",
    "for t in t_axis:\n",
    "    eigenvals, eigenvecs = np.linalg.eigh(H(t))\n",
    "    instant_eigenvals.append(eigenvals[eigenvals.argsort()[0:5]])\n",
    "\n",
    "# print(instant_eigenvals)\n",
    "plt.plot(t_axis, instant_eigenvals)"
   ]
  },
  {
   "cell_type": "code",
   "execution_count": 84,
   "metadata": {},
   "outputs": [],
   "source": [
    "# psi_ini = eigenvecs_H0[:, ground_idx_H0]\n",
    "# print(psi_ini)\n",
    "# print(np.linalg.norm(psi_ini))"
   ]
  },
  {
   "cell_type": "code",
   "execution_count": 85,
   "metadata": {},
   "outputs": [],
   "source": [
    "# psi_final = U @ psi_ini\n",
    "# print(psi_final)\n",
    "# print(np.linalg.norm(psi_final))"
   ]
  },
  {
   "cell_type": "code",
   "execution_count": 86,
   "metadata": {},
   "outputs": [
    {
     "name": "stdout",
     "output_type": "stream",
     "text": [
      "[0. 0. 0. 0. 0. 0. 0. 0. 0. 1. 0. 0. 0. 0. 0. 0.]\n"
     ]
    }
   ],
   "source": [
    "psi_correct = eigenvecs_Hp[:, ground_idx_Hp]\n",
    "print(psi_correct)"
   ]
  },
  {
   "cell_type": "code",
   "execution_count": 87,
   "metadata": {},
   "outputs": [],
   "source": [
    "# def int_H(t):\n",
    "#     return 0.5 * alpha * t / T * (2 * beta * H0*T + (-beta * H0 + Hp)*t )\n",
    "\n",
    "def H_rc_wrapper(row, col):\n",
    "    def H_rc(t):\n",
    "        return alpha * ( (1 - t_stepped(t)/T)*beta*H0[row][col] + (t_stepped(t)/T)*Hp[row][col] )\n",
    "    return H_rc\n",
    "\n",
    "def int_H(t):\n",
    "    int_H_matrix = np.zeros(H0.shape)\n",
    "    \n",
    "    for row in range(len(H0)):\n",
    "        for col in range(len(H0)):\n",
    "            int_H_matrix[row][col] = scipy.integrate.quad(H_rc_wrapper(row, col), 0, t)[0]\n",
    "    \n",
    "    return int_H_matrix\n",
    "\n",
    "\n",
    "def Unitary(t):\n",
    "    return expm(-1j * int_H(t))"
   ]
  },
  {
   "cell_type": "code",
   "execution_count": 88,
   "metadata": {},
   "outputs": [
    {
     "data": {
      "text/plain": [
       "array([[ 0.   ,  5.421,  0.   ,  0.   ,  0.   ,  0.   ,  0.   ,  0.   ,\n",
       "         0.   ,  0.   ,  0.   ,  0.   ,  0.   ,  0.   ,  0.   ,  0.   ],\n",
       "       [ 5.421, 10.593,  7.666,  0.   ,  0.   ,  0.   ,  0.   ,  0.   ,\n",
       "         0.   ,  0.   ,  0.   ,  0.   ,  0.   ,  0.   ,  0.   ,  0.   ],\n",
       "       [ 0.   ,  7.666,  2.648,  9.39 ,  0.   ,  0.   ,  0.   ,  0.   ,\n",
       "         0.   ,  0.   ,  0.   ,  0.   ,  0.   ,  0.   ,  0.   ,  0.   ],\n",
       "       [ 0.   ,  0.   ,  9.39 , 23.833, 10.842,  0.   ,  0.   ,  0.   ,\n",
       "         0.   ,  0.   ,  0.   ,  0.   ,  0.   ,  0.   ,  0.   ,  0.   ],\n",
       "       [ 0.   ,  0.   ,  0.   , 10.842, 22.63 , 12.122,  0.   ,  0.   ,\n",
       "         0.   ,  0.   ,  0.   ,  0.   ,  0.   ,  0.   ,  0.   ,  0.   ],\n",
       "       [ 0.   ,  0.   ,  0.   ,  0.   , 12.122,  1.444, 13.279,  0.   ,\n",
       "         0.   ,  0.   ,  0.   ,  0.   ,  0.   ,  0.   ,  0.   ,  0.   ],\n",
       "       [ 0.   ,  0.   ,  0.   ,  0.   ,  0.   , 13.279,  9.389, 14.343,\n",
       "         0.   ,  0.   ,  0.   ,  0.   ,  0.   ,  0.   ,  0.   ,  0.   ],\n",
       "       [ 0.   ,  0.   ,  0.   ,  0.   ,  0.   ,  0.   , 14.343, -1.204,\n",
       "        15.333,  0.   ,  0.   ,  0.   ,  0.   ,  0.   ,  0.   ,  0.   ],\n",
       "       [ 0.   ,  0.   ,  0.   ,  0.   ,  0.   ,  0.   ,  0.   , 15.333,\n",
       "         8.185, 16.263,  0.   ,  0.   ,  0.   ,  0.   ,  0.   ,  0.   ],\n",
       "       [ 0.   ,  0.   ,  0.   ,  0.   ,  0.   ,  0.   ,  0.   ,  0.   ,\n",
       "        16.263, -2.407, 17.143,  0.   ,  0.   ,  0.   ,  0.   ,  0.   ],\n",
       "       [ 0.   ,  0.   ,  0.   ,  0.   ,  0.   ,  0.   ,  0.   ,  0.   ,\n",
       "         0.   , 17.143,  0.241, 17.98 ,  0.   ,  0.   ,  0.   ,  0.   ],\n",
       "       [ 0.   ,  0.   ,  0.   ,  0.   ,  0.   ,  0.   ,  0.   ,  0.   ,\n",
       "         0.   ,  0.   , 17.98 ,  0.241, 18.78 ,  0.   ,  0.   ,  0.   ],\n",
       "       [ 0.   ,  0.   ,  0.   ,  0.   ,  0.   ,  0.   ,  0.   ,  0.   ,\n",
       "         0.   ,  0.   ,  0.   , 18.78 , 62.593, 19.546,  0.   ,  0.   ],\n",
       "       [ 0.   ,  0.   ,  0.   ,  0.   ,  0.   ,  0.   ,  0.   ,  0.   ,\n",
       "         0.   ,  0.   ,  0.   ,  0.   , 19.546, 20.222, 20.284,  0.   ],\n",
       "       [ 0.   ,  0.   ,  0.   ,  0.   ,  0.   ,  0.   ,  0.   ,  0.   ,\n",
       "         0.   ,  0.   ,  0.   ,  0.   ,  0.   , 20.284, 38.759, 20.996],\n",
       "       [ 0.   ,  0.   ,  0.   ,  0.   ,  0.   ,  0.   ,  0.   ,  0.   ,\n",
       "         0.   ,  0.   ,  0.   ,  0.   ,  0.   ,  0.   , 20.996,  6.981]])"
      ]
     },
     "execution_count": 88,
     "metadata": {},
     "output_type": "execute_result"
    }
   ],
   "source": [
    "int_H(T)"
   ]
  },
  {
   "cell_type": "code",
   "execution_count": 89,
   "metadata": {},
   "outputs": [
    {
     "data": {
      "text/plain": [
       "array([[ 0.718+1.341e-01j, -0.198-2.021e-02j, -0.152-2.871e-01j,\n",
       "         0.06 +1.018e-01j,  0.118+4.871e-03j, -0.274-7.211e-02j,\n",
       "        -0.121+7.671e-04j,  0.233+3.372e-02j,  0.107-1.417e-02j,\n",
       "        -0.163-2.051e-02j, -0.049+2.218e-02j,  0.092+3.108e-02j,\n",
       "        -0.076-1.230e-02j,  0.151+1.150e-02j,  0.034-1.711e-02j,\n",
       "        -0.246+3.209e-02j],\n",
       "       [-0.198-2.021e-02j,  0.116-3.114e-01j, -0.25 +7.506e-03j,\n",
       "         0.238-3.994e-02j,  0.002+6.267e-02j, -0.105-6.442e-03j,\n",
       "        -0.264-8.607e-02j, -0.069-4.553e-02j,  0.331+1.248e-02j,\n",
       "         0.238+3.676e-02j, -0.214+3.923e-02j, -0.421+3.236e-02j,\n",
       "        -0.012+7.141e-03j,  0.419-6.547e-02j, -0.144+4.497e-02j,\n",
       "        -0.184-2.495e-02j],\n",
       "       [-0.152-2.871e-01j, -0.25 +7.506e-03j,  0.774-1.651e-01j,\n",
       "         0.064-4.314e-02j,  0.089+2.829e-02j, -0.136+8.692e-03j,\n",
       "        -0.184-8.337e-02j,  0.11 -8.988e-02j,  0.187-6.980e-03j,\n",
       "        -0.063+6.636e-02j, -0.132+8.943e-02j, -0.026+4.383e-02j,\n",
       "         0.01 -3.054e-02j,  0.007+4.681e-02j,  0.048-6.424e-02j,\n",
       "        -0.134+1.122e-01j],\n",
       "       [ 0.06 +1.018e-01j,  0.238-3.994e-02j,  0.064-4.314e-02j,\n",
       "         0.826-1.971e-01j,  0.086-2.956e-02j, -0.041-7.724e-02j,\n",
       "         0.059-1.146e-01j,  0.035-6.471e-02j, -0.089-4.614e-02j,\n",
       "        -0.079+8.545e-02j,  0.044+1.501e-01j,  0.118+7.251e-02j,\n",
       "         0.037-1.572e-02j, -0.203-6.129e-02j,  0.019+6.826e-02j,\n",
       "         0.197-7.149e-02j],\n",
       "       [ 0.118+4.871e-03j,  0.002+6.267e-02j,  0.089+2.829e-02j,\n",
       "         0.086-2.956e-02j,  0.693-3.047e-01j,  0.373-2.141e-02j,\n",
       "         0.076+4.465e-02j, -0.224+1.044e-02j, -0.101+1.093e-01j,\n",
       "         0.18 -9.612e-02j,  0.09 -1.488e-01j, -0.097+2.599e-02j,\n",
       "        -0.039-1.463e-02j,  0.163+7.924e-02j, -0.014-1.035e-01j,\n",
       "        -0.152+1.461e-01j],\n",
       "       [-0.274-7.211e-02j, -0.105-6.442e-03j, -0.136+8.692e-03j,\n",
       "        -0.041-7.724e-02j,  0.373-2.141e-02j,  0.162-1.493e-01j,\n",
       "         0.007+4.261e-02j,  0.372+2.284e-01j,  0.158-2.047e-01j,\n",
       "        -0.31 +5.835e-02j, -0.094+4.310e-02j,  0.146-3.562e-01j,\n",
       "        -0.049+1.339e-01j,  0.062-1.577e-01j, -0.026+1.869e-01j,\n",
       "        -0.004-3.039e-01j],\n",
       "       [-0.121+7.671e-04j, -0.264-8.607e-02j, -0.184-8.337e-02j,\n",
       "         0.059-1.146e-01j,  0.076+4.465e-02j,  0.007+4.261e-02j,\n",
       "         0.498+8.215e-02j,  0.32 -2.454e-01j,  0.222+1.315e-01j,\n",
       "        -0.003-1.243e-01j, -0.275-2.750e-01j, -0.122+2.562e-01j,\n",
       "         0.11 -1.060e-01j, -0.172+1.872e-01j,  0.029-1.017e-01j,\n",
       "         0.096+3.540e-02j],\n",
       "       [ 0.233+3.372e-02j, -0.069-4.553e-02j,  0.11 -8.988e-02j,\n",
       "         0.035-6.471e-02j, -0.224+1.044e-02j,  0.372+2.284e-01j,\n",
       "         0.32 -2.454e-01j,  0.155+1.926e-01j,  0.174-2.248e-01j,\n",
       "         0.212-1.314e-01j,  0.107+3.082e-01j, -0.259-3.173e-01j,\n",
       "         0.059+7.333e-02j,  0.003-9.858e-04j, -0.019-6.476e-02j,\n",
       "         0.03 +1.265e-01j],\n",
       "       [ 0.107-1.417e-02j,  0.331+1.248e-02j,  0.187-6.980e-03j,\n",
       "        -0.089-4.614e-02j, -0.101+1.093e-01j,  0.158-2.047e-01j,\n",
       "         0.222+1.315e-01j,  0.174-2.248e-01j,  0.278-2.075e-01j,\n",
       "         0.291+2.327e-01j,  0.2  -2.327e-01j,  0.287+1.816e-01j,\n",
       "        -0.171+1.442e-02j,  0.216-1.687e-01j, -0.032+9.831e-02j,\n",
       "        -0.1  -5.425e-02j],\n",
       "       [-0.163-2.051e-02j,  0.238+3.676e-02j, -0.063+6.636e-02j,\n",
       "        -0.079+8.545e-02j,  0.18 -9.612e-02j, -0.31 +5.835e-02j,\n",
       "        -0.003-1.243e-01j,  0.212-1.314e-01j,  0.291+2.327e-01j,\n",
       "         0.1  -4.805e-01j,  0.425+2.692e-01j,  0.128-3.017e-02j,\n",
       "        -0.038-1.391e-02j, -0.089+1.602e-02j,  0.097-3.455e-02j,\n",
       "        -0.062+1.165e-02j],\n",
       "       [-0.049+2.218e-02j, -0.214+3.923e-02j, -0.132+8.943e-02j,\n",
       "         0.044+1.501e-01j,  0.09 -1.488e-01j, -0.094+4.310e-02j,\n",
       "        -0.275-2.750e-01j,  0.107+3.082e-01j,  0.2  -2.327e-01j,\n",
       "         0.425+2.692e-01j,  0.11 -2.498e-01j,  0.151+9.013e-02j,\n",
       "         0.055-8.119e-02j, -0.251+1.244e-01j,  0.082-1.430e-01j,\n",
       "         0.181+1.552e-02j],\n",
       "       [ 0.092+3.108e-02j, -0.421+3.236e-02j, -0.026+4.383e-02j,\n",
       "         0.118+7.251e-02j, -0.097+2.599e-02j,  0.146-3.562e-01j,\n",
       "        -0.122+2.562e-01j, -0.259-3.173e-01j,  0.287+1.816e-01j,\n",
       "         0.128-3.017e-02j,  0.151+9.013e-02j,  0.046-3.058e-01j,\n",
       "         0.113-3.888e-02j, -0.041-1.266e-01j,  0.011-1.149e-01j,\n",
       "         0.223-1.723e-01j],\n",
       "       [-0.076-1.230e-02j, -0.012+7.141e-03j,  0.01 -3.054e-02j,\n",
       "         0.037-1.572e-02j, -0.039-1.463e-02j, -0.049+1.339e-01j,\n",
       "         0.11 -1.060e-01j,  0.059+7.333e-02j, -0.171+1.442e-02j,\n",
       "        -0.038-1.391e-02j,  0.055-8.119e-02j,  0.113-3.888e-02j,\n",
       "         0.326-4.889e-01j,  0.327-4.185e-01j,  0.15 -4.282e-01j,\n",
       "        -0.08 -2.052e-01j],\n",
       "       [ 0.151+1.150e-02j,  0.419-6.547e-02j,  0.007+4.681e-02j,\n",
       "        -0.203-6.129e-02j,  0.163+7.924e-02j,  0.062-1.577e-01j,\n",
       "        -0.172+1.872e-01j,  0.003-9.858e-04j,  0.216-1.687e-01j,\n",
       "        -0.089+1.602e-02j, -0.251+1.244e-01j, -0.041-1.266e-01j,\n",
       "         0.327-4.185e-01j, -0.188+9.544e-02j,  0.06 -2.214e-02j,\n",
       "         0.175+2.895e-01j],\n",
       "       [ 0.034-1.711e-02j, -0.144+4.497e-02j,  0.048-6.424e-02j,\n",
       "         0.019+6.826e-02j, -0.014-1.035e-01j, -0.026+1.869e-01j,\n",
       "         0.029-1.017e-01j, -0.019-6.476e-02j, -0.032+9.831e-02j,\n",
       "         0.097-3.455e-02j,  0.082-1.430e-01j,  0.011-1.149e-01j,\n",
       "         0.15 -4.282e-01j,  0.06 -2.214e-02j, -0.096+7.875e-01j,\n",
       "         0.025-1.411e-02j],\n",
       "       [-0.246+3.209e-02j, -0.184-2.495e-02j, -0.134+1.122e-01j,\n",
       "         0.197-7.149e-02j, -0.152+1.461e-01j, -0.004-3.039e-01j,\n",
       "         0.096+3.540e-02j,  0.03 +1.265e-01j, -0.1  -5.425e-02j,\n",
       "        -0.062+1.165e-02j,  0.181+1.552e-02j,  0.223-1.723e-01j,\n",
       "        -0.08 -2.052e-01j,  0.175+2.895e-01j,  0.025-1.411e-02j,\n",
       "        -0.303+5.292e-01j]])"
      ]
     },
     "execution_count": 89,
     "metadata": {},
     "output_type": "execute_result"
    }
   ],
   "source": [
    "Unitary(T)"
   ]
  },
  {
   "cell_type": "code",
   "execution_count": 90,
   "metadata": {},
   "outputs": [
    {
     "name": "stderr",
     "output_type": "stream",
     "text": [
      "/var/folders/9n/n42mcm4j3zd6tllvscs4_ych0000gn/T/ipykernel_25221/389088634.py:14: IntegrationWarning: The maximum number of subdivisions (50) has been achieved.\n",
      "  If increasing the limit yields no improvement it is advised to analyze \n",
      "  the integrand in order to determine the difficulties.  If the position of a \n",
      "  local difficulty can be determined (singularity, discontinuity) one will \n",
      "  probably gain from splitting up the interval and calling the integrator \n",
      "  on the subranges.  Perhaps a special-purpose integrator should be used.\n",
      "  int_H_matrix[row][col] = scipy.integrate.quad(H_rc_wrapper(row, col), 0, t)[0]\n"
     ]
    },
    {
     "name": "stdout",
     "output_type": "stream",
     "text": [
      "[np.complex128(-47.344653341260006+0j), np.complex128(-45.75898722866704+0j), np.complex128(-44.173321116074064-1.7763568394002505e-15j), np.complex128(-42.5876550034811-4.440892098500626e-16j), np.complex128(-41.00198889088813+8.881784197001252e-16j), np.complex128(-39.416322778295154+0j), np.complex128(-37.83065666570218+0j), np.complex128(-36.24499055310922-4.440892098500626e-16j), np.complex128(-34.65932444051626+0j), np.complex128(-33.07365832792326+0j), np.complex128(-31.48799221533031+5.551115123125783e-17j), np.complex128(-29.902326102737348+8.881784197001252e-16j), np.complex128(-28.31665999014437+0j), np.complex128(-26.7309938775514-2.220446049250313e-16j), np.complex128(-25.145327764958434+0j), np.complex128(-23.55966165236547-4.440892098500626e-16j), np.complex128(-21.973995539772492+8.881784197001252e-16j), np.complex128(-20.388329427179503-2.220446049250313e-16j), np.complex128(-18.802663314586535-1.3322676295501878e-15j), np.complex128(-17.2169972019936+4.440892098500626e-16j), np.complex128(-15.631331089400623+9.71445146547012e-17j), np.complex128(-14.045664976807656+6.661338147750939e-16j), np.complex128(-12.459998864214677+4.440892098500626e-16j), np.complex128(-10.874332751621715+1.6653345369377348e-16j), np.complex128(-9.288666639028724-8.881784197001252e-16j), np.complex128(-7.703000526435779+8.881784197001252e-16j), np.complex128(-6.117334413842826-2.220446049250313e-16j), np.complex128(-4.5316683012498205+2.220446049250313e-16j), np.complex128(-2.9460021886568573+8.881784197001252e-16j), np.complex128(-1.360336076063895+4.440892098500626e-16j), np.complex128(0.22533003652907446-1.1102230246251565e-16j), np.complex128(1.8109961491220599-8.881784197001252e-16j), np.complex128(3.3966622617150044+0j), np.complex128(4.98232837430799-2.220446049250313e-16j), np.complex128(5.846665528474503-4.440892098500626e-16j), np.complex128(6.1190741908091955+0j), np.complex128(6.09601459449826-4.440892098500626e-16j), np.complex128(5.956222201664011+8.881784197001252e-16j), np.complex128(5.942478821256134-1.1102230246251565e-16j), np.complex128(6.108359258200926+0j), np.complex128(6.19626864603987+4.440892098500626e-16j), np.complex128(5.792593524250744+0j), np.complex128(4.671744368774977+0j), np.complex128(3.0511865771737217+2.220446049250313e-16j), np.complex128(1.5098932307184887-5.551115123125783e-17j), np.complex128(0.5783137693397045-6.661338147750939e-16j), np.complex128(0.2974695506630045+8.881784197001252e-16j), np.complex128(0.12011048737997854+0j), np.complex128(-0.7091798809997982-8.881784197001252e-16j), np.complex128(-2.5465830761230954+2.220446049250313e-16j), np.complex128(-4.993893570111683-2.220446049250313e-16j), np.complex128(-7.1239497908791325+4.440892098500626e-16j), np.complex128(-8.16339553841531+4.440892098500626e-16j), np.complex128(-8.106528803685881+6.661338147750939e-16j), np.complex128(-7.733729732802381+0j), np.complex128(-7.962131365741069+2.220446049250313e-16j), np.complex128(-9.026990445450535+1.1102230246251565e-16j), np.complex128(-10.194367702195413-2.220446049250313e-16j), np.complex128(-10.313892368419475+1.1102230246251565e-16j), np.complex128(-8.80567050219757+8.881784197001252e-16j), np.complex128(-6.234900030748893-8.881784197001252e-16j), np.complex128(-3.8964351958164727+8.881784197001252e-16j), np.complex128(-2.665472576762408-7.771561172376096e-16j), np.complex128(-2.0894490486009785+0j), np.complex128(-0.6208150510263417+4.440892098500626e-16j), np.complex128(3.0347783667032946+8.881784197001252e-16j), np.complex128(8.534348309678986+0j), np.complex128(14.483741856636872+8.881784197001252e-16j), np.complex128(18.573796607853147+2.220446049250313e-16j), np.complex128(17.712387185313805-1.1102230246251565e-15j), np.complex128(14.135531112957999+1.5543122344752192e-15j), np.complex128(12.087620176498058+0j), np.complex128(13.359404459629914+2.220446049250313e-16j), np.complex128(14.982423219481403+8.881784197001252e-16j), np.complex128(12.36954943868+8.881784197001252e-16j), np.complex128(5.194118205340246-1.1102230246251565e-15j), np.complex128(-0.9174399667983413+1.6653345369377348e-16j), np.complex128(-0.01082953715614332+0j), np.complex128(7.2036649725257424+1.6653345369377348e-16j), np.complex128(14.201684042275723+8.881784197001252e-16j), np.complex128(17.585964531295808-1.1102230246251565e-16j), np.complex128(22.65267358992388+2.220446049250313e-16j), np.complex128(36.303447985476495+1.7763568394002505e-15j), np.complex128(54.90151524433652-8.881784197001252e-16j), np.complex128(64.57719650931482+0j), np.complex128(57.07283242838563+8.881784197001252e-16j), np.complex128(41.42321307288993+2.220446049250313e-16j), np.complex128(34.06999566014254+0j), np.complex128(39.03736827443686+0j), np.complex128(44.957538302436106+0j), np.complex128(41.891058006251626+1.3322676295501878e-15j), np.complex128(32.61723034242541+4.440892098500626e-16j), np.complex128(24.79122806818507-4.440892098500626e-16j), np.complex128(21.43092990230535-8.881784197001252e-16j), np.complex128(23.872311975734018-4.440892098500626e-16j), np.complex128(33.56895448736497+0j), np.complex128(44.33675658149202+7.771561172376096e-16j), np.complex128(44.73508073269966-2.4424906541753444e-15j), np.complex128(35.65666954773472-1.1102230246251565e-16j), np.complex128(31.236562956151804+2.220446049250313e-16j)]\n",
      "[-1.224e-05+0.j  8.115e-05+0.j -3.719e-04+0.j  1.357e-03+0.j\n",
      " -4.178e-03+0.j  1.118e-02+0.j -2.644e-02+0.j  5.592e-02+0.j\n",
      " -1.064e-01+0.j  1.824e-01+0.j -2.815e-01+0.j  3.889e-01+0.j\n",
      " -4.749e-01+0.j  4.997e-01+0.j -4.280e-01+0.j  2.500e-01+0.j]\n",
      "[-1.089e-05-5.580e-06j  7.223e-05+3.700e-05j -3.310e-04-1.696e-04j\n",
      "  1.208e-03+6.189e-04j -3.719e-03-1.905e-03j  9.947e-03+5.096e-03j\n",
      " -2.353e-02-1.206e-02j  4.977e-02+2.550e-02j -9.466e-02-4.850e-02j\n",
      "  1.623e-01+8.315e-02j -2.505e-01-1.284e-01j  3.461e-01+1.773e-01j\n",
      " -4.227e-01-2.165e-01j  4.448e-01+2.279e-01j -3.809e-01-1.951e-01j\n",
      "  2.225e-01+1.140e-01j]\n",
      "[-7.150e-06-9.933e-06j  4.741e-05+6.587e-05j -2.173e-04-3.018e-04j\n",
      "  7.930e-04+1.102e-03j -2.441e-03-3.391e-03j  6.529e-03+9.071e-03j\n",
      " -1.545e-02-2.146e-02j  3.267e-02+4.538e-02j -6.214e-02-8.632e-02j\n",
      "  1.065e-01+1.480e-01j -1.645e-01-2.285e-01j  2.272e-01+3.156e-01j\n",
      " -2.774e-01-3.854e-01j  2.920e-01+4.056e-01j -2.500e-01-3.474e-01j\n",
      "  1.460e-01+2.029e-01j]\n",
      "[-1.834e-06-1.210e-05j  1.216e-05+8.024e-05j -5.574e-05-3.677e-04j\n",
      "  2.035e-04+1.342e-03j -6.263e-04-4.131e-03j  1.675e-03+1.105e-02j\n",
      " -3.963e-03-2.614e-02j  8.382e-03+5.529e-02j -1.594e-02-1.052e-01j\n",
      "  2.734e-02+1.803e-01j -4.219e-02-2.783e-01j  5.829e-02+3.845e-01j\n",
      " -7.118e-02-4.695e-01j  7.491e-02+4.941e-01j -6.415e-02-4.232e-01j\n",
      "  3.747e-02+2.472e-01j]\n",
      "[ 3.885e-06-1.161e-05j -2.576e-05+7.696e-05j  1.180e-04-3.526e-04j\n",
      " -4.308e-04+1.287e-03j  1.326e-03-3.962e-03j -3.547e-03+1.060e-02j\n",
      "  8.392e-03-2.507e-02j -1.775e-02+5.303e-02j  3.376e-02-1.009e-01j\n",
      " -5.788e-02+1.729e-01j  8.935e-02-2.669e-01j -1.234e-01+3.688e-01j\n",
      "  1.507e-01-4.504e-01j -1.586e-01+4.739e-01j  1.358e-01-4.059e-01j\n",
      " -7.935e-02+2.371e-01j]\n",
      "[ 8.749e-06-8.558e-06j -5.801e-05+5.675e-05j  2.658e-04-2.600e-04j\n",
      " -9.704e-04+9.492e-04j  2.987e-03-2.922e-03j -7.989e-03+7.815e-03j\n",
      "  1.890e-02-1.849e-02j -3.997e-02+3.910e-02j  7.603e-02-7.437e-02j\n",
      " -1.304e-01+1.275e-01j  2.012e-01-1.968e-01j -2.780e-01+2.719e-01j\n",
      "  3.395e-01-3.321e-01j -3.573e-01+3.495e-01j  3.060e-01-2.993e-01j\n",
      " -1.787e-01+1.748e-01j]\n",
      "[ 1.169e-05-3.627e-06j -7.751e-05+2.405e-05j  3.552e-04-1.102e-04j\n",
      " -1.296e-03+4.023e-04j  3.991e-03-1.238e-03j -1.067e-02+3.313e-03j\n",
      "  2.525e-02-7.837e-03j -5.341e-02+1.657e-02j  1.016e-01-3.152e-02j\n",
      " -1.742e-01+5.405e-02j  2.688e-01-8.343e-02j -3.714e-01+1.153e-01j\n",
      "  4.536e-01-1.408e-01j -4.773e-01+1.481e-01j  4.088e-01-1.269e-01j\n",
      " -2.388e-01+7.409e-02j]\n",
      "[ 1.206e-05+2.101e-06j -7.995e-05-1.393e-05j  3.664e-04+6.384e-05j\n",
      " -1.337e-03-2.330e-04j  4.116e-03+7.173e-04j -1.101e-02-1.919e-03j\n",
      "  2.605e-02+4.539e-03j -5.509e-02-9.600e-03j  1.048e-01+1.826e-02j\n",
      " -1.797e-01-3.131e-02j  2.773e-01+4.833e-02j -3.831e-01-6.677e-02j\n",
      "  4.679e-01+8.153e-02j -4.923e-01-8.580e-02j  4.216e-01+7.348e-02j\n",
      " -2.463e-01-4.292e-02j]\n",
      "[ 9.773e-06+7.368e-06j -6.480e-05-4.885e-05j  2.969e-04+2.239e-04j\n",
      " -1.084e-03-8.171e-04j  3.336e-03+2.515e-03j -8.924e-03-6.728e-03j\n",
      "  2.111e-02+1.592e-02j -4.465e-02-3.366e-02j  8.493e-02+6.403e-02j\n",
      " -1.456e-01-1.098e-01j  2.248e-01+1.695e-01j -3.105e-01-2.341e-01j\n",
      "  3.792e-01+2.859e-01j -3.991e-01-3.008e-01j  3.418e-01+2.576e-01j\n",
      " -1.996e-01-1.505e-01j]\n",
      "[ 5.339e-06+1.101e-05j -3.540e-05-7.303e-05j  1.622e-04+3.346e-04j\n",
      " -5.921e-04-1.221e-03j  1.823e-03+3.760e-03j -4.875e-03-1.006e-02j\n",
      "  1.153e-02+2.379e-02j -2.439e-02-5.032e-02j  4.639e-02+9.571e-02j\n",
      " -7.955e-02-1.641e-01j  1.228e-01+2.533e-01j -1.696e-01-3.500e-01j\n",
      "  2.072e-01+4.274e-01j -2.180e-01-4.497e-01j  1.867e-01+3.851e-01j\n",
      " -1.090e-01-2.250e-01j]\n",
      "[-2.702e-07+1.224e-05j  1.791e-06-8.113e-05j -8.209e-06+3.718e-04j\n",
      "  2.996e-05-1.357e-03j -9.223e-05+4.177e-03j  2.467e-04-1.117e-02j\n",
      " -5.837e-04+2.643e-02j  1.234e-03-5.591e-02j -2.348e-03+1.063e-01j\n",
      "  4.026e-03-1.823e-01j -6.214e-03+2.814e-01j  8.585e-03-3.888e-01j\n",
      " -1.048e-02+4.748e-01j  1.103e-02-4.996e-01j -9.448e-03+4.279e-01j\n",
      "  5.518e-03-2.499e-01j]\n",
      "[-5.819e-06+1.077e-05j  3.859e-05-7.139e-05j -1.768e-04+3.271e-04j\n",
      "  6.454e-04-1.194e-03j -1.987e-03+3.676e-03j  5.314e-03-9.832e-03j\n",
      " -1.257e-02+2.326e-02j  2.659e-02-4.919e-02j -5.057e-02+9.357e-02j\n",
      "  8.672e-02-1.604e-01j -1.339e-01+2.476e-01j  1.849e-01-3.421e-01j\n",
      " -2.258e-01+4.178e-01j  2.376e-01-4.396e-01j -2.035e-01+3.765e-01j\n",
      "  1.189e-01-2.199e-01j]\n",
      "[-1.009e-05+6.929e-06j  6.690e-05-4.595e-05j -3.065e-04+2.105e-04j\n",
      "  1.119e-03-7.685e-04j -3.444e-03+2.366e-03j  9.213e-03-6.327e-03j\n",
      " -2.180e-02+1.497e-02j  4.609e-02-3.166e-02j -8.767e-02+6.022e-02j\n",
      "  1.503e-01-1.032e-01j -2.320e-01+1.594e-01j  3.206e-01-2.202e-01j\n",
      " -3.915e-01+2.689e-01j  4.119e-01-2.829e-01j -3.528e-01+2.423e-01j\n",
      "  2.061e-01-1.415e-01j]\n",
      "[-1.214e-05+1.567e-06j  8.049e-05-1.039e-05j -3.688e-04+4.761e-05j\n",
      "  1.346e-03-1.738e-04j -4.144e-03+5.349e-04j  1.108e-02-1.431e-03j\n",
      " -2.622e-02+3.385e-03j  5.546e-02-7.159e-03j -1.055e-01+1.362e-02j\n",
      "  1.809e-01-2.335e-02j -2.792e-01+3.604e-02j  3.857e-01-4.979e-02j\n",
      " -4.710e-01+6.080e-02j  4.956e-01-6.398e-02j -4.245e-01+5.480e-02j\n",
      "  2.479e-01-3.201e-02j]\n",
      "[-1.152e-05-4.140e-06j  7.637e-05+2.745e-05j -3.500e-04-1.258e-04j\n",
      "  1.277e-03+4.592e-04j -3.932e-03-1.413e-03j  1.052e-02+3.780e-03j\n",
      " -2.488e-02-8.944e-03j  5.262e-02+1.891e-02j -1.001e-01-3.598e-02j\n",
      "  1.716e-01+6.169e-02j -2.649e-01-9.522e-02j  3.660e-01+1.316e-01j\n",
      " -4.469e-01-1.606e-01j  4.703e-01+1.690e-01j -4.028e-01-1.448e-01j\n",
      "  2.353e-01+8.456e-02j]\n",
      "[-8.363e-06-8.936e-06j  5.545e-05+5.925e-05j -2.541e-04-2.715e-04j\n",
      "  9.275e-04+9.911e-04j -2.855e-03-3.051e-03j  7.637e-03+8.160e-03j\n",
      " -1.807e-02-1.931e-02j  3.821e-02+4.083e-02j -7.268e-02-7.766e-02j\n",
      "  1.246e-01+1.332e-01j -1.924e-01-2.055e-01j  2.657e-01+2.840e-01j\n",
      " -3.245e-01-3.467e-01j  3.415e-01+3.649e-01j -2.925e-01-3.125e-01j\n",
      "  1.708e-01+1.825e-01j]\n",
      "[-3.369e-06-1.177e-05j  2.234e-05+7.802e-05j -1.024e-04-3.575e-04j\n",
      "  3.736e-04+1.305e-03j -1.150e-03-4.017e-03j  3.076e-03+1.074e-02j\n",
      " -7.277e-03-2.542e-02j  1.539e-02+5.376e-02j -2.927e-02-1.023e-01j\n",
      "  5.019e-02+1.753e-01j -7.748e-02-2.706e-01j  1.070e-01+3.739e-01j\n",
      " -1.307e-01-4.566e-01j  1.375e-01+4.804e-01j -1.178e-01-4.115e-01j\n",
      "  6.881e-02+2.403e-01j]\n",
      "[ 2.367e-06-1.201e-05j -1.569e-05+7.962e-05j  7.191e-05-3.649e-04j\n",
      " -2.625e-04+1.332e-03j  8.080e-04-4.099e-03j -2.161e-03+1.097e-02j\n",
      "  5.113e-03-2.594e-02j -1.081e-02+5.486e-02j  2.057e-02-1.044e-01j\n",
      " -3.527e-02+1.789e-01j  5.444e-02-2.762e-01j -7.521e-02+3.816e-01j\n",
      "  9.184e-02-4.660e-01j -9.664e-02+4.903e-01j  8.277e-02-4.199e-01j\n",
      " -4.834e-02+2.453e-01j]\n",
      "[ 7.581e-06-9.608e-06j -5.027e-05+6.371e-05j  2.304e-04-2.919e-04j\n",
      " -8.409e-04+1.066e-03j  2.588e-03-3.280e-03j -6.923e-03+8.774e-03j\n",
      "  1.638e-02-2.076e-02j -3.464e-02+4.390e-02j  6.589e-02-8.350e-02j\n",
      " -1.130e-01+1.432e-01j  1.744e-01-2.210e-01j -2.409e-01+3.053e-01j\n",
      "  2.942e-01-3.728e-01j -3.096e-01+3.923e-01j  2.651e-01-3.360e-01j\n",
      " -1.549e-01+1.962e-01j]\n",
      "[ 1.113e-05-5.094e-06j -7.379e-05+3.378e-05j  3.381e-04-1.548e-04j\n",
      " -1.234e-03+5.650e-04j  3.799e-03-1.739e-03j -1.016e-02+4.652e-03j\n",
      "  2.404e-02-1.101e-02j -5.084e-02+2.327e-02j  9.671e-02-4.427e-02j\n",
      " -1.658e-01+7.591e-02j  2.560e-01-1.172e-01j -3.536e-01+1.619e-01j\n",
      "  4.318e-01-1.977e-01j -4.544e-01+2.080e-01j  3.892e-01-1.781e-01j\n",
      " -2.273e-01+1.041e-01j]\n",
      "[ 1.223e-05+5.402e-07j -8.108e-05-3.582e-06j  3.715e-04+1.641e-05j\n",
      " -1.356e-03-5.991e-05j  4.174e-03+1.844e-04j -1.117e-02-4.933e-04j\n",
      "  2.641e-02+1.167e-03j -5.586e-02-2.468e-03j  1.063e-01+4.695e-03j\n",
      " -1.822e-01-8.049e-03j  2.812e-01+1.242e-02j -3.885e-01-1.717e-02j\n",
      "  4.745e-01+2.096e-02j -4.993e-01-2.206e-02j  4.276e-01+1.889e-02j\n",
      " -2.497e-01-1.103e-02j]\n",
      "[ 1.064e-05+6.056e-06j -7.052e-05-4.015e-05j  3.232e-04+1.840e-04j\n",
      " -1.180e-03-6.716e-04j  3.631e-03+2.067e-03j -9.712e-03-5.530e-03j\n",
      "  2.298e-02+1.308e-02j -4.859e-02-2.767e-02j  9.243e-02+5.263e-02j\n",
      " -1.585e-01-9.024e-02j  2.446e-01+1.393e-01j -3.380e-01-1.924e-01j\n",
      "  4.127e-01+2.350e-01j -4.343e-01-2.473e-01j  3.719e-01+2.118e-01j\n",
      " -2.172e-01-1.237e-01j]\n",
      "[ 6.705e-06+1.024e-05j -4.446e-05-6.789e-05j  2.037e-04+3.111e-04j\n",
      " -7.436e-04-1.136e-03j  2.289e-03+3.496e-03j -6.122e-03-9.350e-03j\n",
      "  1.448e-02+2.212e-02j -3.063e-02-4.678e-02j  5.827e-02+8.898e-02j\n",
      " -9.990e-02-1.526e-01j  1.542e-01+2.355e-01j -2.130e-01-3.254e-01j\n",
      "  2.602e-01+3.973e-01j -2.738e-01-4.181e-01j  2.345e-01+3.581e-01j\n",
      " -1.369e-01-2.091e-01j]\n",
      "[ 1.299e-06+1.217e-05j -8.611e-06-8.070e-05j  3.946e-05+3.698e-04j\n",
      " -1.440e-04-1.350e-03j  4.433e-04+4.155e-03j -1.186e-03-1.111e-02j\n",
      "  2.805e-03+2.629e-02j -5.933e-03-5.560e-02j  1.129e-02+1.058e-01j\n",
      " -1.935e-02-1.813e-01j  2.987e-02+2.799e-01j -4.126e-02-3.867e-01j\n",
      "  5.039e-02+4.722e-01j -5.302e-02-4.969e-01j  4.541e-02+4.256e-01j\n",
      " -2.652e-02-2.486e-01j]\n",
      "[-4.393e-06+1.142e-05j  2.913e-05-7.575e-05j -1.335e-04+3.471e-04j\n",
      "  4.872e-04-1.267e-03j -1.500e-03+3.900e-03j  4.012e-03-1.043e-02j\n",
      " -9.491e-03+2.468e-02j  2.007e-02-5.219e-02j -3.818e-02+9.927e-02j\n",
      "  6.546e-02-1.702e-01j -1.010e-01+2.627e-01j  1.396e-01-3.630e-01j\n",
      " -1.705e-01+4.433e-01j  1.794e-01-4.664e-01j -1.536e-01+3.995e-01j\n",
      "  8.973e-02-2.333e-01j]\n",
      "[-9.118e-06+8.164e-06j  6.046e-05-5.413e-05j -2.771e-04+2.481e-04j\n",
      "  1.011e-03-9.054e-04j -3.113e-03+2.787e-03j  8.327e-03-7.455e-03j\n",
      " -1.970e-02+1.764e-02j  4.166e-02-3.730e-02j -7.924e-02+7.095e-02j\n",
      "  1.359e-01-1.216e-01j -2.097e-01+1.878e-01j  2.898e-01-2.594e-01j\n",
      " -3.538e-01+3.168e-01j  3.723e-01-3.333e-01j -3.189e-01+2.855e-01j\n",
      "  1.862e-01-1.667e-01j]\n",
      "[-1.184e-05+3.108e-06j  7.849e-05-2.061e-05j -3.597e-04+9.444e-05j\n",
      "  1.313e-03-3.447e-04j -4.041e-03+1.061e-03j  1.081e-02-2.838e-03j\n",
      " -2.557e-02+6.715e-03j  5.409e-02-1.420e-02j -1.029e-01+2.701e-02j\n",
      "  1.764e-01-4.631e-02j -2.723e-01+7.149e-02j  3.762e-01-9.876e-02j\n",
      " -4.593e-01+1.206e-01j  4.834e-01-1.269e-01j -4.140e-01+1.087e-01j\n",
      "  2.418e-01-6.348e-02j]\n",
      "[-1.195e-05-2.631e-06j  7.926e-05+1.745e-05j -3.632e-04-7.995e-05j\n",
      "  1.326e-03+2.918e-04j -4.081e-03-8.983e-04j  1.091e-02+2.403e-03j\n",
      " -2.582e-02-5.685e-03j  5.461e-02+1.202e-02j -1.039e-01-2.287e-02j\n",
      "  1.781e-01+3.921e-02j -2.749e-01-6.052e-02j  3.798e-01+8.361e-02j\n",
      " -4.638e-01-1.021e-01j  4.881e-01+1.074e-01j -4.180e-01-9.202e-02j\n",
      "  2.441e-01+5.375e-02j]\n",
      "[-9.438e-06-7.792e-06j  6.258e-05+5.167e-05j -2.868e-04-2.368e-04j\n",
      "  1.047e-03+8.642e-04j -3.222e-03-2.660e-03j  8.619e-03+7.115e-03j\n",
      " -2.039e-02-1.683e-02j  4.312e-02+3.560e-02j -8.202e-02-6.771e-02j\n",
      "  1.406e-01+1.161e-01j -2.171e-01-1.792e-01j  2.999e-01+2.476e-01j\n",
      " -3.662e-01-3.023e-01j  3.854e-01+3.182e-01j -3.301e-01-2.725e-01j\n",
      "  1.928e-01+1.592e-01j]\n",
      "[-4.847e-06-1.124e-05j  3.214e-05+7.452e-05j -1.473e-04-3.415e-04j\n",
      "  5.376e-04+1.246e-03j -1.655e-03-3.837e-03j  4.426e-03+1.026e-02j\n",
      " -1.047e-02-2.428e-02j  2.215e-02+5.135e-02j -4.212e-02-9.766e-02j\n",
      "  7.223e-02+1.675e-01j -1.115e-01-2.585e-01j  1.540e-01+3.571e-01j\n",
      " -1.881e-01-4.361e-01j  1.979e-01+4.589e-01j -1.695e-01-3.930e-01j\n",
      "  9.901e-02+2.295e-01j]\n",
      "[ 8.100e-07-1.221e-05j -5.371e-06+8.098e-05j  2.461e-05-3.711e-04j\n",
      " -8.983e-05+1.354e-03j  2.765e-04-4.169e-03j -7.396e-04+1.115e-02j\n",
      "  1.750e-03-2.638e-02j -3.701e-03+5.580e-02j  7.039e-03-1.061e-01j\n",
      " -1.207e-02+1.820e-01j  1.863e-02-2.809e-01j -2.574e-02+3.881e-01j\n",
      "  3.143e-02-4.739e-01j -3.307e-02+4.986e-01j  2.833e-02-4.271e-01j\n",
      " -1.654e-02+2.494e-01j]\n",
      "[ 6.289e-06-1.050e-05j -4.170e-05+6.962e-05j  1.911e-04-3.190e-04j\n",
      " -6.975e-04+1.164e-03j  2.147e-03-3.584e-03j -5.743e-03+9.588e-03j\n",
      "  1.359e-02-2.268e-02j -2.873e-02+4.797e-02j  5.465e-02-9.124e-02j\n",
      " -9.371e-02+1.565e-01j  1.447e-01-2.415e-01j -1.998e-01+3.336e-01j\n",
      "  2.440e-01-4.074e-01j -2.568e-01+4.287e-01j  2.199e-01-3.672e-01j\n",
      " -1.285e-01+2.145e-01j]\n",
      "[ 1.038e-05-6.477e-06j -6.886e-05+4.295e-05j  3.155e-04-1.968e-04j\n",
      " -1.152e-03+7.184e-04j  3.545e-03-2.211e-03j -9.483e-03+5.915e-03j\n",
      "  2.243e-02-1.399e-02j -4.745e-02+2.959e-02j  9.025e-02-5.629e-02j\n",
      " -1.547e-01+9.651e-02j  2.388e-01-1.490e-01j -3.300e-01+2.058e-01j\n",
      "  4.030e-01-2.513e-01j -4.240e-01+2.645e-01j  3.632e-01-2.265e-01j\n",
      " -2.121e-01+1.323e-01j]\n",
      "[ 1.220e-05-1.030e-06j -8.087e-05+6.827e-06j  3.706e-04-3.129e-05j\n",
      " -1.353e-03+1.142e-04j  4.164e-03-3.515e-04j -1.114e-02+9.402e-04j\n",
      "  2.635e-02-2.224e-03j -5.572e-02+4.704e-03j  1.060e-01-8.948e-03j\n",
      " -1.817e-01+1.534e-02j  2.805e-01-2.368e-02j -3.875e-01+3.272e-02j\n",
      "  4.732e-01-3.995e-02j -4.980e-01+4.204e-02j  4.265e-01-3.601e-02j\n",
      " -2.491e-01+2.103e-02j]\n",
      "[-4.823e-04+1.061e-04j -2.186e-06-1.298e-03j  1.758e-03+1.016e-03j\n",
      " -2.917e-03-7.694e-04j  6.460e-03+8.699e-04j -1.230e-02-2.551e-03j\n",
      "  2.769e-02+8.887e-03j -5.851e-02-1.858e-02j  1.100e-01+3.272e-02j\n",
      " -1.847e-01-5.383e-02j  2.808e-01+7.897e-02j -3.790e-01-1.062e-01j\n",
      "  4.548e-01+1.255e-01j -4.758e-01-1.317e-01j  4.068e-01+1.116e-01j\n",
      " -2.376e-01-6.554e-02j]\n",
      "[-1.404e-03+0.j     1.887e-04-0.003j  3.429e-03+0.003j -4.935e-03-0.003j\n",
      "  9.375e-03+0.002j -1.245e-02-0.006j  2.657e-02+0.021j -5.637e-02-0.043j\n",
      "  1.046e-01+0.073j -1.728e-01-0.117j  2.572e-01+0.165j -3.377e-01-0.217j\n",
      "  3.945e-01+0.247j -4.101e-01-0.259j  3.494e-01+0.216j -2.044e-01-0.128j]\n",
      "[-0.003+0.001j  0.   -0.006j  0.004+0.005j -0.007-0.005j  0.011+0.004j\n",
      " -0.01 -0.011j  0.021+0.034j -0.046-0.067j  0.085+0.112j -0.141-0.177j\n",
      "  0.206+0.243j -0.266-0.313j  0.302+0.342j -0.315-0.359j  0.266+0.296j\n",
      " -0.157-0.177j]\n",
      "[-0.004+0.001j  0.001-0.008j  0.005+0.007j -0.008-0.008j  0.012+0.006j\n",
      " -0.006-0.016j  0.011+0.045j -0.026-0.088j  0.051+0.145j -0.09 -0.226j\n",
      "  0.13 +0.305j -0.171-0.382j  0.187+0.406j -0.2  -0.424j  0.165+0.348j\n",
      " -0.1  -0.208j]\n",
      "[-0.006+0.001j  0.001-0.01j   0.004+0.009j -0.008-0.012j  0.011+0.007j\n",
      "  0.002-0.02j  -0.004+0.054j  0.002-0.103j  0.005+0.169j -0.023-0.258j\n",
      "  0.035+0.344j -0.059-0.42j   0.06 +0.436j -0.076-0.449j  0.058+0.368j\n",
      " -0.04 -0.22j ]\n",
      "[-0.007+0.002j  0.002-0.012j  0.003+0.011j -0.009-0.015j  0.008+0.007j\n",
      "  0.011-0.023j -0.023+0.057j  0.036-0.108j -0.049+0.179j  0.055-0.268j\n",
      " -0.069+0.356j  0.061-0.421j -0.065+0.431j  0.046-0.436j -0.045+0.361j\n",
      "  0.019-0.213j]\n",
      "[-0.009+0.002j  0.003-0.014j  0.001+0.014j -0.009-0.017j  0.005+0.006j\n",
      "  0.02 -0.022j -0.043+0.054j  0.073-0.103j -0.106+0.171j  0.138-0.252j\n",
      " -0.173+0.337j  0.178-0.387j -0.177+0.394j  0.159-0.389j -0.134+0.327j\n",
      "  0.073-0.19j ]\n",
      "[-1.145e-02+0.003j  3.924e-03-0.015j -9.255e-04+0.016j -9.952e-03-0.019j\n",
      "  2.566e-04+0.003j  3.008e-02-0.018j -6.296e-02+0.044j  1.106e-01-0.086j\n",
      " -1.612e-01+0.145j  2.169e-01-0.212j -2.683e-01+0.287j  2.840e-01-0.321j\n",
      " -2.682e-01+0.328j  2.527e-01-0.315j -2.031e-01+0.271j  1.172e-01-0.154j]\n",
      "[-0.014+0.003j  0.005-0.016j -0.004+0.019j -0.011-0.019j -0.004-0.j\n",
      "  0.038-0.01j  -0.081+0.027j  0.143-0.058j -0.208+0.101j  0.285-0.148j\n",
      " -0.345+0.208j  0.369-0.229j -0.331+0.24j   0.323-0.225j -0.248+0.2j\n",
      "  0.149-0.112j]\n",
      "[-0.016+0.004j  0.007-0.017j -0.006+0.022j -0.011-0.018j -0.008-0.005j\n",
      "  0.044+0.001j -0.094+0.004j  0.167-0.019j -0.242+0.04j   0.334-0.066j\n",
      " -0.397+0.107j  0.426-0.121j -0.364+0.135j  0.363-0.128j -0.269+0.119j\n",
      "  0.168-0.067j]\n",
      "[-0.018+0.004j  0.009-0.017j -0.009+0.025j -0.012-0.016j -0.011-0.01j\n",
      "  0.046+0.015j -0.102-0.024j  0.18 +0.027j -0.258-0.031j  0.358+0.029j\n",
      " -0.418-0.01j   0.448-0.005j -0.368+0.025j  0.373-0.034j -0.269+0.037j\n",
      "  0.171-0.024j]\n",
      "[-0.021+0.005j  0.011-0.017j -0.011+0.028j -0.013-0.013j -0.012-0.015j\n",
      "  0.044+0.03j  -0.101-0.054j  0.177+0.077j -0.254-0.108j  0.352+0.13j\n",
      " -0.408-0.132j  0.433+0.11j  -0.347-0.082j  0.351+0.051j -0.25 -0.041j\n",
      "  0.16 +0.013j]\n",
      "[-0.023+0.006j  0.013-0.017j -0.012+0.032j -0.014-0.009j -0.011-0.02j\n",
      "  0.038+0.047j -0.092-0.084j  0.159+0.128j -0.229-0.184j  0.315+0.228j\n",
      " -0.366-0.248j  0.383+0.216j -0.306-0.176j  0.302+0.122j -0.22 -0.105j\n",
      "  0.137+0.044j]\n",
      "[-0.026+0.006j  0.016-0.017j -0.013+0.035j -0.015-0.005j -0.007-0.024j\n",
      "  0.026+0.063j -0.073-0.112j  0.126+0.175j -0.184-0.252j  0.25 +0.316j\n",
      " -0.294-0.347j  0.302+0.305j -0.248-0.246j  0.232+0.178j -0.18 -0.149j\n",
      "  0.105+0.067j]\n",
      "[-0.028+0.007j  0.02 -0.016j -0.013+0.038j -0.016-0.001j -0.001-0.027j\n",
      "  0.011+0.076j -0.047-0.133j  0.078+0.214j -0.119-0.305j  0.159+0.385j\n",
      " -0.197-0.42j   0.198+0.372j -0.178-0.288j  0.152+0.217j -0.136-0.172j\n",
      "  0.069+0.083j]\n",
      "[-0.031+0.007j  0.023-0.016j -0.012+0.04j  -0.016+0.002j  0.008-0.028j\n",
      " -0.007+0.086j -0.013-0.147j  0.02 +0.24j  -0.04 -0.339j  0.052+0.43j\n",
      " -0.082-0.46j   0.082+0.411j -0.101-0.299j  0.072+0.239j -0.088-0.172j\n",
      "  0.035+0.091j]\n",
      "[-0.033+0.007j  0.027-0.016j -0.01 +0.042j -0.016+0.005j  0.018-0.027j\n",
      " -0.027+0.091j  0.026-0.152j -0.044+0.252j  0.05 -0.349j -0.065+0.446j\n",
      "  0.044-0.466j -0.034+0.42j  -0.02 -0.283j  0.001+0.242j -0.039-0.153j\n",
      "  0.006+0.091j]\n",
      "[-0.035+0.007j  0.031-0.016j -0.008+0.044j -0.015+0.006j  0.03 -0.026j\n",
      " -0.048+0.09j   0.068-0.146j -0.111+0.245j  0.142-0.335j -0.182+0.429j\n",
      "  0.171-0.436j -0.141+0.396j  0.059-0.245j -0.052+0.226j  0.007-0.123j\n",
      " -0.014+0.083j]\n",
      "[-0.038+0.007j  0.035-0.017j -0.006+0.045j -0.014+0.005j  0.042-0.022j\n",
      " -0.069+0.082j  0.109-0.13j  -0.175+0.221j  0.23 -0.296j -0.289+0.379j\n",
      "  0.288-0.374j -0.23 +0.34j   0.13 -0.194j -0.086+0.19j   0.047-0.088j\n",
      " -0.025+0.067j]\n",
      "[-0.04 +0.007j  0.039-0.018j -0.004+0.045j -0.012+0.002j  0.053-0.018j\n",
      " -0.087+0.067j  0.146-0.104j -0.231+0.179j  0.307-0.236j -0.379+0.3j\n",
      "  0.385-0.287j -0.297+0.255j  0.185-0.139j -0.101+0.138j  0.076-0.054j\n",
      " -0.027+0.044j]\n",
      "[-0.043+0.007j  0.043-0.019j -0.002+0.044j -0.01 -0.002j  0.062-0.013j\n",
      " -0.103+0.047j  0.178-0.069j -0.276+0.122j  0.367-0.157j -0.445+0.196j\n",
      "  0.453-0.179j -0.339+0.15j   0.215-0.084j -0.102+0.074j  0.088-0.027j\n",
      " -0.023+0.018j]\n",
      "[-4.595e-02+0.007j  4.660e-02-0.021j -9.960e-05+0.043j -8.623e-03-0.008j\n",
      "  6.835e-02-0.007j -1.139e-01+0.022j  1.997e-01-0.029j -3.060e-01+0.054j\n",
      "  4.047e-01-0.067j -4.830e-01+0.077j  4.858e-01-0.061j -3.557e-01+0.034j\n",
      "  2.159e-01-0.032j -9.301e-02+0.009j  8.035e-02-0.007j -1.560e-02-0.008j]\n",
      "[-0.049+0.007j  0.05 -0.023j  0.001+0.041j -0.007-0.015j  0.071-0.j\n",
      " -0.121-0.007j  0.211+0.017j -0.319-0.022j  0.417+0.031j -0.49 -0.05j\n",
      "  0.48 +0.062j -0.347-0.08j   0.188+0.016j -0.078-0.048j  0.054+0.007j\n",
      " -0.007-0.029j]\n",
      "[-5.215e-02+0.006j  5.221e-02-0.025j  1.618e-04+0.039j -6.368e-03-0.023j\n",
      "  7.017e-02+0.007j -1.223e-01-0.037j  2.106e-01+0.064j -3.140e-01-0.101j\n",
      "  4.024e-01+0.128j -4.645e-01-0.173j  4.376e-01+0.18j  -3.131e-01-0.179j\n",
      "  1.356e-01+0.061j -5.784e-02-0.086j  1.474e-02+0.019j  2.502e-03-0.041j]\n",
      "[-0.056+0.006j  0.054-0.027j -0.001+0.036j -0.006-0.03j   0.065+0.014j\n",
      " -0.119-0.067j  0.198+0.11j  -0.291-0.176j  0.363+0.219j -0.409-0.284j\n",
      "  0.363+0.285j -0.255-0.255j  0.069+0.104j -0.03 -0.1j   -0.03 +0.03j\n",
      "  0.013-0.042j]\n",
      "[-0.059+0.006j  0.056-0.03j  -0.004+0.033j -0.006-0.037j  0.056+0.022j\n",
      " -0.11 -0.095j  0.175+0.154j -0.252-0.243j  0.301+0.298j -0.326-0.373j\n",
      "  0.265+0.369j -0.175-0.302j  0.001+0.14j   0.007-0.089j -0.072+0.038j\n",
      "  0.026-0.032j]\n",
      "[-0.063+0.007j  0.057-0.031j -0.007+0.031j -0.006-0.042j  0.043+0.029j\n",
      " -0.096-0.119j  0.141+0.192j -0.198-0.299j  0.222+0.359j -0.223-0.436j\n",
      "  0.153+0.424j -0.076-0.318j -0.057+0.162j  0.054-0.058j -0.101+0.039j\n",
      "  0.042-0.014j]\n",
      "[-0.066+0.007j  0.057-0.033j -0.011+0.029j -0.007-0.045j  0.028+0.037j\n",
      " -0.078-0.138j  0.101+0.223j -0.134-0.34j   0.13 +0.398j -0.107-0.47j\n",
      "  0.034+0.444j  0.032-0.307j -0.101+0.164j  0.108-0.017j -0.115+0.029j\n",
      "  0.059+0.008j]\n",
      "[-0.07 +0.008j  0.057-0.034j -0.015+0.027j -0.007-0.046j  0.012+0.045j\n",
      " -0.055-0.15j   0.055+0.245j -0.063-0.364j  0.034+0.414j  0.014-0.471j\n",
      " -0.081+0.428j  0.138-0.273j -0.129+0.138j  0.162+0.026j -0.115+0.003j\n",
      "  0.074+0.03j ]\n",
      "[-0.074+0.009j  0.057-0.034j -0.02 +0.025j -0.006-0.044j -0.005+0.052j\n",
      " -0.03 -0.157j  0.008+0.259j  0.011-0.37j  -0.062+0.406j  0.128-0.443j\n",
      " -0.187+0.376j  0.232-0.22j  -0.145+0.084j  0.204+0.063j -0.106-0.04j\n",
      "  0.082+0.049j]\n",
      "[-0.078+0.01j   0.056-0.034j -0.024+0.024j -0.004-0.04j  -0.021+0.058j\n",
      " -0.002-0.156j -0.039+0.262j  0.083-0.359j -0.152+0.377j  0.228-0.386j\n",
      " -0.276+0.293j  0.3  -0.151j -0.158+0.009j  0.223+0.094j -0.095-0.094j\n",
      "  0.081+0.064j]\n",
      "[-0.081+0.012j  0.056-0.033j -0.027+0.023j -0.002-0.035j -0.036+0.063j\n",
      "  0.026-0.15j  -0.083+0.256j  0.15 -0.333j -0.229+0.329j  0.305-0.306j\n",
      " -0.343+0.189j  0.335-0.068j -0.171-0.075j  0.214+0.122j -0.087-0.149j\n",
      "  0.067+0.076j]\n",
      "[-0.084+0.014j  0.056-0.032j -0.03 +0.022j  0.003-0.028j -0.048+0.066j\n",
      "  0.056-0.14j  -0.121+0.242j  0.208-0.294j -0.289+0.266j  0.357-0.207j\n",
      " -0.382+0.074j  0.334+0.027j -0.183-0.151j  0.177+0.155j -0.082-0.194j\n",
      "  0.041+0.09j ]\n",
      "[-0.088+0.02j   0.054-0.033j -0.03 +0.022j  0.006-0.022j -0.054+0.071j\n",
      "  0.074-0.134j -0.138+0.233j  0.237-0.266j -0.313+0.215j  0.367-0.117j\n",
      " -0.387-0.025j  0.307+0.12j  -0.201-0.199j  0.138+0.191j -0.094-0.217j\n",
      "  0.018+0.104j]\n",
      "[-0.09 +0.034j  0.049-0.038j -0.026+0.026j  0.008-0.02j  -0.047+0.082j\n",
      "  0.072-0.146j -0.117+0.247j  0.221-0.272j -0.291+0.199j  0.344-0.055j\n",
      " -0.371-0.09j   0.29 +0.203j -0.233-0.196j  0.138+0.228j -0.135-0.2j\n",
      "  0.019+0.118j]\n",
      "[-0.09 +0.048j  0.044-0.042j -0.02 +0.028j  0.011-0.019j -0.037+0.093j\n",
      "  0.066-0.16j  -0.09 +0.255j  0.196-0.276j -0.26 +0.177j  0.321+0.011j\n",
      " -0.344-0.158j  0.293+0.286j -0.23 -0.17j   0.169+0.258j -0.152-0.158j\n",
      "  0.032+0.127j]\n",
      "[-0.087+0.063j  0.038-0.045j -0.014+0.028j  0.014-0.021j -0.025+0.1j\n",
      "  0.055-0.176j -0.059+0.258j  0.164-0.279j -0.224+0.149j  0.299+0.076j\n",
      " -0.31 -0.234j  0.313+0.349j -0.191-0.158j  0.225+0.251j -0.141-0.117j\n",
      "  0.054+0.121j]\n",
      "[-0.08 +0.077j  0.031-0.046j -0.009+0.026j  0.016-0.026j -0.011+0.106j\n",
      "  0.037-0.192j -0.025+0.255j  0.123-0.278j -0.185+0.115j  0.274+0.136j\n",
      " -0.279-0.319j  0.33 +0.378j -0.149-0.183j  0.271+0.191j -0.12 -0.093j\n",
      "  0.072+0.094j]\n",
      "[-0.071+0.09j   0.026-0.046j -0.004+0.023j  0.015-0.033j  0.004+0.109j\n",
      "  0.011-0.206j  0.01 +0.248j  0.074-0.272j -0.147+0.08j   0.244+0.193j\n",
      " -0.26 -0.404j  0.321+0.384j -0.145-0.228j  0.269+0.096j -0.111-0.079j\n",
      "  0.072+0.054j]\n",
      "[-0.059+0.102j  0.02 -0.044j -0.001+0.019j  0.011-0.041j  0.02 +0.111j\n",
      " -0.021-0.216j  0.045+0.237j  0.021-0.259j -0.11 +0.047j  0.209+0.248j\n",
      " -0.256-0.473j  0.281+0.391j -0.189-0.241j  0.209+0.011j -0.116-0.047j\n",
      "  0.05 +0.016j]\n",
      "[-0.044+0.11j   0.016-0.042j -0.   +0.015j  0.003-0.047j  0.037+0.11j\n",
      " -0.058-0.219j  0.08 +0.222j -0.034-0.238j -0.073+0.019j  0.176+0.302j\n",
      " -0.253-0.516j  0.233+0.417j -0.232-0.183j  0.124-0.028j -0.109+0.015j\n",
      "  0.017-0.007j]\n",
      "[-0.027+0.116j  0.013-0.039j -0.001+0.011j -0.008-0.053j  0.056+0.107j\n",
      " -0.098-0.215j  0.113+0.204j -0.086-0.212j -0.034-0.005j  0.152+0.35j\n",
      " -0.239-0.535j  0.203+0.454j -0.21 -0.076j  0.059-0.03j  -0.056+0.087j\n",
      " -0.013-0.018j]\n",
      "[-0.01 +0.117j  0.012-0.036j -0.002+0.008j -0.021-0.054j  0.075+0.102j\n",
      " -0.14 -0.203j  0.145+0.183j -0.133-0.182j  0.006-0.026j  0.135+0.383j\n",
      " -0.21 -0.544j  0.199+0.471j -0.102+0.004j  0.028-0.039j  0.041+0.124j\n",
      " -0.039-0.029j]\n",
      "[ 0.008+0.115j  0.012-0.034j -0.004+0.007j -0.037-0.052j  0.096+0.092j\n",
      " -0.18 -0.181j  0.173+0.159j -0.173-0.151j  0.045-0.046j  0.121+0.394j\n",
      " -0.175-0.552j  0.196+0.444j  0.034-0.007j -0.01 -0.086j  0.139+0.1j\n",
      " -0.072-0.044j]\n",
      "[ 0.025+0.109j  0.013-0.033j -0.006+0.006j -0.052-0.045j  0.117+0.078j\n",
      " -0.217-0.151j  0.197+0.133j -0.206-0.121j  0.079-0.062j  0.103+0.384j\n",
      " -0.147-0.555j  0.156+0.387j  0.106-0.091j -0.105-0.141j  0.191+0.038j\n",
      " -0.124-0.048j]\n",
      "[ 0.039+0.1j    0.015-0.034j -0.007+0.007j -0.066-0.033j  0.136+0.057j\n",
      " -0.248-0.112j  0.214+0.105j -0.231-0.094j  0.106-0.073j  0.076+0.36j\n",
      " -0.13 -0.54j   0.072+0.341j  0.085-0.155j -0.253-0.134j  0.194-0.008j\n",
      " -0.184-0.02j ]\n",
      "[ 0.051+0.087j  0.016-0.036j -0.007+0.009j -0.077-0.016j  0.152+0.03j\n",
      " -0.269-0.066j  0.224+0.078j -0.248-0.07j   0.129-0.074j  0.042+0.326j\n",
      " -0.111-0.497j -0.022+0.338j  0.046-0.129j -0.381-0.028j  0.198-0.013j\n",
      " -0.221+0.045j]\n",
      "[ 0.059+0.072j  0.017-0.04j  -0.006+0.011j -0.083+0.005j  0.163-0.002j\n",
      " -0.28 -0.014j  0.228+0.052j -0.256-0.051j  0.148-0.066j  0.007+0.284j\n",
      " -0.074-0.434j -0.082+0.363j  0.087-0.057j -0.41 +0.129j  0.247-0.016j\n",
      " -0.211+0.119j]\n",
      "[ 0.063+0.056j  0.015-0.046j -0.003+0.012j -0.083+0.027j  0.165-0.04j\n",
      " -0.277+0.04j   0.225+0.029j -0.257-0.041j  0.167-0.051j -0.03 +0.23j\n",
      " -0.017-0.372j -0.103+0.371j  0.206-0.058j -0.344+0.24j   0.317-0.084j\n",
      " -0.165+0.167j]\n",
      "[ 6.302e-02+0.04j   1.031e-02-0.052j  3.219e-04+0.012j -7.658e-02+0.05j\n",
      "  1.563e-01-0.08j  -2.605e-01+0.095j  2.154e-01+0.009j -2.515e-01-0.039j\n",
      "  1.829e-01-0.03j  -7.436e-02+0.167j  4.425e-02-0.321j -1.224e-01+0.344j\n",
      "  2.816e-01-0.179j -2.724e-01+0.268j  3.250e-01-0.222j -1.161e-01+0.178j]\n",
      "[ 0.058+0.025j  0.003-0.057j  0.004+0.009j -0.064+0.072j  0.136-0.12j\n",
      " -0.229+0.146j  0.2  -0.006j -0.243-0.047j  0.197-0.003j -0.129+0.101j\n",
      "  0.096-0.275j -0.173+0.315j  0.21 -0.316j -0.259+0.278j  0.22 -0.346j\n",
      " -0.089+0.178j]\n",
      "[ 0.05 +0.012j -0.008-0.06j   0.008+0.005j -0.044+0.09j   0.104-0.155j\n",
      " -0.184+0.191j  0.181-0.017j -0.233-0.064j  0.21 +0.03j  -0.189+0.041j\n",
      "  0.142-0.22j  -0.227+0.328j  0.057-0.321j -0.257+0.354j  0.059-0.364j\n",
      " -0.067+0.193j]\n",
      "[ 0.039+0.004j -0.021-0.061j  0.01 -0.001j -0.019+0.103j  0.06 -0.182j\n",
      " -0.126+0.225j  0.158-0.022j -0.225-0.088j  0.225+0.067j -0.25 -0.012j\n",
      "  0.197-0.164j -0.23 +0.373j -0.008-0.204j -0.163+0.473j -0.048-0.284j\n",
      " -0.017+0.215j]\n",
      "[ 0.026-0.001j -0.035-0.056j  0.01 -0.008j  0.009+0.11j   0.007-0.197j\n",
      " -0.058+0.246j  0.133-0.022j -0.219-0.117j  0.241+0.106j -0.307-0.058j\n",
      "  0.259-0.125j -0.168+0.387j  0.064-0.138j  0.04 +0.507j -0.063-0.206j\n",
      "  0.062+0.202j]\n",
      "[ 0.013-0.001j -0.049-0.047j  0.008-0.017j  0.04 +0.107j -0.05 -0.196j\n",
      "  0.018+0.251j  0.106-0.018j -0.218-0.148j  0.259+0.144j -0.361-0.097j\n",
      "  0.306-0.111j -0.102+0.333j  0.111-0.226j  0.225+0.388j -0.063-0.196j\n",
      "  0.126+0.134j]\n",
      "[ 0.001+0.004j -0.06 -0.032j  0.002-0.025j  0.07 +0.096j -0.107-0.18j\n",
      "  0.096+0.238j  0.078-0.01j  -0.221-0.179j  0.278+0.18j  -0.413-0.125j\n",
      "  0.321-0.106j -0.086+0.259j -0.023-0.323j  0.274+0.208j -0.129-0.197j\n",
      "  0.134+0.043j]\n",
      "[-0.008+0.012j -0.067-0.012j -0.008-0.032j  0.096+0.077j -0.158-0.147j\n",
      "  0.173+0.206j  0.051+0.001j -0.229-0.207j  0.299+0.214j -0.455-0.136j\n",
      "  0.314-0.087j -0.088+0.229j -0.228-0.218j  0.232+0.107j -0.218-0.114j\n",
      "  0.095-0.022j]\n",
      "[-0.014+0.023j -0.067+0.011j -0.02 -0.036j  0.116+0.049j -0.198-0.1j\n",
      "  0.242+0.156j  0.022+0.015j -0.238-0.229j  0.322+0.241j -0.479-0.135j\n",
      "  0.306-0.059j -0.035+0.224j -0.244+0.033j  0.236+0.078j -0.22 +0.034j\n",
      "  0.049-0.05j ]\n",
      "[-0.015+0.035j -0.059+0.035j -0.034-0.036j  0.128+0.017j -0.224-0.043j\n",
      "  0.299+0.09j  -0.006+0.031j -0.248-0.243j  0.347+0.258j -0.482-0.132j\n",
      "  0.297-0.044j  0.067+0.159j -0.051+0.143j  0.297-0.014j -0.118+0.129j\n",
      "  0.011-0.068j]\n",
      "[-0.011+0.047j -0.042+0.056j -0.05 -0.031j  0.128-0.019j -0.231+0.018j\n",
      "  0.339+0.012j -0.036+0.052j -0.257-0.249j  0.37 +0.263j -0.473-0.129j\n",
      "  0.262-0.041j  0.122+0.015j  0.058+0.014j  0.269-0.201j -0.018+0.121j\n",
      " -0.043-0.084j]\n",
      "[-0.003+0.057j -0.017+0.072j -0.064-0.022j  0.118-0.052j -0.22 +0.077j\n",
      "  0.359-0.074j -0.065+0.076j -0.262-0.247j  0.387+0.257j -0.454-0.124j\n",
      "  0.193-0.022j  0.083-0.111j -0.08 -0.073j  0.083-0.32j   0.011+0.093j\n",
      " -0.117-0.065j]\n",
      "[ 0.008+0.063j  0.014+0.08j  -0.077-0.007j  0.097-0.081j -0.192+0.129j\n",
      "  0.357-0.16j  -0.092+0.106j -0.259-0.237j  0.398+0.24j  -0.421-0.116j\n",
      "  0.12 +0.032j  0.031-0.147j -0.202+0.105j -0.106-0.255j  0.041+0.115j\n",
      " -0.173+0.006j]\n",
      "[ 0.021+0.065j  0.049+0.077j -0.084+0.012j  0.068-0.101j -0.15 +0.168j\n",
      "  0.333-0.241j -0.116+0.142j -0.248-0.221j  0.401+0.212j -0.371-0.112j\n",
      "  0.072+0.102j  0.049-0.16j  -0.029+0.302j -0.146-0.129j  0.141+0.11j\n",
      " -0.174+0.096j]\n",
      "[ 0.034+0.063j  0.084+0.061j -0.086+0.034j  0.034-0.109j -0.1  +0.189j\n",
      "  0.29 -0.31j  -0.133+0.183j -0.227-0.204j  0.392+0.173j -0.313-0.12j\n",
      "  0.036+0.159j  0.081-0.24j   0.222+0.181j -0.124-0.106j  0.225-0.008j\n",
      " -0.139+0.163j]\n",
      "[ 0.045+0.056j  0.113+0.032j -0.081+0.057j  0.001-0.105j -0.048+0.193j\n",
      "  0.233-0.363j -0.14 +0.229j -0.198-0.187j  0.366+0.126j -0.259-0.136j\n",
      " -0.008+0.213j  0.026-0.33j   0.16 -0.08j  -0.206-0.106j  0.177-0.157j\n",
      " -0.099+0.217j]\n",
      "[ 0.053+0.045j  0.132-0.008j -0.069+0.078j -0.028-0.09j  -0.001+0.179j\n",
      "  0.165-0.395j -0.135+0.276j -0.16 -0.174j  0.322+0.078j -0.208-0.153j\n",
      " -0.047+0.29j  -0.066-0.317j -0.078-0.049j -0.304+0.043j  0.057-0.197j\n",
      " -0.038+0.278j]\n"
     ]
    }
   ],
   "source": [
    "psi_ini = eigenvecs_H0[:, ground_idx_H0]\n",
    "# print(psi_ini)\n",
    "# print(np.linalg.norm(psi_ini))\n",
    "\n",
    "psi_correct = eigenvecs_Hp[:, ground_idx_Hp]\n",
    "# print(psi_correct)\n",
    "\n",
    "# psi_t_list = []\n",
    "energy_expectation_t_list = []\n",
    "psi_t_list = []\n",
    "\n",
    "for t in t_axis:\n",
    "    psi_t = Unitary(t) @ psi_ini\n",
    "    # print(psi_t)\n",
    "    # print(np.linalg.norm(psi_t))\n",
    "    energy_expectation_t_list.append(psi_t.conjugate().transpose() @ H(t) @ psi_t)\n",
    "    psi_t_list.append(psi_t)\n",
    "\n",
    "print(energy_expectation_t_list)\n",
    "for psi_t in psi_t_list:\n",
    "    print(psi_t, sep=\"\\n\")"
   ]
  },
  {
   "cell_type": "code",
   "execution_count": 91,
   "metadata": {},
   "outputs": [
    {
     "data": {
      "text/plain": [
       "[<matplotlib.lines.Line2D at 0x169660620>]"
      ]
     },
     "execution_count": 91,
     "metadata": {},
     "output_type": "execute_result"
    },
    {
     "data": {
      "image/png": "[encoded data removed]",
      "text/plain": [
       "<Figure size 640x480 with 1 Axes>"
      ]
     },
     "metadata": {},
     "output_type": "display_data"
    }
   ],
   "source": [
    "instant_eigenvals = []\n",
    "\n",
    "for t in t_axis:\n",
    "    eigenvals, eigenvecs = np.linalg.eigh(H(t))\n",
    "    instant_eigenvals.append(eigenvals[eigenvals.argsort()[0:5]])\n",
    "\n",
    "# print(instant_eigenvals)\n",
    "plt.plot(t_axis, instant_eigenvals)\n",
    "plt.plot(t_axis, energy_expectation_t_list)"
   ]
  },
  {
   "cell_type": "code",
   "execution_count": 92,
   "metadata": {},
   "outputs": [
    {
     "name": "stdout",
     "output_type": "stream",
     "text": [
      "0.0669345138650697\n"
     ]
    }
   ],
   "source": [
    "accuracy = np.abs(np.dot(psi_correct, psi_t_list[-1]))**2\n",
    "print(accuracy)"
   ]
  },
  {
   "cell_type": "code",
   "execution_count": 93,
   "metadata": {},
   "outputs": [
    {
     "name": "stdout",
     "output_type": "stream",
     "text": [
      "[0. 0. 0. 0. 0. 0. 0. 0. 0. 1. 0. 0. 0. 0. 0. 0.]\n"
     ]
    }
   ],
   "source": [
    "print(psi_correct)"
   ]
  },
  {
   "cell_type": "code",
   "execution_count": 94,
   "metadata": {},
   "outputs": [
    {
     "name": "stdout",
     "output_type": "stream",
     "text": [
      "[ 0.053+0.045j  0.132-0.008j -0.069+0.078j -0.028-0.09j  -0.001+0.179j\n",
      "  0.165-0.395j -0.135+0.276j -0.16 -0.174j  0.322+0.078j -0.208-0.153j\n",
      " -0.047+0.29j  -0.066-0.317j -0.078-0.049j -0.304+0.043j  0.057-0.197j\n",
      " -0.038+0.278j]\n"
     ]
    }
   ],
   "source": [
    "print(psi_t_list[-1])"
   ]
  },
  {
   "cell_type": "code",
   "execution_count": null,
   "metadata": {},
   "outputs": [],
   "source": []
  },
  {
   "cell_type": "code",
   "execution_count": null,
   "metadata": {},
   "outputs": [],
   "source": []
  },
  {
   "cell_type": "code",
   "execution_count": null,
   "metadata": {},
   "outputs": [],
   "source": []
  },
  {
   "cell_type": "code",
   "execution_count": null,
   "metadata": {},
   "outputs": [],
   "source": []
  },
  {
   "cell_type": "code",
   "execution_count": 95,
   "metadata": {},
   "outputs": [],
   "source": [
    "accuracy_list = []\n",
    "beta_list = np.arange(0, 15, 0.01)\n",
    "\n",
    "for beta in beta_list:\n",
    "    int_H_T = 0.5 * alpha * T * (beta*H0 + Hp)\n",
    "    U = expm(-1j * int_H_T)\n",
    "\n",
    "    psi_final = U @ psi_ini\n",
    "    # print(psi_final)\n",
    "    # print(psi_final.conjugate().transpose() @ psi_final)\n",
    "    accuracy = np.abs(np.dot(psi_correct, psi_final))**2\n",
    "    # print(accuracy)\n",
    "    accuracy_list.append(accuracy)\n",
    "    \n",
    "accuracy_list = np.array(accuracy_list)"
   ]
  },
  {
   "cell_type": "code",
   "execution_count": 96,
   "metadata": {},
   "outputs": [
    {
     "data": {
      "text/plain": [
       "Text(0, 0.5, 'accuracy')"
      ]
     },
     "execution_count": 96,
     "metadata": {},
     "output_type": "execute_result"
    },
    {
     "data": {
      "image/png": "[encoded data removed]",
      "text/plain": [
       "<Figure size 640x480 with 1 Axes>"
      ]
     },
     "metadata": {},
     "output_type": "display_data"
    }
   ],
   "source": [
    "plt.scatter(beta_list, accuracy_list, s=1)\n",
    "plt.xlabel(\"beta\")\n",
    "plt.ylabel(\"accuracy\")"
   ]
  },
  {
   "cell_type": "code",
   "execution_count": 97,
   "metadata": {},
   "outputs": [
    {
     "data": {
      "text/plain": [
       "np.float64(0.286689597038576)"
      ]
     },
     "execution_count": 97,
     "metadata": {},
     "output_type": "execute_result"
    }
   ],
   "source": [
    "max(accuracy_list)"
   ]
  },
  {
   "cell_type": "code",
   "execution_count": 98,
   "metadata": {},
   "outputs": [
    {
     "data": {
      "text/plain": [
       "np.float64(11.790000000000001)"
      ]
     },
     "execution_count": 98,
     "metadata": {},
     "output_type": "execute_result"
    }
   ],
   "source": [
    "beta_list[accuracy_list.argmax()]"
   ]
  },
  {
   "cell_type": "code",
   "execution_count": null,
   "metadata": {},
   "outputs": [],
   "source": []
  }
 ],
 "metadata": {
  "kernelspec": {
   "display_name": "env",
   "language": "python",
   "name": "python3"
  },
  "language_info": {
   "codemirror_mode": {
    "name": "ipython",
    "version": 3
   },
   "file_extension": ".py",
   "mimetype": "text/x-python",
   "name": "python",
   "nbconvert_exporter": "python",
   "pygments_lexer": "ipython3",
   "version": "3.12.5"
  }
 },
 "nbformat": 4,
 "nbformat_minor": 2
}
