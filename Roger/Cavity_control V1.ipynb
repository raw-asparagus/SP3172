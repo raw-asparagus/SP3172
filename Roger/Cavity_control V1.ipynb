{
 "cells": [
  {
   "cell_type": "markdown",
   "metadata": {},
   "source": [
    "### Here, I explore concepts like native Hamiltonian and dispersive shift."
   ]
  },
  {
   "cell_type": "code",
   "execution_count": 55,
   "metadata": {},
   "outputs": [],
   "source": [
    "import numpy as np\n",
    "from scipy.linalg import expm\n",
    "import scipy\n",
    "import matplotlib.pyplot as plt\n",
    "import time"
   ]
  },
  {
   "cell_type": "code",
   "execution_count": 56,
   "metadata": {},
   "outputs": [],
   "source": [
    "np.set_printoptions(suppress=True)\n",
    "np.set_printoptions(precision=3)"
   ]
  },
  {
   "cell_type": "code",
   "execution_count": 57,
   "metadata": {},
   "outputs": [],
   "source": [
    "cavity_dim = 2\n",
    "omega_q = 20.1\n",
    "omega_c = 20.0\n",
    "Delta = omega_q - omega_c\n",
    "chi = 1 / Delta\n",
    "\n",
    "T = 1\n",
    "dt = 0.01\n",
    "t_axis = np.arange(0, T, dt)[0:]"
   ]
  },
  {
   "cell_type": "code",
   "execution_count": 58,
   "metadata": {},
   "outputs": [],
   "source": [
    "sigmaI = np.array(\n",
    "    [\n",
    "        [1, 0],\n",
    "        [0, 1],\n",
    "    ]\n",
    ")\n",
    "sigmaX = np.array(\n",
    "    [\n",
    "        [0, 1],\n",
    "        [1, 0],\n",
    "    ]\n",
    ")\n",
    "# sigmaZ = np.array(\n",
    "#     [\n",
    "#         [-1, 0],\n",
    "#         [0, 1],\n",
    "#     ]\n",
    "# )\n",
    "sigmaBin = np.array(\n",
    "    [\n",
    "        [0, 0],\n",
    "        [0, 1],\n",
    "    ]\n",
    ")\n",
    "\n",
    "# Annihilation operator\n",
    "a = np.zeros((cavity_dim, cavity_dim))\n",
    "n_indices = np.arange(1, cavity_dim)\n",
    "a[n_indices - 1, n_indices] = np.sqrt(n_indices)\n",
    "a_dag = a.conjugate().transpose()\n",
    "# print(a)\n",
    "# print(a_dag)\n",
    "\n",
    "def Fock(n):\n",
    "    vec = [[0] for _ in range(cavity_dim)]\n",
    "    vec[n] = [1]\n",
    "    return np.array(vec)\n",
    "# print(Fock(1))"
   ]
  },
  {
   "cell_type": "code",
   "execution_count": null,
   "metadata": {},
   "outputs": [],
   "source": [
    "def H(i):\n",
    "    return (omega_c - chi*np.kron(sigmaBin, np.identity(cavity_dim)))*(np.kron(sigmaI, a_dag) @ np.kron(sigmaI, a)) + omega_q*np.kron(sigmaBin, np.identity(cavity_dim))"
   ]
  },
  {
   "cell_type": "code",
   "execution_count": null,
   "metadata": {},
   "outputs": [
    {
     "name": "stdout",
     "output_type": "stream",
     "text": [
      "[[0]\n",
      " [0]\n",
      " [1]\n",
      " [0]]\n",
      "\n",
      "\n",
      "[[ 0. ]\n",
      " [ 0. ]\n",
      " [20.1]\n",
      " [ 0. ]]\n",
      "\n",
      "\n",
      "[[1.   +0.j    0.   +0.j    0.   +0.j    0.   +0.j   ]\n",
      " [0.   +0.j    0.408-0.913j 0.   +0.j    0.   +0.j   ]\n",
      " [0.   +0.j    0.   +0.j    0.315-0.949j 0.   +0.j   ]\n",
      " [0.   +0.j    0.   +0.j    0.   +0.j    0.252+0.968j]]\n",
      "\n",
      "\n",
      "[[0.   +0.j   ]\n",
      " [0.   +0.j   ]\n",
      " [0.315-0.949j]\n",
      " [0.   +0.j   ]]\n",
      "\n",
      "\n"
     ]
    },
    {
     "data": {
      "text/plain": [
       "array([[0.315-0.949j]])"
      ]
     },
     "execution_count": 60,
     "metadata": {},
     "output_type": "execute_result"
    }
   ],
   "source": [
    "# Sanity Check:\n",
    "\n",
    "\n",
    "# ket = np.kron( np.array([[0], [1]]), Fock(0) )\n",
    "# print(ket)\n",
    "# print(\"\\n\")\n",
    "# print(H(0) @ ket)\n",
    "# print(\"\\n\")\n",
    "\n",
    "# Unitary = np.identity(2 + cavity_dim)\n",
    "# for t in t_axis:\n",
    "#     Unitary = expm(-1j * H(t) * dt) @ Unitary\n",
    "# print(Unitary)\n",
    "# print(\"\\n\")\n",
    "# print(Unitary @ ket)\n",
    "# print(\"\\n\")\n",
    "# expm(-1j * omega_q *T)"
   ]
  },
  {
   "cell_type": "code",
   "execution_count": 61,
   "metadata": {},
   "outputs": [],
   "source": [
    "ket = np.kron( np.array([[0], [1]]), Fock(0) )"
   ]
  },
  {
   "cell_type": "code",
   "execution_count": null,
   "metadata": {},
   "outputs": [],
   "source": []
  },
  {
   "cell_type": "code",
   "execution_count": null,
   "metadata": {},
   "outputs": [],
   "source": []
  }
 ],
 "metadata": {
  "kernelspec": {
   "display_name": "env",
   "language": "python",
   "name": "python3"
  },
  "language_info": {
   "codemirror_mode": {
    "name": "ipython",
    "version": 3
   },
   "file_extension": ".py",
   "mimetype": "text/x-python",
   "name": "python",
   "nbconvert_exporter": "python",
   "pygments_lexer": "ipython3",
   "version": "3.12.5"
  }
 },
 "nbformat": 4,
 "nbformat_minor": 2
}
