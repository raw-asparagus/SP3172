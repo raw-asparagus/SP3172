{
 "cells": [
  {
   "cell_type": "markdown",
   "metadata": {},
   "source": [
    "### In QA V5, I check whether the length of T actually plays a role, or is it the same as adjusting alpha.\n",
    "\n",
    "Here in QA V5.2, I only vary beta."
   ]
  },
  {
   "cell_type": "markdown",
   "metadata": {},
   "source": [
    "# Conclusion\n",
    "\n",
    "Beta is a bit more tricky to deal with. While the accuracy-alpha and accuracy-T_max graphs are always increasing, the accuracy-beta graph peaks somewhere in the middle. So from now, the strategy should be: use as large beta as possible, then sweep through different beta values to find beta_optimal.\n",
    "\n",
    "If we have extra time, it would be good to see how beta_optimal changes as alpha changes."
   ]
  },
  {
   "cell_type": "code",
   "execution_count": 1,
   "metadata": {},
   "outputs": [],
   "source": [
    "import numpy as np\n",
    "from scipy.linalg import expm\n",
    "import scipy\n",
    "import matplotlib.pyplot as plt\n",
    "import time"
   ]
  },
  {
   "cell_type": "code",
   "execution_count": 2,
   "metadata": {},
   "outputs": [],
   "source": [
    "np.set_printoptions(suppress=True)\n",
    "np.set_printoptions(precision=3)"
   ]
  },
  {
   "cell_type": "code",
   "execution_count": 3,
   "metadata": {},
   "outputs": [],
   "source": [
    "sigmaI = np.array(\n",
    "    [\n",
    "        [1, 0],\n",
    "        [0, 1],\n",
    "    ]\n",
    ")\n",
    "sigmaX = np.array(\n",
    "    [\n",
    "        [0, 1],\n",
    "        [1, 0],\n",
    "    ]\n",
    ")\n",
    "sigmaBin = np.array(\n",
    "    [\n",
    "        [0, 0],\n",
    "        [0, 1],\n",
    "    ]\n",
    ")"
   ]
  },
  {
   "cell_type": "code",
   "execution_count": 4,
   "metadata": {},
   "outputs": [],
   "source": [
    "Values = [10, 5]\n",
    "Weights = [2, 3]\n",
    "Ancil = [1, 2]\n",
    "\n",
    "alpha = 5\n",
    "beta = 1\n",
    "gamma = max(Values) + 1\n",
    "T = 1\n",
    "dt = 0.01\n",
    "t_axis = np.arange(0, T, dt)[0:]"
   ]
  },
  {
   "cell_type": "code",
   "execution_count": 5,
   "metadata": {},
   "outputs": [
    {
     "name": "stdout",
     "output_type": "stream",
     "text": [
      "-47.34465334125993\n",
      "[-0.     0.    -0.     0.001 -0.004  0.011 -0.026  0.056 -0.106  0.182\n",
      " -0.281  0.389 -0.475  0.5   -0.428  0.25 ]\n"
     ]
    }
   ],
   "source": [
    "H0 = np.array([\n",
    "[ 0.,7.14,0.,0.,0.,0.,0.,0.,0.,0.,0.,0.,0.,0.,0.,0.,],\n",
    "[ 7.14,0.,10.097,0.,0.,0.,0.,0.,0.,0.,0.,0.,0.,0.,0.,0.,],\n",
    "[ 0.,10.097,0.,12.367,0.,0.,0.,0.,0.,0.,0.,0.,0.,0.,0.,0.,],\n",
    "[ 0.,0.,12.367,0.,14.28,0.,0.,0.,0.,0.,0.,0.,0.,0.,0.,0.,],\n",
    "[ 0.,0.,0.,14.28,0.,15.966,0.,0.,0.,0.,0.,0.,0.,0.,0.,0.,],\n",
    "[ 0.,0.,0.,0.,15.966,0.,17.489,0.,0.,0.,0.,0.,0.,0.,0.,0.,],\n",
    "[ 0.,0.,0.,0.,0.,17.489,0.,18.891,0.,0.,0.,0.,0.,0.,0.,0.,],\n",
    "[ 0.,0.,0.,0.,0.,0.,18.891,0.,20.195,0.,0.,0.,0.,0.,0.,0.,],\n",
    "[ 0.,0.,0.,0.,0.,0.,0.,20.195,0.,21.42,0.,0.,0.,0.,0.,0.,],\n",
    "[ 0.,0.,0.,0.,0.,0.,0.,0.,21.42,0.,22.579,0.,0.,0.,0.,0.,],\n",
    "[ 0.,0.,0.,0.,0.,0.,0.,0.,0.,22.579,0.,23.681,0.,0.,0.,0.,],\n",
    "[ 0.,0.,0.,0.,0.,0.,0.,0.,0.,0.,23.681,0.,24.734,0.,0.,0.,],\n",
    "[ 0.,0.,0.,0.,0.,0.,0.,0.,0.,0.,0.,24.734,0.,25.744,0.,0.,],\n",
    "[ 0.,0.,0.,0.,0.,0.,0.,0.,0.,0.,0.,0.,25.744,0.,26.715,0.,],\n",
    "[ 0.,0.,0.,0.,0.,0.,0.,0.,0.,0.,0.,0.,0.,26.715,0.,27.653],\n",
    "[ 0.,0.,0.,0.,0.,0.,0.,0.,0.,0.,0.,0.,0.,0.,27.653,0.,]\n",
    "])\n",
    "# print(H0)\n",
    "\n",
    "eigenvals_H0, eigenvecs_H0 = np.linalg.eigh(H0)\n",
    "ground_idx_H0 = eigenvals_H0.argsort()[0]\n",
    "print(eigenvals_H0[ground_idx_H0])\n",
    "print(eigenvecs_H0[:, ground_idx_H0])"
   ]
  },
  {
   "cell_type": "code",
   "execution_count": 6,
   "metadata": {},
   "outputs": [
    {
     "name": "stdout",
     "output_type": "stream",
     "text": [
      "-10.0\n",
      "[0. 0. 0. 0. 0. 0. 0. 0. 0. 1. 0. 0. 0. 0. 0. 0.]\n"
     ]
    }
   ],
   "source": [
    "Hp = (\n",
    "    - (Values[0] * np.kron(np.kron(np.kron(sigmaBin, sigmaI), sigmaI), sigmaI) + Values[1] * np.kron(np.kron(np.kron(sigmaI, sigmaBin), sigmaI), sigmaI))\n",
    "    + gamma * (\n",
    "        (Weights[0] * np.kron(np.kron(np.kron(sigmaBin, sigmaI), sigmaI), sigmaI) + Weights[1] * np.kron(np.kron(np.kron(sigmaI, sigmaBin), sigmaI), sigmaI))\n",
    "      - (Ancil[0] * np.kron(np.kron(np.kron(sigmaI, sigmaI), sigmaBin), sigmaI) + Ancil[1] * np.kron(np.kron(np.kron(sigmaI, sigmaI), sigmaI), sigmaBin))\n",
    "    )**2\n",
    ")\n",
    "# print(Hp)\n",
    "\n",
    "eigenvals_Hp, eigenvecs_Hp = np.linalg.eigh(Hp)\n",
    "ground_idx_Hp = eigenvals_Hp.argsort()[0]\n",
    "print(eigenvals_Hp[ground_idx_Hp])\n",
    "print(eigenvecs_Hp[:, ground_idx_Hp])\n"
   ]
  },
  {
   "cell_type": "code",
   "execution_count": 7,
   "metadata": {},
   "outputs": [],
   "source": [
    "def H(t, T=1, alpha=1, beta=1):\n",
    "    return alpha * ( (1 - t/T)*beta*H0 + (t/T)*Hp )"
   ]
  },
  {
   "cell_type": "code",
   "execution_count": 8,
   "metadata": {},
   "outputs": [],
   "source": [
    "psi_ini = eigenvecs_H0[:, ground_idx_H0]\n",
    "# print(psi_ini)\n",
    "# print(np.linalg.norm(psi_ini))\n",
    "\n",
    "psi_correct = eigenvecs_Hp[:, ground_idx_Hp]\n",
    "# print(psi_correct)"
   ]
  },
  {
   "cell_type": "code",
   "execution_count": 9,
   "metadata": {},
   "outputs": [],
   "source": [
    "beta_list = np.arange(1e-1, 1e1, 1e-1)\n",
    "accuracy_list = []\n",
    "\n",
    "for beta in beta_list:\n",
    "    # start_time = time.time()\n",
    "\n",
    "    junrui_unitary = np.identity(len(H0))\n",
    "    for t in t_axis:\n",
    "        junrui_unitary = expm(-1j * H(t, T=T, alpha=alpha, beta=beta) * dt) @ junrui_unitary\n",
    "\n",
    "    psi_final = junrui_unitary @ psi_ini\n",
    "\n",
    "    accuracy = np.abs( np.dot(psi_correct, psi_final) )**2\n",
    "    accuracy_list.append(accuracy)\n",
    "\n",
    "    # end_time = time.time()\n",
    "    # print(f\"alpha = {alpha}, loop time: {end_time - start_time}\")\n",
    "\n"
   ]
  },
  {
   "cell_type": "code",
   "execution_count": 10,
   "metadata": {},
   "outputs": [
    {
     "name": "stdout",
     "output_type": "stream",
     "text": [
      "[np.float64(0.31182469444824895), np.float64(0.33619572298883377), np.float64(0.3744139909375848), np.float64(0.435184053056206), np.float64(0.4993304600014969), np.float64(0.5647595886136809), np.float64(0.6534712522981739), np.float64(0.7025318640502), np.float64(0.791937432296638), np.float64(0.8344712168975509), np.float64(0.888800856658309), np.float64(0.9373200612379817), np.float64(0.95392547683865), np.float64(0.9638560593772515), np.float64(0.9942182981213787), np.float64(0.9940693065610646), np.float64(0.9938103734528538), np.float64(0.992259166863598), np.float64(0.9908753112736916), np.float64(0.9928521047606946), np.float64(0.9917647096963086), np.float64(0.9843540050767103), np.float64(0.9861689447058826), np.float64(0.9875408551595303), np.float64(0.9810745726929664), np.float64(0.9793740812402117), np.float64(0.9796454352132787), np.float64(0.9740385613998677), np.float64(0.9708968004557336), np.float64(0.9706835780531878), np.float64(0.9660375183925407), np.float64(0.9625090850303816), np.float64(0.9605698634526952), np.float64(0.9566078300289776), np.float64(0.9530578323780022), np.float64(0.9507406373197888), np.float64(0.9500521604846178), np.float64(0.9459305450524744), np.float64(0.94004130747993), np.float64(0.9381639058399494), np.float64(0.9373541323656326), np.float64(0.9304660702291531), np.float64(0.9254263574024675), np.float64(0.92004689084801), np.float64(0.915972733997692), np.float64(0.9149143519190839), np.float64(0.9097996972058363), np.float64(0.9053707879097779), np.float64(0.9084117452744815), np.float64(0.8959549651210231), np.float64(0.8993838003656228), np.float64(0.8948464142719941), np.float64(0.8917356236785109), np.float64(0.8859543366458082), np.float64(0.8858368947183285), np.float64(0.8792735025876758), np.float64(0.8814822357999712), np.float64(0.8678452900315929), np.float64(0.8764952146386585), np.float64(0.8681639245928398), np.float64(0.8621214121262456), np.float64(0.8648147469652755), np.float64(0.8590260268377443), np.float64(0.850816836342245), np.float64(0.8594047527239314), np.float64(0.848848626741201), np.float64(0.8436783949178147), np.float64(0.843975987526113), np.float64(0.8452280714458275), np.float64(0.838919383137813), np.float64(0.8274622780489013), np.float64(0.8381314393446534), np.float64(0.8337192652727622), np.float64(0.825472857864558), np.float64(0.8193784866357892), np.float64(0.8162489161317554), np.float64(0.8255164017564903), np.float64(0.8208416862968436), np.float64(0.8098585104035145), np.float64(0.8043507275409916), np.float64(0.8094993036337854), np.float64(0.8112330309935282), np.float64(0.8086087328441967), np.float64(0.8036049206907273), np.float64(0.7936310282013692), np.float64(0.7877054032966792), np.float64(0.7880827354968285), np.float64(0.7929251775064016), np.float64(0.7985637555906611), np.float64(0.7849769282221523), np.float64(0.786118884213075), np.float64(0.7798919424273246), np.float64(0.771189488373048), np.float64(0.7750830686236153), np.float64(0.7698948582464835), np.float64(0.7779193400931946), np.float64(0.7817821440983118), np.float64(0.7749378582001177), np.float64(0.7666469604032065)]\n"
     ]
    }
   ],
   "source": [
    "print(accuracy_list)"
   ]
  },
  {
   "cell_type": "code",
   "execution_count": 13,
   "metadata": {},
   "outputs": [
    {
     "name": "stdout",
     "output_type": "stream",
     "text": [
      "0.9942182981213787\n"
     ]
    },
    {
     "data": {
      "image/png": "[encoded data removed]",
      "text/plain": [
       "<Figure size 640x480 with 1 Axes>"
      ]
     },
     "metadata": {},
     "output_type": "display_data"
    }
   ],
   "source": [
    "plt.scatter(beta_list, accuracy_list, s=1)\n",
    "plt.xlabel(\"beta\")\n",
    "plt.ylabel(\"accuracy\")\n",
    "print(max(accuracy_list))"
   ]
  },
  {
   "cell_type": "code",
   "execution_count": 16,
   "metadata": {},
   "outputs": [
    {
     "name": "stdout",
     "output_type": "stream",
     "text": [
      "1.0\n",
      "0.8344712168975509\n"
     ]
    }
   ],
   "source": [
    "print(beta_list[9])\n",
    "print(accuracy_list[9])"
   ]
  },
  {
   "cell_type": "code",
   "execution_count": 21,
   "metadata": {},
   "outputs": [
    {
     "name": "stdout",
     "output_type": "stream",
     "text": [
      "14\n",
      "0.9942182981213787\n",
      "beta_optimal: 1.5\n"
     ]
    }
   ],
   "source": [
    "accuracy_list = np.array(accuracy_list)\n",
    "print(accuracy_list.argmax())\n",
    "print(accuracy_list[accuracy_list.argmax()])\n",
    "print(f\"beta_optimal: {beta_list[accuracy_list.argmax()]}\")"
   ]
  },
  {
   "cell_type": "code",
   "execution_count": null,
   "metadata": {},
   "outputs": [],
   "source": []
  }
 ],
 "metadata": {
  "kernelspec": {
   "display_name": "env",
   "language": "python",
   "name": "python3"
  },
  "language_info": {
   "codemirror_mode": {
    "name": "ipython",
    "version": 3
   },
   "file_extension": ".py",
   "mimetype": "text/x-python",
   "name": "python",
   "nbconvert_exporter": "python",
   "pygments_lexer": "ipython3",
   "version": "3.12.5"
  }
 },
 "nbformat": 4,
 "nbformat_minor": 2
}
