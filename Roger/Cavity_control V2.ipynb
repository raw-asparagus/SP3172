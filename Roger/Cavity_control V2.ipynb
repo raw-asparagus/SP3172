{
 "cells": [
  {
   "cell_type": "markdown",
   "metadata": {},
   "source": [
    "### Here, I explore Displacement unitary."
   ]
  },
  {
   "cell_type": "markdown",
   "metadata": {},
   "source": [
    "##### I compare the difference between 3 ways of constructing a coherent state:\n",
    "1. Using D(alpha) @ Fock(0)\n",
    "2. Using CoheState(alpha) with the analytic normalising coefficient (return ket * expm(-np.abs(alpha)**2 / 2)). Note that since this normalising coefficient is intended for infinite Fock states, our finite-cutoff coherent state doesn't actually normalise to 1 unless the finite-cutoff is large.\n",
    "3. Using CoheState(alpha) with numerical normalisation (return ket / np.linalg.norm(ket)). This way of constructing the coherent state converges more quickly with D(alpha) @ Fock(0) than option 2."
   ]
  },
  {
   "cell_type": "code",
   "execution_count": 377,
   "metadata": {},
   "outputs": [],
   "source": [
    "import numpy as np\n",
    "from scipy.linalg import expm\n",
    "import scipy\n",
    "import matplotlib.pyplot as plt\n",
    "import time"
   ]
  },
  {
   "cell_type": "code",
   "execution_count": 378,
   "metadata": {},
   "outputs": [],
   "source": [
    "np.set_printoptions(suppress=True)\n",
    "np.set_printoptions(precision=3)"
   ]
  },
  {
   "cell_type": "code",
   "execution_count": 379,
   "metadata": {},
   "outputs": [],
   "source": [
    "cavity_dim = 8\n",
    "omega_q = 21\n",
    "omega_c = 20\n",
    "Delta = omega_q - omega_c\n",
    "chi = 1 / Delta\n",
    "\n",
    "T = 1\n",
    "dt = 0.01\n",
    "t_axis = np.arange(0, T, dt)[0:]"
   ]
  },
  {
   "cell_type": "code",
   "execution_count": 380,
   "metadata": {},
   "outputs": [],
   "source": [
    "sigmaI = np.array(\n",
    "    [\n",
    "        [1, 0],\n",
    "        [0, 1],\n",
    "    ]\n",
    ")\n",
    "sigmaX = np.array(\n",
    "    [\n",
    "        [0, 1],\n",
    "        [1, 0],\n",
    "    ]\n",
    ")\n",
    "# sigmaZ = np.array(\n",
    "#     [\n",
    "#         [-1, 0],\n",
    "#         [0, 1],\n",
    "#     ]\n",
    "# )\n",
    "sigmaBin = np.array(\n",
    "    [\n",
    "        [0, 0],\n",
    "        [0, 1],\n",
    "    ]\n",
    ")\n",
    "\n",
    "# Annihilation operator\n",
    "a = np.zeros((cavity_dim, cavity_dim))\n",
    "n_indices = np.arange(1, cavity_dim)\n",
    "a[n_indices - 1, n_indices] = np.sqrt(n_indices)\n",
    "a_dag = a.conjugate().transpose()\n",
    "# print(a)\n",
    "# print(a_dag)\n",
    "\n",
    "def Fock(n):\n",
    "    vec = [[0] for _ in range(cavity_dim)]\n",
    "    vec[n] = [1]\n",
    "    return np.array(vec)\n",
    "# print(Fock(1))"
   ]
  },
  {
   "cell_type": "code",
   "execution_count": 381,
   "metadata": {},
   "outputs": [],
   "source": [
    "drive_qubit = np.array([0 for t in t_axis])\n",
    "drive_cavity = np.array([1/T for t in t_axis])\n",
    "\n",
    "def H(i):\n",
    "    # from the SNAP paper, alpha = 1j * integrate(drive_cavity * dt)\n",
    "    return (\n",
    "        omega_q * np.kron(sigmaBin, np.identity(cavity_dim))\n",
    "      + (omega_c - chi*np.kron(sigmaBin, np.identity(cavity_dim))) * (np.kron(sigmaI, a_dag) @ np.kron(sigmaI, a))\n",
    "      + drive_cavity[i] * np.exp(1j * omega_c * i*dt) * np.kron(sigmaI, a_dag) + drive_cavity[i].conjugate() * np.exp(-1j * omega_c * i*dt) * np.kron(sigmaI, a)\n",
    "    #   + drive_cavity[i] * np.kron(sigmaI, a_dag) + drive_cavity[i].conjugate() * np.kron(sigmaI, a)\n",
    "      + drive_qubit[i] * np.exp(1j * omega_q * i*dt) * np.kron(np.array([[0,0],[1,0]]), np.identity(cavity_dim)) + drive_qubit[i].conjugate() * np.exp(-1j * omega_q * i*dt) * np.kron(np.array([[0,1],[0,0]]), np.identity(cavity_dim))\n",
    "    )\n",
    "\n",
    "# def D(alpha):\n",
    "#     return expm(alpha * np.kron(sigmaI, a_dag) - np.conjugate(alpha) * np.kron(sigmaI, a))\n",
    "def D(alpha):\n",
    "    return expm(alpha * a_dag - np.conjugate(alpha) * a)\n",
    "\n",
    "def CoheState(alpha):\n",
    "    ket = np.zeros((cavity_dim, 1), dtype=np.complex128)\n",
    "    ket[0] = 1. + 0j\n",
    "    for n in range(1, cavity_dim):\n",
    "        ket[n] = ket[n-1] * alpha / np.sqrt(n)\n",
    "    return ket / np.linalg.norm(ket)\n",
    "    # return ket * expm(-np.abs(alpha)**2 / 2)\n",
    "    "
   ]
  },
  {
   "cell_type": "code",
   "execution_count": 382,
   "metadata": {},
   "outputs": [
    {
     "name": "stdout",
     "output_type": "stream",
     "text": [
      "[[ 0.607+0.j   ]\n",
      " [ 0.   +0.607j]\n",
      " [-0.429+0.j   ]\n",
      " [ 0.   -0.248j]\n",
      " [ 0.124+0.j   ]\n",
      " [ 0.   +0.055j]\n",
      " [-0.022+0.j   ]\n",
      " [ 0.   -0.01j ]]\n"
     ]
    },
    {
     "data": {
      "text/plain": [
       "np.float64(1.0)"
      ]
     },
     "execution_count": 382,
     "metadata": {},
     "output_type": "execute_result"
    }
   ],
   "source": [
    "ket_alpha = D(1j) @ np.array([[1]] + [[0]]*(cavity_dim-1))\n",
    "print(ket_alpha)\n",
    "np.linalg.norm(ket_alpha)"
   ]
  },
  {
   "cell_type": "code",
   "execution_count": 383,
   "metadata": {},
   "outputs": [
    {
     "data": {
      "text/plain": [
       "array([[1.+0.j]])"
      ]
     },
     "execution_count": 383,
     "metadata": {},
     "output_type": "execute_result"
    }
   ],
   "source": [
    "np.dot(ket_alpha.conjugate().transpose(), CoheState(1j))"
   ]
  },
  {
   "cell_type": "code",
   "execution_count": 384,
   "metadata": {},
   "outputs": [
    {
     "name": "stderr",
     "output_type": "stream",
     "text": [
      "/Users/roger/Desktop/Bedside Pile/School/Physics/CQT/Yvonne Gao/SP3172/env/lib/python3.12/site-packages/matplotlib/collections.py:200: ComplexWarning: Casting complex values to real discards the imaginary part\n",
      "  offsets = np.asanyarray(offsets, float)\n"
     ]
    },
    {
     "data": {
      "text/plain": [
       "<matplotlib.collections.PathCollection at 0x13e19c350>"
      ]
     },
     "execution_count": 384,
     "metadata": {},
     "output_type": "execute_result"
    },
    {
     "data": {
      "image/png": "[encoded data removed]",
      "text/plain": [
       "<Figure size 640x480 with 1 Axes>"
      ]
     },
     "metadata": {},
     "output_type": "display_data"
    }
   ],
   "source": [
    "# return ket * expm(-np.abs(alpha)**2 / 2)\n",
    "\n",
    "inner_product = [0.838+0.j, 0.952+0.j, 0.989+0.j, 0.998+0.j, 1.+0.j, 1.+0.j, 1.+0.j]\n",
    "cavity_dim_list = list(range(2, 9))\n",
    "plt.scatter(cavity_dim_list, inner_product, s=1)"
   ]
  },
  {
   "cell_type": "code",
   "execution_count": 385,
   "metadata": {},
   "outputs": [
    {
     "data": {
      "text/plain": [
       "<matplotlib.collections.PathCollection at 0x13e296660>"
      ]
     },
     "execution_count": 385,
     "metadata": {},
     "output_type": "execute_result"
    },
    {
     "data": {
      "image/png": "[encoded data removed]",
      "text/plain": [
       "<Figure size 640x480 with 1 Axes>"
      ]
     },
     "metadata": {},
     "output_type": "display_data"
    }
   ],
   "source": [
    "# return ket / np.linalg.norm(ket)\n",
    "\n",
    "inner_product = [0.977+0.j, 0.993+0.j, 0.998+0.j, 1.+0.j, 1.+0.j, 1.+0.j, 1.+0.j]\n",
    "cavity_dim_list = list(range(2, 9))\n",
    "plt.scatter(cavity_dim_list, inner_product, s=1)"
   ]
  },
  {
   "cell_type": "code",
   "execution_count": null,
   "metadata": {},
   "outputs": [],
   "source": []
  }
 ],
 "metadata": {
  "kernelspec": {
   "display_name": "env",
   "language": "python",
   "name": "python3"
  },
  "language_info": {
   "codemirror_mode": {
    "name": "ipython",
    "version": 3
   },
   "file_extension": ".py",
   "mimetype": "text/x-python",
   "name": "python",
   "nbconvert_exporter": "python",
   "pygments_lexer": "ipython3",
   "version": "3.12.5"
  }
 },
 "nbformat": 4,
 "nbformat_minor": 2
}
