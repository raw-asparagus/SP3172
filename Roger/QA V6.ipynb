{
 "cells": [
  {
   "cell_type": "markdown",
   "metadata": {},
   "source": [
    "### This is the latest version of QA code. It automatically generates the $a$ and $a^\\dag$ matrices according to required dimensions, and automatically checks for doubly degenerate ground states."
   ]
  },
  {
   "cell_type": "code",
   "execution_count": 2,
   "metadata": {},
   "outputs": [],
   "source": [
    "import numpy as np\n",
    "from scipy.linalg import expm\n",
    "import scipy\n",
    "import matplotlib.pyplot as plt\n",
    "import time"
   ]
  },
  {
   "cell_type": "code",
   "execution_count": 3,
   "metadata": {},
   "outputs": [],
   "source": [
    "np.set_printoptions(suppress=True)\n",
    "np.set_printoptions(precision=3)"
   ]
  },
  {
   "cell_type": "code",
   "execution_count": 4,
   "metadata": {},
   "outputs": [],
   "source": [
    "sigmaI = np.array(\n",
    "    [\n",
    "        [1, 0],\n",
    "        [0, 1],\n",
    "    ]\n",
    ")\n",
    "sigmaX = np.array(\n",
    "    [\n",
    "        [0, 1],\n",
    "        [1, 0],\n",
    "    ]\n",
    ")\n",
    "sigmaBin = np.array(\n",
    "    [\n",
    "        [0, 0],\n",
    "        [0, 1],\n",
    "    ]\n",
    ")"
   ]
  },
  {
   "cell_type": "code",
   "execution_count": 5,
   "metadata": {},
   "outputs": [],
   "source": [
    "Values = [5, 1]\n",
    "Weights = [3, 3]\n",
    "Ancil = [1, 1]\n",
    "num_dimension = 2**(len(Values) + len(Ancil))\n",
    "\n",
    "alpha = 1e5\n",
    "beta = 1.1\n",
    "gamma = max(Values) + 1\n",
    "T = 1e3\n",
    "dt = 0.01\n",
    "t_axis = np.arange(0, T, dt)[0:]"
   ]
  },
  {
   "cell_type": "code",
   "execution_count": 6,
   "metadata": {},
   "outputs": [],
   "source": [
    "# Create creation operator\n",
    "a_dag = np.zeros((num_dimension, num_dimension))\n",
    "n_indices = np.arange(num_dimension - 1)\n",
    "a_dag[n_indices + 1, n_indices] = np.sqrt(n_indices + 1)\n",
    "# print(a_dag)\n",
    "\n",
    "# Create annihilation operator\n",
    "a = np.zeros((num_dimension, num_dimension))\n",
    "n_indices = np.arange(1, num_dimension)\n",
    "a[n_indices - 1, n_indices] = np.sqrt(n_indices)\n",
    "# print(a)\n",
    "\n",
    "# print(a_dag @ a)"
   ]
  },
  {
   "cell_type": "code",
   "execution_count": 7,
   "metadata": {},
   "outputs": [
    {
     "name": "stdout",
     "output_type": "stream",
     "text": [
      "-6.630878198393129\n",
      "[-0.     0.    -0.     0.001 -0.004  0.011 -0.026  0.056 -0.106  0.182\n",
      " -0.281  0.389 -0.475  0.5   -0.428  0.25 ]\n"
     ]
    }
   ],
   "source": [
    "H0 = (a_dag + a)\n",
    "# print(H0)\n",
    "\n",
    "eigenvals_H0, eigenvecs_H0 = np.linalg.eigh(H0)\n",
    "ground_idx_H0 = eigenvals_H0.argsort()[0]\n",
    "print(eigenvals_H0[ground_idx_H0])\n",
    "print(eigenvecs_H0[:, ground_idx_H0])"
   ]
  },
  {
   "cell_type": "code",
   "execution_count": 8,
   "metadata": {},
   "outputs": [
    {
     "name": "stdout",
     "output_type": "stream",
     "text": [
      "[  0.   1.   5.   6.   6.  19.  19.  23.  23.  24.  49.  53.  90. 144.\n",
      " 144. 210.]\n",
      "[ 0  1  2  3  4  5  6  7  8  9 10 11 12 13 14 15]\n",
      "0.0\n",
      "[1. 0. 0. 0. 0. 0. 0. 0. 0. 0. 0. 0. 0. 0. 0. 0.]\n",
      "1.0\n",
      "[0. 0. 0. 0. 0. 0. 0. 0. 0. 0. 0. 1. 0. 0. 0. 0.]\n"
     ]
    }
   ],
   "source": [
    "eyes = [sigmaI for _ in range(len(Values) + len(Ancil))]\n",
    "profit_matrix = np.zeros((num_dimension, num_dimension))\n",
    "weight_matrix = np.zeros((num_dimension, num_dimension))\n",
    "penalty_matrix = np.zeros((num_dimension, num_dimension))\n",
    "\n",
    "for i in range(len(Values)):\n",
    "    nose = eyes.copy()\n",
    "    nose[i] = sigmaBin\n",
    "    tensorproduct = nose[0]\n",
    "    for sigma in nose[1:]:\n",
    "        tensorproduct = np.kron(tensorproduct, sigma)\n",
    "    profit_matrix += Values[i] * tensorproduct\n",
    "    weight_matrix += Weights[i] * tensorproduct\n",
    "    \n",
    "for j in range(len(Ancil)):\n",
    "    nose = eyes.copy()\n",
    "    nose[j + len(Values)] = sigmaBin\n",
    "    tensorproduct = nose[0]\n",
    "    for sigma in nose[1:]:\n",
    "        tensorproduct = np.kron(tensorproduct, sigma)\n",
    "    penalty_matrix += Ancil[j] * tensorproduct\n",
    "\n",
    "Hp = -profit_matrix + gamma * (weight_matrix - penalty_matrix)**2\n",
    "\n",
    "\n",
    "eigenvals_Hp, eigenvecs_Hp = np.linalg.eigh(Hp)\n",
    "print(eigenvals_Hp)\n",
    "print(eigenvals_Hp.argsort())\n",
    "ground_idx_Hp = eigenvals_Hp.argsort()[0]\n",
    "ground_idx_Hp_degen = eigenvals_Hp.argsort()[1]\n",
    "print(eigenvals_Hp[ground_idx_Hp])\n",
    "print(eigenvecs_Hp[:, ground_idx_Hp])\n",
    "print(eigenvals_Hp[ground_idx_Hp_degen])\n",
    "print(eigenvecs_Hp[:, ground_idx_Hp_degen])\n",
    "\n"
   ]
  },
  {
   "cell_type": "code",
   "execution_count": 9,
   "metadata": {},
   "outputs": [],
   "source": [
    "def H(t, T=1, alpha=1, beta=1):\n",
    "    return alpha * ( (1 - t/T)*beta*H0 + (t/T)*Hp )"
   ]
  },
  {
   "cell_type": "code",
   "execution_count": 10,
   "metadata": {},
   "outputs": [
    {
     "name": "stdout",
     "output_type": "stream",
     "text": [
      "[1. 0. 0. 0. 0. 0. 0. 0. 0. 0. 0. 0. 0. 0. 0. 0.]\n",
      "[0. 0. 0. 0. 0. 0. 0. 0. 0. 0. 0. 0. 0. 0. 0. 0.]\n"
     ]
    }
   ],
   "source": [
    "psi_ini = eigenvecs_H0[:, ground_idx_H0]\n",
    "# print(psi_ini)\n",
    "# print(np.linalg.norm(psi_ini))\n",
    "\n",
    "psi_correct = eigenvecs_Hp[:, ground_idx_Hp]\n",
    "if eigenvals_Hp[ground_idx_Hp] == eigenvals_Hp[ground_idx_Hp_degen]:\n",
    "    psi_correct_degen = eigenvecs_Hp[:, ground_idx_Hp_degen]\n",
    "else:    \n",
    "    psi_correct_degen = np.zeros(eigenvecs_Hp[:, ground_idx_Hp_degen].shape)\n",
    "print(psi_correct)\n",
    "print(psi_correct_degen)"
   ]
  },
  {
   "cell_type": "code",
   "execution_count": null,
   "metadata": {},
   "outputs": [],
   "source": []
  },
  {
   "cell_type": "code",
   "execution_count": null,
   "metadata": {},
   "outputs": [
    {
     "ename": "KeyboardInterrupt",
     "evalue": "",
     "output_type": "error",
     "traceback": [
      "\u001b[0;31m---------------------------------------------------------------------------\u001b[0m",
      "\u001b[0;31mKeyboardInterrupt\u001b[0m                         Traceback (most recent call last)",
      "Cell \u001b[0;32mIn[11], line 11\u001b[0m\n\u001b[1;32m      9\u001b[0m junrui_unitary \u001b[38;5;241m=\u001b[39m np\u001b[38;5;241m.\u001b[39midentity(\u001b[38;5;28mlen\u001b[39m(H0), dtype\u001b[38;5;241m=\u001b[39mnp\u001b[38;5;241m.\u001b[39mclongdouble)\n\u001b[1;32m     10\u001b[0m \u001b[38;5;28;01mfor\u001b[39;00m t \u001b[38;5;129;01min\u001b[39;00m t_axis:\n\u001b[0;32m---> 11\u001b[0m     junrui_unitary \u001b[38;5;241m=\u001b[39m \u001b[43mexpm\u001b[49m\u001b[43m(\u001b[49m\u001b[38;5;241;43m-\u001b[39;49m\u001b[38;5;241;43m1\u001b[39;49m\u001b[43mj\u001b[49m\u001b[43m \u001b[49m\u001b[38;5;241;43m*\u001b[39;49m\u001b[43m \u001b[49m\u001b[43mH\u001b[49m\u001b[43m(\u001b[49m\u001b[43mt\u001b[49m\u001b[43m,\u001b[49m\u001b[43m \u001b[49m\u001b[43mT\u001b[49m\u001b[38;5;241;43m=\u001b[39;49m\u001b[43mT\u001b[49m\u001b[43m,\u001b[49m\u001b[43m \u001b[49m\u001b[43malpha\u001b[49m\u001b[38;5;241;43m=\u001b[39;49m\u001b[43malpha\u001b[49m\u001b[43m,\u001b[49m\u001b[43m \u001b[49m\u001b[43mbeta\u001b[49m\u001b[38;5;241;43m=\u001b[39;49m\u001b[43mbeta\u001b[49m\u001b[43m)\u001b[49m\u001b[43m \u001b[49m\u001b[38;5;241;43m*\u001b[39;49m\u001b[43m \u001b[49m\u001b[43mdt\u001b[49m\u001b[43m)\u001b[49m \u001b[38;5;241m@\u001b[39m junrui_unitary\n\u001b[1;32m     13\u001b[0m psi_final \u001b[38;5;241m=\u001b[39m junrui_unitary \u001b[38;5;241m@\u001b[39m psi_ini\n\u001b[1;32m     15\u001b[0m accuracy \u001b[38;5;241m=\u001b[39m np\u001b[38;5;241m.\u001b[39mabs( np\u001b[38;5;241m.\u001b[39mdot(psi_correct, psi_final) )\u001b[38;5;241m*\u001b[39m\u001b[38;5;241m*\u001b[39m\u001b[38;5;241m2\u001b[39m \u001b[38;5;241m+\u001b[39m np\u001b[38;5;241m.\u001b[39mabs( np\u001b[38;5;241m.\u001b[39mdot(psi_correct_degen, psi_final) )\u001b[38;5;241m*\u001b[39m\u001b[38;5;241m*\u001b[39m\u001b[38;5;241m2\u001b[39m\n",
      "File \u001b[0;32m~/Desktop/Bedside Pile/School/Physics/CQT/Yvonne Gao/SP3172/env/lib/python3.12/site-packages/scipy/linalg/_matfuncs.py:328\u001b[0m, in \u001b[0;36mexpm\u001b[0;34m(A)\u001b[0m\n\u001b[1;32m    325\u001b[0m \u001b[38;5;28;01mif\u001b[39;00m s \u001b[38;5;241m!=\u001b[39m \u001b[38;5;241m0\u001b[39m:  \u001b[38;5;66;03m# scaling needed\u001b[39;00m\n\u001b[1;32m    326\u001b[0m     Am[:\u001b[38;5;241m4\u001b[39m] \u001b[38;5;241m*\u001b[39m\u001b[38;5;241m=\u001b[39m [[[\u001b[38;5;241m2\u001b[39m\u001b[38;5;241m*\u001b[39m\u001b[38;5;241m*\u001b[39m(\u001b[38;5;241m-\u001b[39ms)]], [[\u001b[38;5;241m4\u001b[39m\u001b[38;5;241m*\u001b[39m\u001b[38;5;241m*\u001b[39m(\u001b[38;5;241m-\u001b[39ms)]], [[\u001b[38;5;241m16\u001b[39m\u001b[38;5;241m*\u001b[39m\u001b[38;5;241m*\u001b[39m(\u001b[38;5;241m-\u001b[39ms)]], [[\u001b[38;5;241m64\u001b[39m\u001b[38;5;241m*\u001b[39m\u001b[38;5;241m*\u001b[39m(\u001b[38;5;241m-\u001b[39ms)]]]\n\u001b[0;32m--> 328\u001b[0m \u001b[43mpade_UV_calc\u001b[49m\u001b[43m(\u001b[49m\u001b[43mAm\u001b[49m\u001b[43m,\u001b[49m\u001b[43m \u001b[49m\u001b[43mn\u001b[49m\u001b[43m,\u001b[49m\u001b[43m \u001b[49m\u001b[43mm\u001b[49m\u001b[43m)\u001b[49m\n\u001b[1;32m    329\u001b[0m eAw \u001b[38;5;241m=\u001b[39m Am[\u001b[38;5;241m0\u001b[39m]\n\u001b[1;32m    331\u001b[0m \u001b[38;5;28;01mif\u001b[39;00m s \u001b[38;5;241m!=\u001b[39m \u001b[38;5;241m0\u001b[39m:  \u001b[38;5;66;03m# squaring needed\u001b[39;00m\n",
      "\u001b[0;31mKeyboardInterrupt\u001b[0m: "
     ]
    }
   ],
   "source": [
    "# alpha_list = np.power(1.5, np.arange(0, 10, 1))\n",
    "# alpha_list = np.power(1.5, np.arange(23, 25, 1))\n",
    "alpha_list = np.power(10, np.arange(14, 18, 1))\n",
    "accuracy_list = []\n",
    "\n",
    "for alpha in alpha_list:\n",
    "    start_time = time.time()\n",
    "\n",
    "    junrui_unitary = np.identity(len(H0))\n",
    "    for t in t_axis:\n",
    "        junrui_unitary = expm(-1j * H(t, T=T, alpha=alpha, beta=beta) * dt) @ junrui_unitary\n",
    "\n",
    "    psi_final = junrui_unitary @ psi_ini\n",
    "\n",
    "    accuracy = np.abs( np.dot(psi_correct, psi_final) )**2 + np.abs( np.dot(psi_correct_degen, psi_final) )**2\n",
    "    accuracy_list.append(accuracy)\n",
    "\n",
    "    end_time = time.time()\n",
    "    print(f\"alpha = {alpha:.2e}, loop time: {end_time - start_time}, accuracy: {accuracy}\")\n",
    "\n",
    "plt.scatter(alpha_list, accuracy_list, s=1)\n",
    "plt.xlabel(\"alpha\")\n",
    "plt.ylabel(\"accuracy\")\n",
    "plt.show()\n",
    "accuracy_list = np.array(accuracy_list)\n",
    "print(accuracy_list.argmax())\n",
    "print(f\"max accuracy: {accuracy_list[accuracy_list.argmax()]}\")\n",
    "print(f\"alpha_optimal: {alpha_list[accuracy_list.argmax()]}\")\n"
   ]
  },
  {
   "cell_type": "code",
   "execution_count": null,
   "metadata": {},
   "outputs": [],
   "source": [
    "# beta_list = np.arange(1e-2, 5e0, 1e-2)\n",
    "# accuracy_list = []\n",
    "\n",
    "# for beta in beta_list:\n",
    "#     start_time = time.time()\n",
    "\n",
    "#     junrui_unitary = np.identity(len(H0))\n",
    "#     for t in t_axis:\n",
    "#         junrui_unitary = expm(-1j * H(t, T=T, alpha=alpha, beta=beta) * dt) @ junrui_unitary\n",
    "\n",
    "#     psi_final = junrui_unitary @ psi_ini\n",
    "\n",
    "#     accuracy = np.abs( np.dot(psi_correct, psi_final) )**2 + np.abs( np.dot(psi_correct_degen, psi_final) )**2\n",
    "#     accuracy_list.append(accuracy)\n",
    "\n",
    "#     end_time = time.time()\n",
    "#     # print(f\"beta = {beta}, loop time: {end_time - start_time}\")\n",
    "\n",
    "# plt.scatter(beta_list, accuracy_list, s=1)\n",
    "# plt.xlabel(\"beta\")\n",
    "# plt.ylabel(\"accuracy\")\n",
    "# plt.show()\n",
    "# accuracy_list = np.array(accuracy_list)\n",
    "# print(accuracy_list.argmax())\n",
    "# print(f\"max accuracy: {accuracy_list[accuracy_list.argmax()]}\")\n",
    "# print(f\"beta_optimal: {beta_list[accuracy_list.argmax()]}\")\n"
   ]
  }
 ],
 "metadata": {
  "kernelspec": {
   "display_name": "env",
   "language": "python",
   "name": "python3"
  },
  "language_info": {
   "codemirror_mode": {
    "name": "ipython",
    "version": 3
   },
   "file_extension": ".py",
   "mimetype": "text/x-python",
   "name": "python",
   "nbconvert_exporter": "python",
   "pygments_lexer": "ipython3",
   "version": "3.12.5"
  }
 },
 "nbformat": 4,
 "nbformat_minor": 2
}
