{
 "cells": [
  {
   "cell_type": "markdown",
   "metadata": {},
   "source": [
    "##### This case is quite interesting:\n",
    "\n",
    "Knapsack(values=[4 4], weights=[1 1], capacity=1)"
   ]
  },
  {
   "cell_type": "code",
   "execution_count": 1,
   "metadata": {},
   "outputs": [],
   "source": [
    "import numpy as np\n",
    "from scipy.linalg import expm\n",
    "import scipy\n",
    "import matplotlib.pyplot as plt\n",
    "import time"
   ]
  },
  {
   "cell_type": "code",
   "execution_count": 2,
   "metadata": {},
   "outputs": [],
   "source": [
    "np.set_printoptions(suppress=True)\n",
    "np.set_printoptions(precision=3)"
   ]
  },
  {
   "cell_type": "code",
   "execution_count": 3,
   "metadata": {},
   "outputs": [],
   "source": [
    "sigmaI = np.array(\n",
    "    [\n",
    "        [1, 0],\n",
    "        [0, 1],\n",
    "    ]\n",
    ")\n",
    "sigmaX = np.array(\n",
    "    [\n",
    "        [0, 1],\n",
    "        [1, 0],\n",
    "    ]\n",
    ")\n",
    "sigmaBin = np.array(\n",
    "    [\n",
    "        [0, 0],\n",
    "        [0, 1],\n",
    "    ]\n",
    ")"
   ]
  },
  {
   "cell_type": "code",
   "execution_count": 4,
   "metadata": {},
   "outputs": [],
   "source": [
    "Values = [4, 4]\n",
    "Weights = [1, 1]\n",
    "Ancil = [1]\n",
    "# correct solution: 10010 or 10001\n",
    "num_dimension = 2**(len(Values) + len(Ancil))\n",
    "\n",
    "alpha = 1000\n",
    "beta = 1\n",
    "gamma = max(Values) + 1\n",
    "T = 1\n",
    "dt = 0.01\n",
    "t_axis = np.arange(0, T, dt)[0:]"
   ]
  },
  {
   "cell_type": "code",
   "execution_count": 5,
   "metadata": {},
   "outputs": [],
   "source": [
    "# Create creation operator\n",
    "a_dag = np.zeros((num_dimension, num_dimension))\n",
    "n_indices = np.arange(num_dimension - 1)\n",
    "a_dag[n_indices + 1, n_indices] = np.sqrt(n_indices + 1)\n",
    "# print(a_dag)\n",
    "\n",
    "# Create annihilation operator\n",
    "a = np.zeros((num_dimension, num_dimension))\n",
    "n_indices = np.arange(1, num_dimension)\n",
    "a[n_indices - 1, n_indices] = np.sqrt(n_indices)\n",
    "# print(a)\n",
    "\n",
    "# print(a_dag @ a)"
   ]
  },
  {
   "cell_type": "code",
   "execution_count": 6,
   "metadata": {},
   "outputs": [
    {
     "name": "stdout",
     "output_type": "stream",
     "text": [
      "-4.144547186125894\n",
      "[-0.011  0.044 -0.121  0.255 -0.422  0.555 -0.554  0.354]\n"
     ]
    }
   ],
   "source": [
    "H0 = (a_dag + a)\n",
    "# print(H0)\n",
    "\n",
    "eigenvals_H0, eigenvecs_H0 = np.linalg.eigh(H0)\n",
    "ground_idx_H0 = eigenvals_H0.argsort()[0]\n",
    "print(eigenvals_H0[ground_idx_H0])\n",
    "print(eigenvecs_H0[:, ground_idx_H0])"
   ]
  },
  {
   "cell_type": "code",
   "execution_count": 7,
   "metadata": {},
   "outputs": [
    {
     "name": "stdout",
     "output_type": "stream",
     "text": [
      "[-4. -4. -3.  0.  1.  1.  5. 12.]\n",
      "[0 1 2 3 4 5 6 7]\n",
      "-4.0\n",
      "[0. 0. 0. 1. 0. 0. 0. 0.]\n",
      "-4.0\n",
      "[0. 0. 0. 0. 0. 1. 0. 0.]\n"
     ]
    }
   ],
   "source": [
    "eyes = [sigmaI for _ in range(len(Values) + len(Ancil))]\n",
    "profit_matrix = np.zeros((num_dimension, num_dimension))\n",
    "weight_matrix = np.zeros((num_dimension, num_dimension))\n",
    "penalty_matrix = np.zeros((num_dimension, num_dimension))\n",
    "\n",
    "for i in range(len(Values)):\n",
    "    nose = eyes.copy()\n",
    "    nose[i] = sigmaBin\n",
    "    tensorproduct = nose[0]\n",
    "    for sigma in nose[1:]:\n",
    "        tensorproduct = np.kron(tensorproduct, sigma)\n",
    "    profit_matrix += Values[i] * tensorproduct\n",
    "    weight_matrix += Weights[i] * tensorproduct\n",
    "    \n",
    "for j in range(len(Ancil)):\n",
    "    nose = eyes.copy()\n",
    "    nose[j + len(Values)] = sigmaBin\n",
    "    tensorproduct = nose[0]\n",
    "    for sigma in nose[1:]:\n",
    "        tensorproduct = np.kron(tensorproduct, sigma)\n",
    "    penalty_matrix += Ancil[j] * tensorproduct\n",
    "\n",
    "Hp = -profit_matrix + gamma * (weight_matrix - penalty_matrix)**2\n",
    "\n",
    "\n",
    "eigenvals_Hp, eigenvecs_Hp = np.linalg.eigh(Hp)\n",
    "print(eigenvals_Hp)\n",
    "print(eigenvals_Hp.argsort())\n",
    "ground_idx_Hp = eigenvals_Hp.argsort()[0]\n",
    "ground_idx_Hp_degen = eigenvals_Hp.argsort()[1]\n",
    "print(eigenvals_Hp[ground_idx_Hp])\n",
    "print(eigenvecs_Hp[:, ground_idx_Hp])\n",
    "print(eigenvals_Hp[ground_idx_Hp_degen])\n",
    "print(eigenvecs_Hp[:, ground_idx_Hp_degen])\n",
    "\n"
   ]
  },
  {
   "cell_type": "code",
   "execution_count": 8,
   "metadata": {},
   "outputs": [],
   "source": [
    "def H(t, T=1, alpha=1, beta=1):\n",
    "    return alpha * ( (1 - t/T)*beta*H0 + (t/T)*Hp )"
   ]
  },
  {
   "cell_type": "code",
   "execution_count": 9,
   "metadata": {},
   "outputs": [
    {
     "name": "stdout",
     "output_type": "stream",
     "text": [
      "[0. 0. 0. 1. 0. 0. 0. 0.]\n",
      "[0. 0. 0. 0. 0. 1. 0. 0.]\n"
     ]
    }
   ],
   "source": [
    "psi_ini = eigenvecs_H0[:, ground_idx_H0]\n",
    "# print(psi_ini)\n",
    "# print(np.linalg.norm(psi_ini))\n",
    "\n",
    "psi_correct = eigenvecs_Hp[:, ground_idx_Hp]\n",
    "if eigenvals_Hp[ground_idx_Hp] == eigenvals_Hp[ground_idx_Hp_degen]:\n",
    "    psi_correct_degen = eigenvecs_Hp[:, ground_idx_Hp_degen]\n",
    "else:    \n",
    "    psi_correct_degen = np.zeros(eigenvecs_Hp[:, ground_idx_Hp_degen].shape)\n",
    "print(psi_correct)\n",
    "print(psi_correct_degen)"
   ]
  },
  {
   "cell_type": "code",
   "execution_count": null,
   "metadata": {},
   "outputs": [
    {
     "name": "stdout",
     "output_type": "stream",
     "text": [
      "T = 1.0, loop time: 0.0659949779510498, accuracy: 0.9882508627695663\n",
      "T = 1.5, loop time: 0.02852606773376465, accuracy: 0.9871981718632524\n",
      "T = 2.25, loop time: 0.029931068420410156, accuracy: 0.989733439967784\n",
      "T = 3.375, loop time: 0.04042482376098633, accuracy: 0.9974881761201468\n",
      "T = 5.0625, loop time: 0.09418082237243652, accuracy: 0.9972520199437955\n",
      "T = 7.59375, loop time: 0.10819101333618164, accuracy: 0.9991806425306775\n",
      "T = 11.390625, loop time: 0.11966300010681152, accuracy: 0.997803040329902\n",
      "T = 17.0859375, loop time: 0.19008994102478027, accuracy: 0.9996262616879095\n",
      "T = 25.62890625, loop time: 0.528717041015625, accuracy: 0.9999139271804078\n",
      "T = 38.443359375, loop time: 0.41530609130859375, accuracy: 0.9999057108109397\n",
      "T = 57.6650390625, loop time: 0.9260141849517822, accuracy: 0.9999356764479803\n",
      "T = 86.49755859375, loop time: 0.8506240844726562, accuracy: 0.999834073499362\n",
      "T = 129.746337890625, loop time: 1.2480368614196777, accuracy: 0.9999612181736182\n",
      "T = 194.6195068359375, loop time: 1.9962077140808105, accuracy: 0.9999227084583684\n",
      "T = 291.92926025390625, loop time: 2.916171073913574, accuracy: 0.9999934987201593\n",
      "T = 437.8938903808594, loop time: 4.0986621379852295, accuracy: 0.9999853494439568\n",
      "T = 656.8408355712891, loop time: 6.271399974822998, accuracy: 0.9999691115518965\n",
      "T = 985.2612533569336, loop time: 9.983955144882202, accuracy: 0.999993720425543\n",
      "T = 1477.8918800354004, loop time: 12.848750829696655, accuracy: 0.9999977137517959\n",
      "T = 2216.8378200531006, loop time: 23.131614923477173, accuracy: 0.9999967634230245\n",
      "T = 3325.256730079651, loop time: 32.158873081207275, accuracy: 0.999995045380823\n",
      "T = 4987.885095119476, loop time: 47.21977496147156, accuracy: 0.9999984077593254\n"
     ]
    },
    {
     "ename": "KeyboardInterrupt",
     "evalue": "",
     "output_type": "error",
     "traceback": [
      "\u001b[0;31m---------------------------------------------------------------------------\u001b[0m",
      "\u001b[0;31mKeyboardInterrupt\u001b[0m                         Traceback (most recent call last)",
      "Cell \u001b[0;32mIn[10], line 14\u001b[0m\n\u001b[1;32m     12\u001b[0m junrui_unitary \u001b[38;5;241m=\u001b[39m np\u001b[38;5;241m.\u001b[39midentity(\u001b[38;5;28mlen\u001b[39m(H0))\n\u001b[1;32m     13\u001b[0m \u001b[38;5;28;01mfor\u001b[39;00m t \u001b[38;5;129;01min\u001b[39;00m t_axis:\n\u001b[0;32m---> 14\u001b[0m     junrui_unitary \u001b[38;5;241m=\u001b[39m \u001b[43mexpm\u001b[49m\u001b[43m(\u001b[49m\u001b[38;5;241;43m-\u001b[39;49m\u001b[38;5;241;43m1\u001b[39;49m\u001b[43mj\u001b[49m\u001b[43m \u001b[49m\u001b[38;5;241;43m*\u001b[39;49m\u001b[43m \u001b[49m\u001b[43mH\u001b[49m\u001b[43m(\u001b[49m\u001b[43mt\u001b[49m\u001b[43m,\u001b[49m\u001b[43m \u001b[49m\u001b[43malpha\u001b[49m\u001b[38;5;241;43m=\u001b[39;49m\u001b[43malpha\u001b[49m\u001b[43m,\u001b[49m\u001b[43m \u001b[49m\u001b[43mbeta\u001b[49m\u001b[38;5;241;43m=\u001b[39;49m\u001b[43mbeta\u001b[49m\u001b[43m,\u001b[49m\u001b[43m \u001b[49m\u001b[43mT\u001b[49m\u001b[38;5;241;43m=\u001b[39;49m\u001b[43mT\u001b[49m\u001b[43m)\u001b[49m\u001b[43m \u001b[49m\u001b[38;5;241;43m*\u001b[39;49m\u001b[43m \u001b[49m\u001b[43mdt\u001b[49m\u001b[43m)\u001b[49m \u001b[38;5;241m@\u001b[39m junrui_unitary\n\u001b[1;32m     16\u001b[0m psi_final \u001b[38;5;241m=\u001b[39m junrui_unitary \u001b[38;5;241m@\u001b[39m psi_ini\n\u001b[1;32m     18\u001b[0m accuracy \u001b[38;5;241m=\u001b[39m np\u001b[38;5;241m.\u001b[39mabs( np\u001b[38;5;241m.\u001b[39mdot(psi_correct, psi_final) )\u001b[38;5;241m*\u001b[39m\u001b[38;5;241m*\u001b[39m\u001b[38;5;241m2\u001b[39m \u001b[38;5;241m+\u001b[39m np\u001b[38;5;241m.\u001b[39mabs( np\u001b[38;5;241m.\u001b[39mdot(psi_correct_degen, psi_final) )\u001b[38;5;241m*\u001b[39m\u001b[38;5;241m*\u001b[39m\u001b[38;5;241m2\u001b[39m\n",
      "File \u001b[0;32m~/Desktop/Bedside Pile/School/Physics/CQT/Yvonne Gao/SP3172/env/lib/python3.12/site-packages/scipy/linalg/_matfuncs.py:328\u001b[0m, in \u001b[0;36mexpm\u001b[0;34m(A)\u001b[0m\n\u001b[1;32m    325\u001b[0m \u001b[38;5;28;01mif\u001b[39;00m s \u001b[38;5;241m!=\u001b[39m \u001b[38;5;241m0\u001b[39m:  \u001b[38;5;66;03m# scaling needed\u001b[39;00m\n\u001b[1;32m    326\u001b[0m     Am[:\u001b[38;5;241m4\u001b[39m] \u001b[38;5;241m*\u001b[39m\u001b[38;5;241m=\u001b[39m [[[\u001b[38;5;241m2\u001b[39m\u001b[38;5;241m*\u001b[39m\u001b[38;5;241m*\u001b[39m(\u001b[38;5;241m-\u001b[39ms)]], [[\u001b[38;5;241m4\u001b[39m\u001b[38;5;241m*\u001b[39m\u001b[38;5;241m*\u001b[39m(\u001b[38;5;241m-\u001b[39ms)]], [[\u001b[38;5;241m16\u001b[39m\u001b[38;5;241m*\u001b[39m\u001b[38;5;241m*\u001b[39m(\u001b[38;5;241m-\u001b[39ms)]], [[\u001b[38;5;241m64\u001b[39m\u001b[38;5;241m*\u001b[39m\u001b[38;5;241m*\u001b[39m(\u001b[38;5;241m-\u001b[39ms)]]]\n\u001b[0;32m--> 328\u001b[0m \u001b[43mpade_UV_calc\u001b[49m\u001b[43m(\u001b[49m\u001b[43mAm\u001b[49m\u001b[43m,\u001b[49m\u001b[43m \u001b[49m\u001b[43mn\u001b[49m\u001b[43m,\u001b[49m\u001b[43m \u001b[49m\u001b[43mm\u001b[49m\u001b[43m)\u001b[49m\n\u001b[1;32m    329\u001b[0m eAw \u001b[38;5;241m=\u001b[39m Am[\u001b[38;5;241m0\u001b[39m]\n\u001b[1;32m    331\u001b[0m \u001b[38;5;28;01mif\u001b[39;00m s \u001b[38;5;241m!=\u001b[39m \u001b[38;5;241m0\u001b[39m:  \u001b[38;5;66;03m# squaring needed\u001b[39;00m\n",
      "\u001b[0;31mKeyboardInterrupt\u001b[0m: "
     ]
    }
   ],
   "source": [
    "alpha = 1000\n",
    "beta = 1\n",
    "T = 1\n",
    "accuracy_list = []\n",
    "# T_list = np.arange(0, 100, 1)\n",
    "T_list = np.power(1.5, np.arange(0, 25, 1))\n",
    "\n",
    "for T in T_list:\n",
    "    start_time = time.time()\n",
    "\n",
    "    t_axis = np.arange(0, T, dt)\n",
    "    junrui_unitary = np.identity(len(H0))\n",
    "    for t in t_axis:\n",
    "        junrui_unitary = expm(-1j * H(t, alpha=alpha, beta=beta, T=T) * dt) @ junrui_unitary\n",
    "\n",
    "    psi_final = junrui_unitary @ psi_ini\n",
    "\n",
    "    accuracy = np.abs( np.dot(psi_correct, psi_final) )**2 + np.abs( np.dot(psi_correct_degen, psi_final) )**2\n",
    "    accuracy_list.append(accuracy)\n",
    "\n",
    "    end_time = time.time()\n",
    "    print(f\"T = {T}, loop time: {end_time - start_time}, accuracy: {accuracy}\")\n",
    "\n",
    "print(accuracy_list)\n",
    "# plt.scatter(alpha_list, accuracy_list, s=1)\n",
    "plt.scatter(T_list, accuracy_list, s=1)\n",
    "plt.xlabel(\"T\")\n",
    "plt.ylabel(\"accuracy\")\n",
    "print(max(accuracy_list))"
   ]
  },
  {
   "cell_type": "code",
   "execution_count": 11,
   "metadata": {},
   "outputs": [
    {
     "name": "stdout",
     "output_type": "stream",
     "text": [
      "0.9999984077593254\n"
     ]
    },
    {
     "data": {
      "image/png": "[encoded data removed]",
      "text/plain": [
       "<Figure size 640x480 with 1 Axes>"
      ]
     },
     "metadata": {},
     "output_type": "display_data"
    }
   ],
   "source": [
    "plt.scatter(T_list[0:len(accuracy_list)], accuracy_list, s=1)\n",
    "plt.xlabel(\"T\")\n",
    "plt.ylabel(\"accuracy\")\n",
    "print(max(accuracy_list))"
   ]
  },
  {
   "cell_type": "code",
   "execution_count": null,
   "metadata": {},
   "outputs": [],
   "source": []
  }
 ],
 "metadata": {
  "kernelspec": {
   "display_name": "env",
   "language": "python",
   "name": "python3"
  },
  "language_info": {
   "codemirror_mode": {
    "name": "ipython",
    "version": 3
   },
   "file_extension": ".py",
   "mimetype": "text/x-python",
   "name": "python",
   "nbconvert_exporter": "python",
   "pygments_lexer": "ipython3",
   "version": "3.12.5"
  }
 },
 "nbformat": 4,
 "nbformat_minor": 2
}
