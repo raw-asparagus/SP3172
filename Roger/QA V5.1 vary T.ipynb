{
 "cells": [
  {
   "cell_type": "markdown",
   "metadata": {},
   "source": [
    "### In QA V5, I check whether the length of T actually plays a role, or is it the same as adjusting alpha.\n",
    "\n",
    "Here in QA V5.1, I only vary T from 1 to 10000, incrementing by 10x over 5 loops."
   ]
  },
  {
   "cell_type": "markdown",
   "metadata": {},
   "source": [
    "# Conclusion\n",
    "\n",
    "Between QA V5.1 and QA V5.2, the results turn out to be pretty much identical\n",
    "\n",
    "\n",
    "Conclusion 1: from now on we can safely just set T_max to 1, and we only need to vary alpha, because increasing T_max and increasing alpha gives the same results. Why vary alpha instead of T_max? Because larger T_max makes the code longer to run, because now you have more time steps to iterate through, which means more matrix multiplications.\n",
    "\n",
    "\n",
    "Conclusion 2: it seems that the accuracy-alpha graph is almost monotonically increasing. Which means if we want to increase the accuracy, we just need to increase alpha?"
   ]
  },
  {
   "cell_type": "code",
   "execution_count": 12,
   "metadata": {},
   "outputs": [],
   "source": [
    "import numpy as np\n",
    "from scipy.linalg import expm\n",
    "import scipy\n",
    "import matplotlib.pyplot as plt\n",
    "import time"
   ]
  },
  {
   "cell_type": "code",
   "execution_count": 13,
   "metadata": {},
   "outputs": [],
   "source": [
    "np.set_printoptions(suppress=True)\n",
    "np.set_printoptions(precision=3)"
   ]
  },
  {
   "cell_type": "code",
   "execution_count": 14,
   "metadata": {},
   "outputs": [],
   "source": [
    "sigmaI = np.array(\n",
    "    [\n",
    "        [1, 0],\n",
    "        [0, 1],\n",
    "    ]\n",
    ")\n",
    "sigmaX = np.array(\n",
    "    [\n",
    "        [0, 1],\n",
    "        [1, 0],\n",
    "    ]\n",
    ")\n",
    "sigmaBin = np.array(\n",
    "    [\n",
    "        [0, 0],\n",
    "        [0, 1],\n",
    "    ]\n",
    ")"
   ]
  },
  {
   "cell_type": "code",
   "execution_count": 15,
   "metadata": {},
   "outputs": [],
   "source": [
    "Values = [10, 5]\n",
    "Weights = [2, 3]\n",
    "Ancil = [1, 2]\n",
    "\n",
    "alpha = 1\n",
    "beta = 1\n",
    "gamma = max(Values) + 1\n",
    "T = 1\n",
    "dt = 0.01\n",
    "t_axis = np.arange(0, T, dt)[0:]"
   ]
  },
  {
   "cell_type": "code",
   "execution_count": 16,
   "metadata": {},
   "outputs": [
    {
     "name": "stdout",
     "output_type": "stream",
     "text": [
      "-47.34465334125993\n",
      "[-0.     0.    -0.     0.001 -0.004  0.011 -0.026  0.056 -0.106  0.182\n",
      " -0.281  0.389 -0.475  0.5   -0.428  0.25 ]\n"
     ]
    }
   ],
   "source": [
    "H0 = np.array([\n",
    "[ 0.,7.14,0.,0.,0.,0.,0.,0.,0.,0.,0.,0.,0.,0.,0.,0.,],\n",
    "[ 7.14,0.,10.097,0.,0.,0.,0.,0.,0.,0.,0.,0.,0.,0.,0.,0.,],\n",
    "[ 0.,10.097,0.,12.367,0.,0.,0.,0.,0.,0.,0.,0.,0.,0.,0.,0.,],\n",
    "[ 0.,0.,12.367,0.,14.28,0.,0.,0.,0.,0.,0.,0.,0.,0.,0.,0.,],\n",
    "[ 0.,0.,0.,14.28,0.,15.966,0.,0.,0.,0.,0.,0.,0.,0.,0.,0.,],\n",
    "[ 0.,0.,0.,0.,15.966,0.,17.489,0.,0.,0.,0.,0.,0.,0.,0.,0.,],\n",
    "[ 0.,0.,0.,0.,0.,17.489,0.,18.891,0.,0.,0.,0.,0.,0.,0.,0.,],\n",
    "[ 0.,0.,0.,0.,0.,0.,18.891,0.,20.195,0.,0.,0.,0.,0.,0.,0.,],\n",
    "[ 0.,0.,0.,0.,0.,0.,0.,20.195,0.,21.42,0.,0.,0.,0.,0.,0.,],\n",
    "[ 0.,0.,0.,0.,0.,0.,0.,0.,21.42,0.,22.579,0.,0.,0.,0.,0.,],\n",
    "[ 0.,0.,0.,0.,0.,0.,0.,0.,0.,22.579,0.,23.681,0.,0.,0.,0.,],\n",
    "[ 0.,0.,0.,0.,0.,0.,0.,0.,0.,0.,23.681,0.,24.734,0.,0.,0.,],\n",
    "[ 0.,0.,0.,0.,0.,0.,0.,0.,0.,0.,0.,24.734,0.,25.744,0.,0.,],\n",
    "[ 0.,0.,0.,0.,0.,0.,0.,0.,0.,0.,0.,0.,25.744,0.,26.715,0.,],\n",
    "[ 0.,0.,0.,0.,0.,0.,0.,0.,0.,0.,0.,0.,0.,26.715,0.,27.653],\n",
    "[ 0.,0.,0.,0.,0.,0.,0.,0.,0.,0.,0.,0.,0.,0.,27.653,0.,]\n",
    "])\n",
    "# print(H0)\n",
    "\n",
    "eigenvals_H0, eigenvecs_H0 = np.linalg.eigh(H0)\n",
    "ground_idx_H0 = eigenvals_H0.argsort()[0]\n",
    "print(eigenvals_H0[ground_idx_H0])\n",
    "print(eigenvecs_H0[:, ground_idx_H0])"
   ]
  },
  {
   "cell_type": "code",
   "execution_count": 17,
   "metadata": {},
   "outputs": [
    {
     "name": "stdout",
     "output_type": "stream",
     "text": [
      "-10.0\n",
      "[0. 0. 0. 0. 0. 0. 0. 0. 0. 1. 0. 0. 0. 0. 0. 0.]\n"
     ]
    }
   ],
   "source": [
    "Hp = (\n",
    "    - (Values[0] * np.kron(np.kron(np.kron(sigmaBin, sigmaI), sigmaI), sigmaI) + Values[1] * np.kron(np.kron(np.kron(sigmaI, sigmaBin), sigmaI), sigmaI))\n",
    "    + gamma * (\n",
    "        (Weights[0] * np.kron(np.kron(np.kron(sigmaBin, sigmaI), sigmaI), sigmaI) + Weights[1] * np.kron(np.kron(np.kron(sigmaI, sigmaBin), sigmaI), sigmaI))\n",
    "      - (Ancil[0] * np.kron(np.kron(np.kron(sigmaI, sigmaI), sigmaBin), sigmaI) + Ancil[1] * np.kron(np.kron(np.kron(sigmaI, sigmaI), sigmaI), sigmaBin))\n",
    "    )**2\n",
    ")\n",
    "# print(Hp)\n",
    "\n",
    "eigenvals_Hp, eigenvecs_Hp = np.linalg.eigh(Hp)\n",
    "ground_idx_Hp = eigenvals_Hp.argsort()[0]\n",
    "print(eigenvals_Hp[ground_idx_Hp])\n",
    "print(eigenvecs_Hp[:, ground_idx_Hp])\n"
   ]
  },
  {
   "cell_type": "code",
   "execution_count": 18,
   "metadata": {},
   "outputs": [],
   "source": [
    "def H(t, T=1, alpha=1, beta=1):\n",
    "    return alpha * ( (1 - t/T)*beta*H0 + (t/T)*Hp )"
   ]
  },
  {
   "cell_type": "code",
   "execution_count": 20,
   "metadata": {},
   "outputs": [],
   "source": [
    "psi_ini = eigenvecs_H0[:, ground_idx_H0]\n",
    "# print(psi_ini)\n",
    "# print(np.linalg.norm(psi_ini))\n",
    "\n",
    "psi_correct = eigenvecs_Hp[:, ground_idx_Hp]\n",
    "# print(psi_correct)"
   ]
  },
  {
   "cell_type": "code",
   "execution_count": null,
   "metadata": {},
   "outputs": [],
   "source": []
  },
  {
   "cell_type": "code",
   "execution_count": 21,
   "metadata": {},
   "outputs": [],
   "source": [
    "T_list = np.arange(1e-1, 1e1, 1e-1)\n",
    "accuracy_list = []\n",
    "\n",
    "for T in T_list:\n",
    "    start_time = time.time()\n",
    "\n",
    "    t_axis = np.arange(0, T, dt)\n",
    "\n",
    "    junrui_unitary = np.identity(len(H0))\n",
    "    for t in t_axis:\n",
    "        junrui_unitary = expm(-1j * H(t, T=T) * dt) @ junrui_unitary\n",
    "\n",
    "    psi_final = junrui_unitary @ psi_ini\n",
    "\n",
    "    accuracy = np.abs( np.dot(psi_correct, psi_final) )**2\n",
    "    accuracy_list.append(accuracy)\n",
    "\n",
    "    end_time = time.time()\n",
    "    # print(f\"T = {T}, loop time: {end_time - start_time}\")"
   ]
  },
  {
   "cell_type": "code",
   "execution_count": 22,
   "metadata": {},
   "outputs": [
    {
     "name": "stdout",
     "output_type": "stream",
     "text": [
      "[np.float64(0.05443297751951052), np.float64(0.2332360464178557), np.float64(0.4263127949867593), np.float64(0.3626417637414392), np.float64(0.2226408170901909), np.float64(0.17088776798972272), np.float64(0.21634195746210777), np.float64(0.30654704521858495), np.float64(0.38377064008991385), np.float64(0.3887444538086738), np.float64(0.3377751462824244), np.float64(0.34744572967688236), np.float64(0.4273373214028768), np.float64(0.5254783030175596), np.float64(0.5545665511953076), np.float64(0.512488705390446), np.float64(0.45822684074248027), np.float64(0.45340341927894057), np.float64(0.5088957835640816), np.float64(0.585862156816825), np.float64(0.6369158748527532), np.float64(0.6366258184876578), np.float64(0.6073222781081216), np.float64(0.5838346102734542), np.float64(0.5932335975071464), np.float64(0.6227771041291722), np.float64(0.6504452095394522), np.float64(0.6690836757420348), np.float64(0.6883179411688257), np.float64(0.705975043307143), np.float64(0.7133369376755252), np.float64(0.7074421695368406), np.float64(0.6965626093504527), np.float64(0.6970116255172178), np.float64(0.71595175198491), np.float64(0.742350808089078), np.float64(0.7597538100437243), np.float64(0.7686381284079943), np.float64(0.7757999834197195), np.float64(0.7826012998926384), np.float64(0.784540942572631), np.float64(0.7810319151272616), np.float64(0.7781078061972859), np.float64(0.7867715471430485), np.float64(0.8088044629137423), np.float64(0.8303444918211234), np.float64(0.838112355507972), np.float64(0.8340122390352799), np.float64(0.8303455378239085), np.float64(0.8352766958815396), np.float64(0.8470415248340042), np.float64(0.8556109510937971), np.float64(0.8565452278088306), np.float64(0.8569171068583381), np.float64(0.8650492532768861), np.float64(0.878567874299358), np.float64(0.8885732635089154), np.float64(0.8898383944750863), np.float64(0.8861042074761157), np.float64(0.8862941925523136), np.float64(0.8936970527126535), np.float64(0.9026091305358765), np.float64(0.906794926162793), np.float64(0.9079291036016836), np.float64(0.9111735362435675), np.float64(0.9182957374121082), np.float64(0.9255003036467863), np.float64(0.9279495964340128), np.float64(0.9256796663129329), np.float64(0.9246254085755737), np.float64(0.9289314693685569), np.float64(0.9364242405906243), np.float64(0.9422910201931178), np.float64(0.944637863885976), np.float64(0.9451065137635797), np.float64(0.9466917376063643), np.float64(0.9499285388555306), np.float64(0.9525336525144242), np.float64(0.9531841013394388), np.float64(0.9539152403465373), np.float64(0.9569077621472077), np.float64(0.9617486498831206), np.float64(0.965874144850573), np.float64(0.9669677440914076), np.float64(0.9657851838831063), np.float64(0.9654896284964607), np.float64(0.9679234537258249), np.float64(0.9714541411853451), np.float64(0.9738821428834991), np.float64(0.9747157370930571), np.float64(0.9754445418846631), np.float64(0.9771424056373996), np.float64(0.9792330547593927), np.float64(0.9801312436190815), np.float64(0.979879398728729), np.float64(0.9802005716789736), np.float64(0.9820924641837956), np.float64(0.9846932578574832), np.float64(0.9863078697176073)]\n"
     ]
    }
   ],
   "source": [
    "print(accuracy_list)"
   ]
  },
  {
   "cell_type": "code",
   "execution_count": 27,
   "metadata": {},
   "outputs": [
    {
     "name": "stdout",
     "output_type": "stream",
     "text": [
      "0.9863078697176073\n"
     ]
    },
    {
     "data": {
      "image/png": "[encoded data removed]",
      "text/plain": [
       "<Figure size 640x480 with 1 Axes>"
      ]
     },
     "metadata": {},
     "output_type": "display_data"
    }
   ],
   "source": [
    "plt.scatter(T_list, accuracy_list, s=1)\n",
    "plt.xlabel(\"T\")\n",
    "plt.ylabel(\"accuracy\")\n",
    "print(max(accuracy_list))"
   ]
  },
  {
   "cell_type": "code",
   "execution_count": null,
   "metadata": {},
   "outputs": [],
   "source": []
  },
  {
   "cell_type": "code",
   "execution_count": 23,
   "metadata": {},
   "outputs": [],
   "source": [
    "# T = 0.1\n",
    "# accuracy_list = []\n",
    "\n",
    "# for i in range(5):\n",
    "#     start_time = time.time()\n",
    "\n",
    "#     T = T * 10\n",
    "#     t_axis = np.arange(0, T, dt)\n",
    "\n",
    "#     junrui_unitary = np.identity(len(H0))\n",
    "#     for t in t_axis:\n",
    "#         junrui_unitary = expm(-1j * H(t, T=T) * dt) @ junrui_unitary\n",
    "\n",
    "#     psi_final = junrui_unitary @ psi_ini\n",
    "\n",
    "#     accuracy = np.abs( np.dot(psi_correct, psi_final) )**2\n",
    "#     accuracy_list.append(accuracy)\n",
    "\n",
    "#     end_time = time.time()\n",
    "#     print(f\"T = {T}, loop time: {end_time - start_time}\")\n",
    "\n"
   ]
  },
  {
   "cell_type": "code",
   "execution_count": 24,
   "metadata": {},
   "outputs": [],
   "source": [
    "# print(accuracy_list)\n",
    "# [np.float64(0.3887444538086738), np.float64(0.986489936436699), np.float64(0.9999638539903875), np.float64(0.9999996393900755), np.float64(0.9999999963881061)]"
   ]
  }
 ],
 "metadata": {
  "kernelspec": {
   "display_name": "env",
   "language": "python",
   "name": "python3"
  },
  "language_info": {
   "codemirror_mode": {
    "name": "ipython",
    "version": 3
   },
   "file_extension": ".py",
   "mimetype": "text/x-python",
   "name": "python",
   "nbconvert_exporter": "python",
   "pygments_lexer": "ipython3",
   "version": "3.12.5"
  }
 },
 "nbformat": 4,
 "nbformat_minor": 2
}
