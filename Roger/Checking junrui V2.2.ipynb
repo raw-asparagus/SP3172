{
 "cells": [
  {
   "cell_type": "markdown",
   "metadata": {},
   "source": [
    "### Here, I check jun rui's simulation results for:\n",
    "\n",
    "\n",
    "Knapsack Problem (Capacity: 2)\n",
    "Profits: 4.0 4.0\n",
    "Weights: 3.0 2.0\n",
    "Max beta: 6.025595860743581\n",
    "0.0 -4.0\n",
    "-32.97342056282295 -39.95499222533249"
   ]
  },
  {
   "cell_type": "code",
   "execution_count": 51,
   "metadata": {},
   "outputs": [],
   "source": [
    "import numpy as np\n",
    "from scipy.linalg import expm\n",
    "import scipy\n",
    "import matplotlib.pyplot as plt\n",
    "import time"
   ]
  },
  {
   "cell_type": "code",
   "execution_count": 52,
   "metadata": {},
   "outputs": [],
   "source": [
    "np.set_printoptions(suppress=True)\n",
    "np.set_printoptions(precision=3)"
   ]
  },
  {
   "cell_type": "code",
   "execution_count": 53,
   "metadata": {},
   "outputs": [],
   "source": [
    "sigmaI = np.array(\n",
    "    [\n",
    "        [1, 0],\n",
    "        [0, 1],\n",
    "    ]\n",
    ")\n",
    "sigmaX = np.array(\n",
    "    [\n",
    "        [0, 1],\n",
    "        [1, 0],\n",
    "    ]\n",
    ")\n",
    "sigmaBin = np.array(\n",
    "    [\n",
    "        [0, 0],\n",
    "        [0, 1],\n",
    "    ]\n",
    ")"
   ]
  },
  {
   "cell_type": "code",
   "execution_count": 54,
   "metadata": {},
   "outputs": [],
   "source": [
    "Values = [4, 4]\n",
    "Weights = [3, 2]\n",
    "Ancil = [1, 1]\n",
    "num_dimension = 2**(len(Values) + len(Ancil))\n",
    "\n",
    "alpha = 1\n",
    "beta = 1\n",
    "gamma = max(Values) + 1\n",
    "T = 1e1\n",
    "dt = 0.01\n",
    "t_axis = np.arange(0, T, dt)[0:]"
   ]
  },
  {
   "cell_type": "code",
   "execution_count": 55,
   "metadata": {},
   "outputs": [],
   "source": [
    "# Create creation operator\n",
    "a_dag = np.zeros((num_dimension, num_dimension))\n",
    "n_indices = np.arange(num_dimension - 1)\n",
    "a_dag[n_indices + 1, n_indices] = np.sqrt(n_indices + 1)\n",
    "# print(a_dag)\n",
    "\n",
    "# Create annihilation operator\n",
    "a = np.zeros((num_dimension, num_dimension))\n",
    "n_indices = np.arange(1, num_dimension)\n",
    "a[n_indices - 1, n_indices] = np.sqrt(n_indices)\n",
    "# print(a)\n",
    "\n",
    "# print(a_dag @ a)"
   ]
  },
  {
   "cell_type": "code",
   "execution_count": 56,
   "metadata": {},
   "outputs": [
    {
     "name": "stdout",
     "output_type": "stream",
     "text": [
      "-6.630878198393129\n",
      "[-0.     0.    -0.     0.001 -0.004  0.011 -0.026  0.056 -0.106  0.182\n",
      " -0.281  0.389 -0.475  0.5   -0.428  0.25 ]\n"
     ]
    }
   ],
   "source": [
    "H0 = (a_dag + a)\n",
    "# print(H0)\n",
    "\n",
    "eigenvals_H0, eigenvecs_H0 = np.linalg.eigh(H0)\n",
    "ground_idx_H0 = eigenvals_H0.argsort()[0]\n",
    "print(eigenvals_H0[ground_idx_H0])\n",
    "print(eigenvecs_H0[:, ground_idx_H0])"
   ]
  },
  {
   "cell_type": "code",
   "execution_count": 57,
   "metadata": {},
   "outputs": [
    {
     "name": "stdout",
     "output_type": "stream",
     "text": [
      "[ -4.   0.   1.   1.   1.   5.   5.  16.  16.  16.  20.  37.  41.  72.\n",
      "  72. 117.]\n",
      "[ 0  1  2  3  4  5  6  7  8  9 10 11 12 13 14 15]\n",
      "-4.0\n",
      "[0. 0. 0. 0. 0. 0. 0. 1. 0. 0. 0. 0. 0. 0. 0. 0.]\n",
      "0.0\n",
      "[1. 0. 0. 0. 0. 0. 0. 0. 0. 0. 0. 0. 0. 0. 0. 0.]\n"
     ]
    }
   ],
   "source": [
    "eyes = [sigmaI for _ in range(len(Values) + len(Ancil))]\n",
    "profit_matrix = np.zeros((num_dimension, num_dimension))\n",
    "weight_matrix = np.zeros((num_dimension, num_dimension))\n",
    "penalty_matrix = np.zeros((num_dimension, num_dimension))\n",
    "\n",
    "for i in range(len(Values)):\n",
    "    nose = eyes.copy()\n",
    "    nose[i] = sigmaBin\n",
    "    tensorproduct = nose[0]\n",
    "    for sigma in nose[1:]:\n",
    "        tensorproduct = np.kron(tensorproduct, sigma)\n",
    "    profit_matrix += Values[i] * tensorproduct\n",
    "    weight_matrix += Weights[i] * tensorproduct\n",
    "    \n",
    "for j in range(len(Ancil)):\n",
    "    nose = eyes.copy()\n",
    "    nose[j + len(Values)] = sigmaBin\n",
    "    tensorproduct = nose[0]\n",
    "    for sigma in nose[1:]:\n",
    "        tensorproduct = np.kron(tensorproduct, sigma)\n",
    "    penalty_matrix += Ancil[j] * tensorproduct\n",
    "\n",
    "Hp = -profit_matrix + gamma * (weight_matrix - penalty_matrix)**2\n",
    "\n",
    "\n",
    "eigenvals_Hp, eigenvecs_Hp = np.linalg.eigh(Hp)\n",
    "print(eigenvals_Hp)\n",
    "print(eigenvals_Hp.argsort())\n",
    "ground_idx_Hp = eigenvals_Hp.argsort()[0]\n",
    "ground_idx_Hp_degen = eigenvals_Hp.argsort()[1]\n",
    "print(eigenvals_Hp[ground_idx_Hp])\n",
    "print(eigenvecs_Hp[:, ground_idx_Hp])\n",
    "print(eigenvals_Hp[ground_idx_Hp_degen])\n",
    "print(eigenvecs_Hp[:, ground_idx_Hp_degen])\n",
    "\n"
   ]
  },
  {
   "cell_type": "code",
   "execution_count": 58,
   "metadata": {},
   "outputs": [],
   "source": [
    "def H(t, T=1, alpha=1, beta=1):\n",
    "    return alpha * ( (1 - t/T)*beta*H0 + (t/T)*Hp )"
   ]
  },
  {
   "cell_type": "code",
   "execution_count": 59,
   "metadata": {},
   "outputs": [
    {
     "name": "stdout",
     "output_type": "stream",
     "text": [
      "[0. 0. 0. 0. 0. 0. 0. 1. 0. 0. 0. 0. 0. 0. 0. 0.]\n",
      "[0. 0. 0. 0. 0. 0. 0. 0. 0. 0. 0. 0. 0. 0. 0. 0.]\n"
     ]
    }
   ],
   "source": [
    "psi_ini = eigenvecs_H0[:, ground_idx_H0]\n",
    "# print(psi_ini)\n",
    "# print(np.linalg.norm(psi_ini))\n",
    "\n",
    "psi_correct = eigenvecs_Hp[:, ground_idx_Hp]\n",
    "if eigenvals_Hp[ground_idx_Hp] == eigenvals_Hp[ground_idx_Hp_degen]:\n",
    "    psi_correct_degen = eigenvecs_Hp[:, ground_idx_Hp_degen]\n",
    "else:    \n",
    "    psi_correct_degen = np.zeros(eigenvecs_Hp[:, ground_idx_Hp_degen].shape)\n",
    "print(psi_correct)\n",
    "print(psi_correct_degen)"
   ]
  },
  {
   "cell_type": "code",
   "execution_count": null,
   "metadata": {},
   "outputs": [],
   "source": []
  },
  {
   "cell_type": "code",
   "execution_count": 60,
   "metadata": {},
   "outputs": [
    {
     "data": {
      "image/png": "[encoded data removed]",
      "text/plain": [
       "<Figure size 640x480 with 1 Axes>"
      ]
     },
     "metadata": {},
     "output_type": "display_data"
    },
    {
     "name": "stdout",
     "output_type": "stream",
     "text": [
      "72\n",
      "max accuracy: 0.9848815902599439\n",
      "beta_optimal: 8.200000000000006\n"
     ]
    }
   ],
   "source": [
    "beta_list = np.arange(1e0, 5e1, 1e-1)\n",
    "accuracy_list = []\n",
    "\n",
    "for beta in beta_list:\n",
    "    start_time = time.time()\n",
    "\n",
    "    junrui_unitary = np.identity(len(H0))\n",
    "    for t in t_axis:\n",
    "        junrui_unitary = expm(-1j * H(t, T=T, alpha=alpha, beta=beta) * dt) @ junrui_unitary\n",
    "\n",
    "    psi_final = junrui_unitary @ psi_ini\n",
    "\n",
    "    accuracy = np.abs( np.dot(psi_correct, psi_final) )**2 + np.abs( np.dot(psi_correct_degen, psi_final) )**2\n",
    "    accuracy_list.append(accuracy)\n",
    "\n",
    "    end_time = time.time()\n",
    "    # print(f\"beta = {beta}, loop time: {end_time - start_time}\")\n",
    "\n",
    "plt.scatter(beta_list, accuracy_list, s=1)\n",
    "plt.xlabel(\"beta\")\n",
    "plt.ylabel(\"accuracy\")\n",
    "plt.show()\n",
    "accuracy_list = np.array(accuracy_list)\n",
    "print(accuracy_list.argmax())\n",
    "print(f\"max accuracy: {accuracy_list[accuracy_list.argmax()]}\")\n",
    "print(f\"beta_optimal: {beta_list[accuracy_list.argmax()]}\")\n"
   ]
  },
  {
   "cell_type": "code",
   "execution_count": 61,
   "metadata": {},
   "outputs": [
    {
     "data": {
      "text/plain": [
       "'Values = [4, 4]\\nWeights = [3, 2]\\nAncil = [1, 1]\\nnum_dimension = 2**(len(Values) + len(Ancil))\\n\\nalpha = 1\\nbeta = 1\\ngamma = max(Values) + 1\\nT = 1e1\\ndt = 0.01\\nt_axis = np.arange(0, T, dt)[0:]'"
      ]
     },
     "execution_count": 61,
     "metadata": {},
     "output_type": "execute_result"
    }
   ],
   "source": [
    "\"\"\"Values = [4, 4]\n",
    "Weights = [3, 2]\n",
    "Ancil = [1, 1]\n",
    "num_dimension = 2**(len(Values) + len(Ancil))\n",
    "\n",
    "alpha = 1\n",
    "beta = 1\n",
    "gamma = max(Values) + 1\n",
    "T = 1e1\n",
    "dt = 0.01\n",
    "t_axis = np.arange(0, T, dt)[0:]\"\"\""
   ]
  }
 ],
 "metadata": {
  "kernelspec": {
   "display_name": "Python3_env",
   "language": "python",
   "name": "python3_env"
  },
  "language_info": {
   "codemirror_mode": {
    "name": "ipython",
    "version": 3
   },
   "file_extension": ".py",
   "mimetype": "text/x-python",
   "name": "python",
   "nbconvert_exporter": "python",
   "pygments_lexer": "ipython3",
   "version": "3.12.5"
  }
 },
 "nbformat": 4,
 "nbformat_minor": 2
}
