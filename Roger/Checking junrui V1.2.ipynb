{
 "cells": [
  {
   "cell_type": "markdown",
   "metadata": {},
   "source": [
    "##### Jun Rui was facing the issue where some problem instances are really hard to converge to 100% accuracy. I'm just testing to see if I get similar results."
   ]
  },
  {
   "cell_type": "code",
   "execution_count": 1,
   "metadata": {},
   "outputs": [],
   "source": [
    "import numpy as np\n",
    "from scipy.linalg import expm\n",
    "import scipy\n",
    "import matplotlib.pyplot as plt\n",
    "import time"
   ]
  },
  {
   "cell_type": "code",
   "execution_count": 2,
   "metadata": {},
   "outputs": [],
   "source": [
    "np.set_printoptions(suppress=True)\n",
    "np.set_printoptions(precision=3)"
   ]
  },
  {
   "cell_type": "code",
   "execution_count": 3,
   "metadata": {},
   "outputs": [],
   "source": [
    "sigmaI = np.array(\n",
    "    [\n",
    "        [1, 0],\n",
    "        [0, 1],\n",
    "    ]\n",
    ")\n",
    "sigmaX = np.array(\n",
    "    [\n",
    "        [0, 1],\n",
    "        [1, 0],\n",
    "    ]\n",
    ")\n",
    "sigmaBin = np.array(\n",
    "    [\n",
    "        [0, 0],\n",
    "        [0, 1],\n",
    "    ]\n",
    ")"
   ]
  },
  {
   "cell_type": "code",
   "execution_count": 4,
   "metadata": {},
   "outputs": [],
   "source": [
    "Values = [3, 9]\n",
    "Weights = [5, 4]\n",
    "Ancil = [1, 2, 2]\n",
    "# correct solution: 10010 or 10001\n",
    "num_dimension = 2**(len(Values) + len(Ancil))\n",
    "\n",
    "alpha = 1\n",
    "beta = 88.2211083047426\n",
    "gamma = max(Values) + 1\n",
    "# gamma = 63.74067686081061\n",
    "T = 1\n",
    "dt = 0.01\n",
    "t_axis = np.arange(0, T, dt)[0:]"
   ]
  },
  {
   "cell_type": "code",
   "execution_count": 5,
   "metadata": {},
   "outputs": [],
   "source": [
    "# Create creation operator\n",
    "a_dag = np.zeros((num_dimension, num_dimension))\n",
    "n_indices = np.arange(num_dimension - 1)\n",
    "a_dag[n_indices + 1, n_indices] = np.sqrt(n_indices + 1)\n",
    "# print(a_dag)\n",
    "\n",
    "# Create annihilation operator\n",
    "a = np.zeros((num_dimension, num_dimension))\n",
    "n_indices = np.arange(1, num_dimension)\n",
    "a[n_indices - 1, n_indices] = np.sqrt(n_indices)\n",
    "# print(a)\n",
    "\n",
    "# print(a_dag @ a)"
   ]
  },
  {
   "cell_type": "code",
   "execution_count": 6,
   "metadata": {},
   "outputs": [
    {
     "name": "stdout",
     "output_type": "stream",
     "text": [
      "-10.077422674229464\n",
      "[-0.     0.    -0.     0.    -0.     0.    -0.     0.    -0.     0.\n",
      " -0.     0.    -0.     0.    -0.001  0.002 -0.004  0.008 -0.014  0.026\n",
      " -0.045  0.072 -0.112  0.165 -0.229  0.301 -0.37   0.422 -0.44   0.409\n",
      " -0.32   0.177]\n"
     ]
    }
   ],
   "source": [
    "H0 = (a_dag + a)\n",
    "# print(H0)\n",
    "\n",
    "eigenvals_H0, eigenvecs_H0 = np.linalg.eigh(H0)\n",
    "ground_idx_H0 = eigenvals_H0.argsort()[0]\n",
    "print(eigenvals_H0[ground_idx_H0])\n",
    "print(eigenvecs_H0[:, ground_idx_H0])"
   ]
  },
  {
   "cell_type": "code",
   "execution_count": 7,
   "metadata": {},
   "outputs": [
    {
     "name": "stdout",
     "output_type": "stream",
     "text": [
      "[ 0  1  2  3  4  5  6  7  8  9 10 11 12 13 14 16 15 17 18 19 20 21 22 23\n",
      " 24 25 26 27 28 29 30 31]\n",
      "-9.0\n",
      "[0. 0. 0. 0. 0. 0. 0. 0. 0. 0. 0. 1. 0. 0. 0. 0. 0. 0. 0. 0. 0. 0. 0. 0.\n",
      " 0. 0. 0. 0. 0. 0. 0. 0.]\n",
      "-3.0\n",
      "[0. 0. 0. 0. 0. 0. 0. 0. 0. 0. 0. 0. 0. 0. 0. 0. 0. 0. 0. 0. 0. 0. 0. 1.\n",
      " 0. 0. 0. 0. 0. 0. 0. 0.]\n"
     ]
    }
   ],
   "source": [
    "eyes = [sigmaI for _ in range(len(Values) + len(Ancil))]\n",
    "profit_matrix = np.zeros((num_dimension, num_dimension))\n",
    "weight_matrix = np.zeros((num_dimension, num_dimension))\n",
    "penalty_matrix = np.zeros((num_dimension, num_dimension))\n",
    "\n",
    "for i in range(len(Values)):\n",
    "    nose = eyes.copy()\n",
    "    nose[i] = sigmaBin\n",
    "    tensorproduct = nose[0]\n",
    "    for sigma in nose[1:]:\n",
    "        tensorproduct = np.kron(tensorproduct, sigma)\n",
    "    profit_matrix += Values[i] * tensorproduct\n",
    "    weight_matrix += Weights[i] * tensorproduct\n",
    "    \n",
    "for j in range(len(Ancil)):\n",
    "    nose = eyes.copy()\n",
    "    nose[j + len(Values)] = sigmaBin\n",
    "    tensorproduct = nose[0]\n",
    "    for sigma in nose[1:]:\n",
    "        tensorproduct = np.kron(tensorproduct, sigma)\n",
    "    penalty_matrix += Ancil[j] * tensorproduct\n",
    "\n",
    "Hp = -profit_matrix + gamma * (weight_matrix - penalty_matrix)**2\n",
    "\n",
    "# for row in Hp:\n",
    "#     print(row)\n",
    "\n",
    "\n",
    "eigenvals_Hp, eigenvecs_Hp = np.linalg.eigh(Hp)\n",
    "print(eigenvals_Hp.argsort())\n",
    "ground_idx_Hp = eigenvals_Hp.argsort()[0]\n",
    "ground_idx_Hp_degen = eigenvals_Hp.argsort()[1]\n",
    "print(eigenvals_Hp[ground_idx_Hp])\n",
    "print(eigenvecs_Hp[:, ground_idx_Hp])\n",
    "print(eigenvals_Hp[ground_idx_Hp_degen])\n",
    "print(eigenvecs_Hp[:, ground_idx_Hp_degen])\n",
    "\n"
   ]
  },
  {
   "cell_type": "code",
   "execution_count": 8,
   "metadata": {},
   "outputs": [],
   "source": [
    "def H(t, T=1, alpha=1, beta=1):\n",
    "    return alpha * ( (1 - t/T)*beta*H0 + (t/T)*Hp )"
   ]
  },
  {
   "cell_type": "code",
   "execution_count": 9,
   "metadata": {},
   "outputs": [
    {
     "name": "stdout",
     "output_type": "stream",
     "text": [
      "[0. 0. 0. 0. 0. 0. 0. 0. 0. 0. 0. 1. 0. 0. 0. 0. 0. 0. 0. 0. 0. 0. 0. 0.\n",
      " 0. 0. 0. 0. 0. 0. 0. 0.]\n",
      "[0. 0. 0. 0. 0. 0. 0. 0. 0. 0. 0. 0. 0. 0. 0. 0. 0. 0. 0. 0. 0. 0. 0. 0.\n",
      " 0. 0. 0. 0. 0. 0. 0. 0.]\n"
     ]
    }
   ],
   "source": [
    "psi_ini = eigenvecs_H0[:, ground_idx_H0]\n",
    "# print(psi_ini)\n",
    "# print(np.linalg.norm(psi_ini))\n",
    "\n",
    "psi_correct = eigenvecs_Hp[:, ground_idx_Hp]\n",
    "if eigenvals_Hp[ground_idx_Hp] == eigenvals_Hp[ground_idx_Hp_degen]:\n",
    "    psi_correct_degen = eigenvecs_Hp[:, ground_idx_Hp_degen]\n",
    "else:    \n",
    "    psi_correct_degen = np.zeros(eigenvecs_Hp[:, ground_idx_Hp_degen].shape)\n",
    "print(psi_correct)\n",
    "print(psi_correct_degen)"
   ]
  },
  {
   "cell_type": "code",
   "execution_count": null,
   "metadata": {},
   "outputs": [
    {
     "name": "stdout",
     "output_type": "stream",
     "text": [
      "T = 1.0, loop time: 0.23646903038024902, accuracy: 3.81423129558523e-09\n",
      "T = 1.5, loop time: 0.06844592094421387, accuracy: 6.799587844079633e-09\n",
      "T = 2.25, loop time: 0.20838308334350586, accuracy: 5.63798656702189e-08\n",
      "T = 3.375, loop time: 0.4686300754547119, accuracy: 3.0032901092196974e-07\n",
      "T = 5.0625, loop time: 0.3316309452056885, accuracy: 9.601871935722025e-07\n",
      "T = 7.59375, loop time: 0.693666934967041, accuracy: 1.4575553388389501e-06\n",
      "T = 11.390625, loop time: 0.8723599910736084, accuracy: 2.3746638354263242e-07\n",
      "T = 17.0859375, loop time: 1.2181479930877686, accuracy: 8.516079520142442e-06\n",
      "T = 25.62890625, loop time: 2.4447553157806396, accuracy: 0.0001459128864696656\n",
      "T = 38.443359375, loop time: 3.1622300148010254, accuracy: 0.0004754676010523347\n",
      "T = 57.6650390625, loop time: 4.786318063735962, accuracy: 0.0036491867349663625\n",
      "T = 86.49755859375, loop time: 8.539182186126709, accuracy: 0.0018306387395097441\n",
      "T = 129.746337890625, loop time: 5.857827663421631, accuracy: 0.04407821689822606\n",
      "T = 194.6195068359375, loop time: 6.3243677616119385, accuracy: 0.0297105648829313\n",
      "T = 291.92926025390625, loop time: 9.658921003341675, accuracy: 0.02824832176655307\n",
      "T = 437.8938903808594, loop time: 14.369239091873169, accuracy: 0.01049352254499578\n",
      "T = 656.8408355712891, loop time: 21.080302000045776, accuracy: 0.012272727804034416\n",
      "T = 985.2612533569336, loop time: 32.47510623931885, accuracy: 0.16660317591284676\n",
      "T = 1477.8918800354004, loop time: 48.61169099807739, accuracy: 0.27325882743694535\n",
      "T = 2216.8378200531006, loop time: 72.9630012512207, accuracy: 0.2583082321928115\n",
      "T = 3325.256730079651, loop time: 109.46419715881348, accuracy: 0.45482243212075135\n",
      "T = 4987.885095119476, loop time: 167.5505130290985, accuracy: 0.4063943899789508\n",
      "T = 7481.8276426792145, loop time: 301.4999358654022, accuracy: 0.5802590576620482\n",
      "T = 11222.741464018822, loop time: 378.8677980899811, accuracy: 0.6293909907109358\n",
      "T = 16834.112196028233, loop time: 597.8984549045563, accuracy: 0.7784246828727218\n",
      "T = 25251.16829404235, loop time: 861.695080280304, accuracy: 0.8978650415917483\n",
      "T = 37876.75244106352, loop time: 1292.339951992035, accuracy: 0.9672258490864737\n"
     ]
    }
   ],
   "source": [
    "# alpha_list = np.arange(0, 100, 1)\n",
    "# alpha_list = np.power(10, np.arange(0, 6, 1))\n",
    "# alpha = 26.34314250004425\n",
    "# alpha_list = [alpha]\n",
    "# print(alpha_list)\n",
    "alpha = 1\n",
    "beta = 1\n",
    "T = 1\n",
    "# print(alpha_list)\n",
    "accuracy_list = []\n",
    "# T_list = np.arange(0, 100, 1)\n",
    "T_list = np.power(1.5, np.arange(0, 30, 1))\n",
    "\n",
    "for T in T_list:\n",
    "    start_time = time.time()\n",
    "\n",
    "    t_axis = np.arange(0, T, dt)\n",
    "    junrui_unitary = np.identity(len(H0))\n",
    "    for t in t_axis:\n",
    "        junrui_unitary = expm(-1j * H(t, alpha=alpha, beta=beta, T=T) * dt) @ junrui_unitary\n",
    "\n",
    "    psi_final = junrui_unitary @ psi_ini\n",
    "\n",
    "    accuracy = np.abs( np.dot(psi_correct, psi_final) )**2 + np.abs( np.dot(psi_correct_degen, psi_final) )**2\n",
    "    accuracy_list.append(accuracy)\n",
    "\n",
    "    end_time = time.time()\n",
    "    print(f\"T = {T}, loop time: {end_time - start_time}, accuracy: {accuracy}\")\n",
    "\n",
    "print(accuracy_list)\n",
    "# plt.scatter(alpha_list, accuracy_list, s=1)\n",
    "plt.scatter(T_list, accuracy_list, s=1)\n",
    "plt.xlabel(\"T\")\n",
    "plt.ylabel(\"accuracy\")\n",
    "print(max(accuracy_list))"
   ]
  },
  {
   "cell_type": "code",
   "execution_count": 12,
   "metadata": {},
   "outputs": [
    {
     "name": "stdout",
     "output_type": "stream",
     "text": [
      "0.9672258490864737\n"
     ]
    },
    {
     "data": {
      "image/png": "[encoded data removed]",
      "text/plain": [
       "<Figure size 640x480 with 1 Axes>"
      ]
     },
     "metadata": {},
     "output_type": "display_data"
    }
   ],
   "source": [
    "plt.scatter(T_list[0:len(accuracy_list)], accuracy_list, s=1)\n",
    "plt.xlabel(\"T\")\n",
    "plt.ylabel(\"accuracy\")\n",
    "print(max(accuracy_list))"
   ]
  },
  {
   "cell_type": "code",
   "execution_count": null,
   "metadata": {},
   "outputs": [],
   "source": [
    "# alpha_list = np.arange(0, 100, 1)\n",
    "# alpha_list = np.power(10, np.arange(0, 6, 1))\n",
    "# alpha = 26.34314250004425\n",
    "# alpha_list = [alpha]\n",
    "# print(alpha_list)\n",
    "# alpha = 1\n",
    "# beta = 1\n",
    "# T = 1\n",
    "# # print(alpha_list)\n",
    "# accuracy_list = []\n",
    "# T_list = np.arange(0, 100, 1)\n",
    "\n",
    "# for alpha in alpha_list:\n",
    "#     start_time = time.time()\n",
    "\n",
    "#     junrui_unitary = np.identity(len(H0))\n",
    "#     for t in t_axis:\n",
    "#         junrui_unitary = expm(-1j * H(t, alpha=alpha, beta=beta, T=T) * dt) @ junrui_unitary\n",
    "\n",
    "#     psi_final = junrui_unitary @ psi_ini\n",
    "\n",
    "#     accuracy = np.abs( np.dot(psi_correct, psi_final) )**2\n",
    "#     accuracy_list.append(accuracy)\n",
    "\n",
    "#     end_time = time.time()\n",
    "#     # print(f\"alpha = {alpha}, loop time: {end_time - start_time}\")\n",
    "\n",
    "# print(accuracy_list)\n",
    "# plt.scatter(alpha_list, accuracy_list, s=1)\n",
    "# plt.xlabel(\"alpha\")\n",
    "# plt.ylabel(\"accuracy\")\n",
    "# print(max(accuracy_list))"
   ]
  },
  {
   "cell_type": "code",
   "execution_count": null,
   "metadata": {},
   "outputs": [],
   "source": []
  },
  {
   "cell_type": "code",
   "execution_count": null,
   "metadata": {},
   "outputs": [
    {
     "name": "stdout",
     "output_type": "stream",
     "text": [
      "10\n"
     ]
    }
   ],
   "source": [
    "print(gamma)"
   ]
  },
  {
   "cell_type": "code",
   "execution_count": null,
   "metadata": {},
   "outputs": [
    {
     "name": "stdout",
     "output_type": "stream",
     "text": [
      "1\n"
     ]
    }
   ],
   "source": [
    "print(beta)"
   ]
  },
  {
   "cell_type": "code",
   "execution_count": null,
   "metadata": {},
   "outputs": [
    {
     "name": "stdout",
     "output_type": "stream",
     "text": [
      "1\n"
     ]
    }
   ],
   "source": [
    "print(alpha)"
   ]
  },
  {
   "cell_type": "code",
   "execution_count": null,
   "metadata": {},
   "outputs": [
    {
     "data": {
      "text/plain": [
       "np.float64(3.51386302583266e-05)"
      ]
     },
     "execution_count": 30,
     "metadata": {},
     "output_type": "execute_result"
    }
   ],
   "source": [
    "abs(psi_final[17])**2 + abs(psi_final[18])**2"
   ]
  },
  {
   "cell_type": "code",
   "execution_count": null,
   "metadata": {},
   "outputs": [],
   "source": []
  }
 ],
 "metadata": {
  "kernelspec": {
   "display_name": "env",
   "language": "python",
   "name": "python3"
  },
  "language_info": {
   "codemirror_mode": {
    "name": "ipython",
    "version": 3
   },
   "file_extension": ".py",
   "mimetype": "text/x-python",
   "name": "python",
   "nbconvert_exporter": "python",
   "pygments_lexer": "ipython3",
   "version": "3.12.5"
  }
 },
 "nbformat": 4,
 "nbformat_minor": 2
}
