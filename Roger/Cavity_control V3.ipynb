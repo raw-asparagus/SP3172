{
 "cells": [
  {
   "cell_type": "markdown",
   "metadata": {},
   "source": [
    "### Here, I explore qubit and cavity drives"
   ]
  },
  {
   "cell_type": "markdown",
   "metadata": {},
   "source": [
    "##### There's something very strange I don't really understand. In Krastanov's SNAP paper, he defined \n",
    "$$ \\hat{H}_1 = \\epsilon(t) e^{i \\omega_c t} \\hat{a}^\\dag + H.c. $$\n",
    "\n",
    "##### Why is there a $e^{i \\omega_c t}$ factor? Heisenberg picture??\n",
    "\n",
    "##### I find that without this $e^{i \\omega_c t}$ factor, then $\\alpha = i \\int \\epsilon(t) dt$ does indeed recover $\\hat{D}(\\alpha)$.\n",
    "\n",
    "##### I'm gonna check with Tanjung about it. But for now, I think I'll remove the factor first."
   ]
  },
  {
   "cell_type": "code",
   "execution_count": 16,
   "metadata": {},
   "outputs": [],
   "source": [
    "import numpy as np\n",
    "from scipy.linalg import expm\n",
    "import scipy\n",
    "import matplotlib.pyplot as plt\n",
    "import time"
   ]
  },
  {
   "cell_type": "code",
   "execution_count": 17,
   "metadata": {},
   "outputs": [],
   "source": [
    "np.set_printoptions(suppress=True)\n",
    "np.set_printoptions(precision=3)"
   ]
  },
  {
   "cell_type": "code",
   "execution_count": 18,
   "metadata": {},
   "outputs": [],
   "source": [
    "cavity_dim = 8\n",
    "omega_q = 21\n",
    "omega_c = 20\n",
    "Delta = omega_q - omega_c\n",
    "chi = 1 / Delta\n",
    "\n",
    "T = 1\n",
    "dt = 0.01\n",
    "t_axis = np.arange(0, T, dt)[0:]"
   ]
  },
  {
   "cell_type": "code",
   "execution_count": 19,
   "metadata": {},
   "outputs": [],
   "source": [
    "sigmaI = np.array(\n",
    "    [\n",
    "        [1, 0],\n",
    "        [0, 1],\n",
    "    ]\n",
    ")\n",
    "sigmaX = np.array(\n",
    "    [\n",
    "        [0, 1],\n",
    "        [1, 0],\n",
    "    ]\n",
    ")\n",
    "# sigmaZ = np.array(\n",
    "#     [\n",
    "#         [-1, 0],\n",
    "#         [0, 1],\n",
    "#     ]\n",
    "# )\n",
    "sigmaBin = np.array(\n",
    "    [\n",
    "        [0, 0],\n",
    "        [0, 1],\n",
    "    ]\n",
    ")\n",
    "\n",
    "# Annihilation operator\n",
    "a = np.zeros((cavity_dim, cavity_dim))\n",
    "n_indices = np.arange(1, cavity_dim)\n",
    "a[n_indices - 1, n_indices] = np.sqrt(n_indices)\n",
    "a_dag = a.conjugate().transpose()\n",
    "# print(a)\n",
    "# print(a_dag)\n",
    "\n",
    "def Fock(n):\n",
    "    vec = [[0] for _ in range(cavity_dim)]\n",
    "    vec[n] = [1]\n",
    "    return np.array(vec)\n",
    "# print(Fock(1))"
   ]
  },
  {
   "cell_type": "code",
   "execution_count": 20,
   "metadata": {},
   "outputs": [],
   "source": [
    "drive_qubit = np.array([0 for t in t_axis])\n",
    "drive_cavity = np.array([1/T for t in t_axis])\n",
    "\n",
    "def H(i):\n",
    "    # from the SNAP paper, alpha = 1j * integrate(drive_cavity * dt)\n",
    "    return (\n",
    "        # omega_q * np.kron(sigmaBin, np.identity(cavity_dim))\n",
    "    #   + (omega_c - chi*np.kron(sigmaBin, np.identity(cavity_dim))) * (np.kron(sigmaI, a_dag) @ np.kron(sigmaI, a))\n",
    "    #   + drive_cavity[i] * np.exp(1j * omega_c * i*dt) * np.kron(sigmaI, a_dag) + drive_cavity[i].conjugate() * np.exp(-1j * omega_c * i*dt) * np.kron(sigmaI, a)\n",
    "      + drive_cavity[i] * np.kron(sigmaI, a_dag) + drive_cavity[i].conjugate() * np.kron(sigmaI, a)\n",
    "    #   + drive_qubit[i] * np.exp(1j * omega_q * i*dt) * np.kron(np.array([[0,0],[1,0]]), np.identity(cavity_dim)) + drive_qubit[i].conjugate() * np.exp(-1j * omega_q * i*dt) * np.kron(np.array([[0,1],[0,0]]), np.identity(cavity_dim))\n",
    "    )\n",
    "\n",
    "def D(alpha):\n",
    "    return expm(alpha * np.kron(sigmaI, a_dag) - np.conjugate(alpha) * np.kron(sigmaI, a))\n",
    "# def D(alpha):\n",
    "#     return expm(alpha * a_dag - np.conjugate(alpha) * a)\n",
    "\n",
    "def CoheState(alpha):\n",
    "    ket = np.zeros((cavity_dim, 1), dtype=np.complex128)\n",
    "    ket[0] = 1. + 0j\n",
    "    for n in range(1, cavity_dim):\n",
    "        ket[n] = ket[n-1] * alpha / np.sqrt(n)\n",
    "    return ket / np.linalg.norm(ket)\n",
    "    # return ket * expm(-np.abs(alpha)**2 / 2)\n",
    "    "
   ]
  },
  {
   "cell_type": "code",
   "execution_count": 21,
   "metadata": {},
   "outputs": [
    {
     "data": {
      "text/plain": [
       "1.0000000000000007j"
      ]
     },
     "execution_count": 21,
     "metadata": {},
     "output_type": "execute_result"
    }
   ],
   "source": [
    "1j * sum(drive_cavity * dt)"
   ]
  },
  {
   "cell_type": "code",
   "execution_count": 22,
   "metadata": {},
   "outputs": [],
   "source": [
    "def H(i):\n",
    "    # from the SNAP paper, alpha = 1j * integrate(drive_cavity * dt)\n",
    "    return (\n",
    "        # omega_q * np.kron(sigmaBin, np.identity(cavity_dim))\n",
    "    #   + (omega_c - chi*np.kron(sigmaBin, np.identity(cavity_dim))) * (np.kron(sigmaI, a_dag) @ np.kron(sigmaI, a))\n",
    "    #   + drive_cavity[i] * np.exp(1j * omega_c * i*dt) * np.kron(sigmaI, a_dag) + drive_cavity[i].conjugate() * np.exp(-1j * omega_c * i*dt) * np.kron(sigmaI, a)\n",
    "      + drive_cavity[i] * np.kron(sigmaI, a_dag) + drive_cavity[i].conjugate() * np.kron(sigmaI, a)\n",
    "    #   + drive_qubit[i] * np.exp(1j * omega_q * i*dt) * np.kron(np.array([[0,0],[1,0]]), np.identity(cavity_dim)) + drive_qubit[i].conjugate() * np.exp(-1j * omega_q * i*dt) * np.kron(np.array([[0,1],[0,0]]), np.identity(cavity_dim))\n",
    "    )\n",
    "\n",
    "# H(len(t_axis)-1)\n",
    "\n",
    "Unitary = np.identity(len(H(0)))\n",
    "for i in range(len(t_axis)):\n",
    "    Unitary = expm(-1j * H(i) * dt) @ Unitary\n",
    "# print(Unitary)"
   ]
  },
  {
   "cell_type": "code",
   "execution_count": 23,
   "metadata": {},
   "outputs": [
    {
     "data": {
      "text/plain": [
       "array([[ 0.607+0.j   ],\n",
       "       [ 0.   -0.607j],\n",
       "       [-0.429+0.j   ],\n",
       "       [ 0.   +0.248j],\n",
       "       [ 0.124+0.j   ],\n",
       "       [ 0.   -0.055j],\n",
       "       [-0.022+0.j   ],\n",
       "       [ 0.   +0.01j ],\n",
       "       [ 0.   +0.j   ],\n",
       "       [ 0.   +0.j   ],\n",
       "       [ 0.   +0.j   ],\n",
       "       [ 0.   +0.j   ],\n",
       "       [ 0.   +0.j   ],\n",
       "       [ 0.   +0.j   ],\n",
       "       [ 0.   +0.j   ],\n",
       "       [ 0.   +0.j   ]])"
      ]
     },
     "execution_count": 23,
     "metadata": {},
     "output_type": "execute_result"
    }
   ],
   "source": [
    "Unitary @ np.kron( np.array([[1], [0]]), Fock(0))"
   ]
  },
  {
   "cell_type": "code",
   "execution_count": 24,
   "metadata": {},
   "outputs": [
    {
     "data": {
      "text/plain": [
       "array([[ 0.607+0.j   ],\n",
       "       [ 0.   +0.607j],\n",
       "       [-0.429+0.j   ],\n",
       "       [ 0.   -0.248j],\n",
       "       [ 0.124+0.j   ],\n",
       "       [ 0.   +0.055j],\n",
       "       [-0.022+0.j   ],\n",
       "       [ 0.   -0.01j ],\n",
       "       [ 0.   +0.j   ],\n",
       "       [ 0.   +0.j   ],\n",
       "       [ 0.   +0.j   ],\n",
       "       [ 0.   +0.j   ],\n",
       "       [ 0.   +0.j   ],\n",
       "       [ 0.   +0.j   ],\n",
       "       [ 0.   +0.j   ],\n",
       "       [ 0.   +0.j   ]])"
      ]
     },
     "execution_count": 24,
     "metadata": {},
     "output_type": "execute_result"
    }
   ],
   "source": [
    "D(1j) @ np.kron( np.array([[1], [0]]), Fock(0))"
   ]
  },
  {
   "cell_type": "code",
   "execution_count": 25,
   "metadata": {},
   "outputs": [
    {
     "data": {
      "text/plain": [
       "array([[ 0.607+0.j   ],\n",
       "       [ 0.   +0.607j],\n",
       "       [-0.429+0.j   ],\n",
       "       [ 0.   -0.248j],\n",
       "       [ 0.124+0.j   ],\n",
       "       [ 0.   +0.055j],\n",
       "       [-0.023+0.j   ],\n",
       "       [ 0.   -0.009j],\n",
       "       [ 0.   +0.j   ],\n",
       "       [ 0.   +0.j   ],\n",
       "       [-0.   +0.j   ],\n",
       "       [ 0.   -0.j   ],\n",
       "       [ 0.   +0.j   ],\n",
       "       [ 0.   +0.j   ],\n",
       "       [-0.   +0.j   ],\n",
       "       [ 0.   -0.j   ]])"
      ]
     },
     "execution_count": 25,
     "metadata": {},
     "output_type": "execute_result"
    }
   ],
   "source": [
    "np.kron( np.array([[1], [0]]), CoheState(1j))"
   ]
  },
  {
   "cell_type": "code",
   "execution_count": null,
   "metadata": {},
   "outputs": [],
   "source": []
  },
  {
   "cell_type": "code",
   "execution_count": 26,
   "metadata": {},
   "outputs": [],
   "source": [
    "def H(i):\n",
    "    # from the SNAP paper, alpha = 1j * integrate(drive_cavity * dt)\n",
    "    return (\n",
    "        # omega_q * np.kron(sigmaBin, np.identity(cavity_dim))\n",
    "    #   + (omega_c - chi*np.kron(sigmaBin, np.identity(cavity_dim))) * (np.kron(sigmaI, a_dag) @ np.kron(sigmaI, a))\n",
    "      + drive_cavity[i] * np.exp(1j * omega_c * i*dt) * np.kron(sigmaI, a_dag) + drive_cavity[i].conjugate() * np.exp(-1j * omega_c * i*dt) * np.kron(sigmaI, a)\n",
    "    #   + drive_cavity[i] * np.kron(sigmaI, a_dag) + drive_cavity[i].conjugate() * np.kron(sigmaI, a)\n",
    "    #   + drive_qubit[i] * np.exp(1j * omega_q * i*dt) * np.kron(np.array([[0,0],[1,0]]), np.identity(cavity_dim)) + drive_qubit[i].conjugate() * np.exp(-1j * omega_q * i*dt) * np.kron(np.array([[0,1],[0,0]]), np.identity(cavity_dim))\n",
    "    )\n",
    "\n",
    "# H(len(t_axis)-1)\n",
    "\n",
    "Unitary = np.identity(len(H(0)))\n",
    "for i in range(len(t_axis)):\n",
    "    Unitary = expm(-1j * H(i) * dt) @ Unitary\n",
    "# print(Unitary)"
   ]
  },
  {
   "cell_type": "code",
   "execution_count": 27,
   "metadata": {},
   "outputs": [
    {
     "data": {
      "text/plain": [
       "array([[ 0.997+0.047j],\n",
       "       [ 0.027-0.047j],\n",
       "       [-0.001-0.002j],\n",
       "       [-0.   +0.j   ],\n",
       "       [-0.   +0.j   ],\n",
       "       [ 0.   +0.j   ],\n",
       "       [ 0.   -0.j   ],\n",
       "       [ 0.   -0.j   ],\n",
       "       [ 0.   +0.j   ],\n",
       "       [ 0.   +0.j   ],\n",
       "       [ 0.   +0.j   ],\n",
       "       [ 0.   +0.j   ],\n",
       "       [ 0.   +0.j   ],\n",
       "       [ 0.   +0.j   ],\n",
       "       [ 0.   +0.j   ],\n",
       "       [ 0.   +0.j   ]])"
      ]
     },
     "execution_count": 27,
     "metadata": {},
     "output_type": "execute_result"
    }
   ],
   "source": [
    "Unitary @ np.kron( np.array([[1], [0]]), Fock(0))"
   ]
  },
  {
   "cell_type": "code",
   "execution_count": 28,
   "metadata": {},
   "outputs": [
    {
     "data": {
      "text/plain": [
       "array([[ 0.607+0.j   ],\n",
       "       [ 0.   +0.607j],\n",
       "       [-0.429+0.j   ],\n",
       "       [ 0.   -0.248j],\n",
       "       [ 0.124+0.j   ],\n",
       "       [ 0.   +0.055j],\n",
       "       [-0.022+0.j   ],\n",
       "       [ 0.   -0.01j ],\n",
       "       [ 0.   +0.j   ],\n",
       "       [ 0.   +0.j   ],\n",
       "       [ 0.   +0.j   ],\n",
       "       [ 0.   +0.j   ],\n",
       "       [ 0.   +0.j   ],\n",
       "       [ 0.   +0.j   ],\n",
       "       [ 0.   +0.j   ],\n",
       "       [ 0.   +0.j   ]])"
      ]
     },
     "execution_count": 28,
     "metadata": {},
     "output_type": "execute_result"
    }
   ],
   "source": [
    "D(1j) @ np.kron( np.array([[1], [0]]), Fock(0))"
   ]
  },
  {
   "cell_type": "code",
   "execution_count": 29,
   "metadata": {},
   "outputs": [
    {
     "data": {
      "text/plain": [
       "array([[ 0.607+0.j   ],\n",
       "       [ 0.   +0.607j],\n",
       "       [-0.429+0.j   ],\n",
       "       [ 0.   -0.248j],\n",
       "       [ 0.124+0.j   ],\n",
       "       [ 0.   +0.055j],\n",
       "       [-0.023+0.j   ],\n",
       "       [ 0.   -0.009j],\n",
       "       [ 0.   +0.j   ],\n",
       "       [ 0.   +0.j   ],\n",
       "       [-0.   +0.j   ],\n",
       "       [ 0.   -0.j   ],\n",
       "       [ 0.   +0.j   ],\n",
       "       [ 0.   +0.j   ],\n",
       "       [-0.   +0.j   ],\n",
       "       [ 0.   -0.j   ]])"
      ]
     },
     "execution_count": 29,
     "metadata": {},
     "output_type": "execute_result"
    }
   ],
   "source": [
    "np.kron( np.array([[1], [0]]), CoheState(1j))"
   ]
  },
  {
   "cell_type": "code",
   "execution_count": null,
   "metadata": {},
   "outputs": [],
   "source": []
  }
 ],
 "metadata": {
  "kernelspec": {
   "display_name": "env",
   "language": "python",
   "name": "python3"
  },
  "language_info": {
   "codemirror_mode": {
    "name": "ipython",
    "version": 3
   },
   "file_extension": ".py",
   "mimetype": "text/x-python",
   "name": "python",
   "nbconvert_exporter": "python",
   "pygments_lexer": "ipython3",
   "version": "3.12.5"
  }
 },
 "nbformat": 4,
 "nbformat_minor": 2
}
