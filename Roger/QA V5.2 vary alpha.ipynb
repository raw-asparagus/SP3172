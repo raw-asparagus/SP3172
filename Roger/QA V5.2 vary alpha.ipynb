{
 "cells": [
  {
   "cell_type": "markdown",
   "metadata": {},
   "source": [
    "### In QA V5, I check whether the length of T actually plays a role, or is it the same as adjusting alpha.\n",
    "\n",
    "Here in QA V5.2, I only vary alpha."
   ]
  },
  {
   "cell_type": "markdown",
   "metadata": {},
   "source": [
    "# Conclusion\n",
    "\n",
    "Between QA V5.1 and QA V5.2, the results turn out to be pretty much identical\n",
    "\n",
    "\n",
    "Conclusion 1: from now on we can safely just set T_max to 1, and we only need to vary alpha, because increasing T_max and increasing alpha gives the same results. Why vary alpha instead of T_max? Because larger T_max makes the code longer to run, because now you have more time steps to iterate through, which means more matrix multiplications.\n",
    "\n",
    "\n",
    "Conclusion 2: it seems that the accuracy-alpha graph is almost monotonically increasing. Which means if we want to increase the accuracy, we just need to increase alpha?"
   ]
  },
  {
   "cell_type": "code",
   "execution_count": 2,
   "metadata": {},
   "outputs": [],
   "source": [
    "import numpy as np\n",
    "from scipy.linalg import expm\n",
    "import scipy\n",
    "import matplotlib.pyplot as plt\n",
    "import time"
   ]
  },
  {
   "cell_type": "code",
   "execution_count": 3,
   "metadata": {},
   "outputs": [],
   "source": [
    "np.set_printoptions(suppress=True)\n",
    "np.set_printoptions(precision=3)"
   ]
  },
  {
   "cell_type": "code",
   "execution_count": 4,
   "metadata": {},
   "outputs": [],
   "source": [
    "sigmaI = np.array(\n",
    "    [\n",
    "        [1, 0],\n",
    "        [0, 1],\n",
    "    ]\n",
    ")\n",
    "sigmaX = np.array(\n",
    "    [\n",
    "        [0, 1],\n",
    "        [1, 0],\n",
    "    ]\n",
    ")\n",
    "sigmaBin = np.array(\n",
    "    [\n",
    "        [0, 0],\n",
    "        [0, 1],\n",
    "    ]\n",
    ")"
   ]
  },
  {
   "cell_type": "code",
   "execution_count": 5,
   "metadata": {},
   "outputs": [],
   "source": [
    "Values = [10, 5]\n",
    "Weights = [2, 3]\n",
    "Ancil = [1, 2]\n",
    "\n",
    "alpha = 1\n",
    "beta = 1\n",
    "gamma = max(Values) + 1\n",
    "T = 1\n",
    "dt = 0.01\n",
    "t_axis = np.arange(0, T, dt)[0:]"
   ]
  },
  {
   "cell_type": "code",
   "execution_count": 6,
   "metadata": {},
   "outputs": [
    {
     "name": "stdout",
     "output_type": "stream",
     "text": [
      "-47.34465334125993\n",
      "[-0.     0.    -0.     0.001 -0.004  0.011 -0.026  0.056 -0.106  0.182\n",
      " -0.281  0.389 -0.475  0.5   -0.428  0.25 ]\n"
     ]
    }
   ],
   "source": [
    "H0 = np.array([\n",
    "[ 0.,7.14,0.,0.,0.,0.,0.,0.,0.,0.,0.,0.,0.,0.,0.,0.,],\n",
    "[ 7.14,0.,10.097,0.,0.,0.,0.,0.,0.,0.,0.,0.,0.,0.,0.,0.,],\n",
    "[ 0.,10.097,0.,12.367,0.,0.,0.,0.,0.,0.,0.,0.,0.,0.,0.,0.,],\n",
    "[ 0.,0.,12.367,0.,14.28,0.,0.,0.,0.,0.,0.,0.,0.,0.,0.,0.,],\n",
    "[ 0.,0.,0.,14.28,0.,15.966,0.,0.,0.,0.,0.,0.,0.,0.,0.,0.,],\n",
    "[ 0.,0.,0.,0.,15.966,0.,17.489,0.,0.,0.,0.,0.,0.,0.,0.,0.,],\n",
    "[ 0.,0.,0.,0.,0.,17.489,0.,18.891,0.,0.,0.,0.,0.,0.,0.,0.,],\n",
    "[ 0.,0.,0.,0.,0.,0.,18.891,0.,20.195,0.,0.,0.,0.,0.,0.,0.,],\n",
    "[ 0.,0.,0.,0.,0.,0.,0.,20.195,0.,21.42,0.,0.,0.,0.,0.,0.,],\n",
    "[ 0.,0.,0.,0.,0.,0.,0.,0.,21.42,0.,22.579,0.,0.,0.,0.,0.,],\n",
    "[ 0.,0.,0.,0.,0.,0.,0.,0.,0.,22.579,0.,23.681,0.,0.,0.,0.,],\n",
    "[ 0.,0.,0.,0.,0.,0.,0.,0.,0.,0.,23.681,0.,24.734,0.,0.,0.,],\n",
    "[ 0.,0.,0.,0.,0.,0.,0.,0.,0.,0.,0.,24.734,0.,25.744,0.,0.,],\n",
    "[ 0.,0.,0.,0.,0.,0.,0.,0.,0.,0.,0.,0.,25.744,0.,26.715,0.,],\n",
    "[ 0.,0.,0.,0.,0.,0.,0.,0.,0.,0.,0.,0.,0.,26.715,0.,27.653],\n",
    "[ 0.,0.,0.,0.,0.,0.,0.,0.,0.,0.,0.,0.,0.,0.,27.653,0.,]\n",
    "])\n",
    "# print(H0)\n",
    "\n",
    "eigenvals_H0, eigenvecs_H0 = np.linalg.eigh(H0)\n",
    "ground_idx_H0 = eigenvals_H0.argsort()[0]\n",
    "print(eigenvals_H0[ground_idx_H0])\n",
    "print(eigenvecs_H0[:, ground_idx_H0])"
   ]
  },
  {
   "cell_type": "code",
   "execution_count": 7,
   "metadata": {},
   "outputs": [
    {
     "name": "stdout",
     "output_type": "stream",
     "text": [
      "-10.0\n",
      "[0. 0. 0. 0. 0. 0. 0. 0. 0. 1. 0. 0. 0. 0. 0. 0.]\n"
     ]
    }
   ],
   "source": [
    "Hp = (\n",
    "    - (Values[0] * np.kron(np.kron(np.kron(sigmaBin, sigmaI), sigmaI), sigmaI) + Values[1] * np.kron(np.kron(np.kron(sigmaI, sigmaBin), sigmaI), sigmaI))\n",
    "    + gamma * (\n",
    "        (Weights[0] * np.kron(np.kron(np.kron(sigmaBin, sigmaI), sigmaI), sigmaI) + Weights[1] * np.kron(np.kron(np.kron(sigmaI, sigmaBin), sigmaI), sigmaI))\n",
    "      - (Ancil[0] * np.kron(np.kron(np.kron(sigmaI, sigmaI), sigmaBin), sigmaI) + Ancil[1] * np.kron(np.kron(np.kron(sigmaI, sigmaI), sigmaI), sigmaBin))\n",
    "    )**2\n",
    ")\n",
    "# print(Hp)\n",
    "\n",
    "eigenvals_Hp, eigenvecs_Hp = np.linalg.eigh(Hp)\n",
    "ground_idx_Hp = eigenvals_Hp.argsort()[0]\n",
    "print(eigenvals_Hp[ground_idx_Hp])\n",
    "print(eigenvecs_Hp[:, ground_idx_Hp])\n"
   ]
  },
  {
   "cell_type": "code",
   "execution_count": 8,
   "metadata": {},
   "outputs": [],
   "source": [
    "def H(t, T=1, alpha=1, beta=1):\n",
    "    return alpha * ( (1 - t/T)*beta*H0 + (t/T)*Hp )"
   ]
  },
  {
   "cell_type": "code",
   "execution_count": 9,
   "metadata": {},
   "outputs": [],
   "source": [
    "psi_ini = eigenvecs_H0[:, ground_idx_H0]\n",
    "# print(psi_ini)\n",
    "# print(np.linalg.norm(psi_ini))\n",
    "\n",
    "psi_correct = eigenvecs_Hp[:, ground_idx_Hp]\n",
    "# print(psi_correct)"
   ]
  },
  {
   "cell_type": "code",
   "execution_count": 10,
   "metadata": {},
   "outputs": [],
   "source": [
    "# alpha = 0.1\n",
    "alpha_list = np.arange(1e-1, 1e1, 1e-1)\n",
    "accuracy_list = []\n",
    "\n",
    "for alpha in alpha_list:\n",
    "    start_time = time.time()\n",
    "\n",
    "    junrui_unitary = np.identity(len(H0))\n",
    "    for t in t_axis:\n",
    "        junrui_unitary = expm(-1j * H(t, alpha=alpha) * dt) @ junrui_unitary\n",
    "\n",
    "    psi_final = junrui_unitary @ psi_ini\n",
    "\n",
    "    accuracy = np.abs( np.dot(psi_correct, psi_final) )**2\n",
    "    accuracy_list.append(accuracy)\n",
    "\n",
    "    end_time = time.time()\n",
    "    # print(f\"alpha = {alpha}, loop time: {end_time - start_time}\")\n",
    "\n"
   ]
  },
  {
   "cell_type": "code",
   "execution_count": 11,
   "metadata": {},
   "outputs": [
    {
     "name": "stdout",
     "output_type": "stream",
     "text": [
      "[np.float64(0.05486248007671451), np.float64(0.23406244726533607), np.float64(0.42649701360294195), np.float64(0.36268169630384967), np.float64(0.22270347652306802), np.float64(0.17097235276908973), np.float64(0.2163991263434618), np.float64(0.3065965171676858), np.float64(0.383799595374222), np.float64(0.3887444538086738), np.float64(0.33775060326678685), np.float64(0.3473857626780653), np.float64(0.42724658605119553), np.float64(0.525415372470605), np.float64(0.5544723459335716), np.float64(0.5123335486057692), np.float64(0.4580241179421127), np.float64(0.45320825875746046), np.float64(0.5086832687749403), np.float64(0.5856139647490168), np.float64(0.6366725813860709), np.float64(0.636359906938771), np.float64(0.607037548451502), np.float64(0.5834820151793809), np.float64(0.5928945870299385), np.float64(0.6223966364334279), np.float64(0.6500427437621553), np.float64(0.668622499352099), np.float64(0.6879018367829972), np.float64(0.7056063960654808), np.float64(0.7129384782582702), np.float64(0.7069680422775823), np.float64(0.6959400953110174), np.float64(0.6964273054599284), np.float64(0.7154294606130893), np.float64(0.7418583485167989), np.float64(0.7592033869458941), np.float64(0.7680036562960837), np.float64(0.775093523152181), np.float64(0.7819354575339649), np.float64(0.7838520709128612), np.float64(0.7803310492014947), np.float64(0.7773799469367785), np.float64(0.786094373638604), np.float64(0.8081817877545341), np.float64(0.8296635474664699), np.float64(0.837435780687081), np.float64(0.8332899230585507), np.float64(0.8293648901765696), np.float64(0.8344712168975509), np.float64(0.8462710381107013), np.float64(0.8548308262363374), np.float64(0.8558396448885702), np.float64(0.8559282525684485), np.float64(0.8640973436462137), np.float64(0.8776259512798066), np.float64(0.8875102659622008), np.float64(0.8891171418693326), np.float64(0.8846137442017316), np.float64(0.8852766966626249), np.float64(0.8926252365598365), np.float64(0.9006799464259861), np.float64(0.9053869792884556), np.float64(0.9071838130763449), np.float64(0.9081758684049906), np.float64(0.9128223066519409), np.float64(0.9191435641445207), np.float64(0.922194000836875), np.float64(0.9209853500442978), np.float64(0.921735779502892), np.float64(0.927422918523643), np.float64(0.935892653361735), np.float64(0.9416890048068456), np.float64(0.9441465749476484), np.float64(0.9446898190503521), np.float64(0.946052391156875), np.float64(0.9490842202145532), np.float64(0.9515993259006407), np.float64(0.9520964939352438), np.float64(0.9525507706360724), np.float64(0.9553216795027025), np.float64(0.960167072382512), np.float64(0.9645102992281238), np.float64(0.9657870296437014), np.float64(0.9647443897681911), np.float64(0.9644828978569798), np.float64(0.9670847318080255), np.float64(0.9708707571526536), np.float64(0.9733480447690568), np.float64(0.9739803581803685), np.float64(0.97454414022771), np.float64(0.9761404979906445), np.float64(0.9781592377054659), np.float64(0.9791355742934708), np.float64(0.9791600356633058), np.float64(0.9796069443789827), np.float64(0.9812542997417207), np.float64(0.9838860445055063), np.float64(0.9853351195886103)]\n"
     ]
    }
   ],
   "source": [
    "print(accuracy_list)"
   ]
  },
  {
   "cell_type": "code",
   "execution_count": 12,
   "metadata": {},
   "outputs": [
    {
     "name": "stdout",
     "output_type": "stream",
     "text": [
      "0.9853351195886103\n"
     ]
    },
    {
     "data": {
      "image/png": "[encoded data removed]",
      "text/plain": [
       "<Figure size 640x480 with 1 Axes>"
      ]
     },
     "metadata": {},
     "output_type": "display_data"
    }
   ],
   "source": [
    "plt.scatter(alpha_list, accuracy_list, s=1)\n",
    "plt.xlabel(\"alpha\")\n",
    "plt.ylabel(\"accuracy\")\n",
    "print(max(accuracy_list))"
   ]
  },
  {
   "cell_type": "code",
   "execution_count": null,
   "metadata": {},
   "outputs": [],
   "source": []
  },
  {
   "cell_type": "code",
   "execution_count": 15,
   "metadata": {},
   "outputs": [
    {
     "name": "stdout",
     "output_type": "stream",
     "text": [
      "5.0\n",
      "0.8344712168975509\n"
     ]
    }
   ],
   "source": [
    "print(alpha_list[49])\n",
    "print(accuracy_list[49])"
   ]
  },
  {
   "cell_type": "code",
   "execution_count": null,
   "metadata": {},
   "outputs": [],
   "source": []
  }
 ],
 "metadata": {
  "kernelspec": {
   "display_name": "env",
   "language": "python",
   "name": "python3"
  },
  "language_info": {
   "codemirror_mode": {
    "name": "ipython",
    "version": 3
   },
   "file_extension": ".py",
   "mimetype": "text/x-python",
   "name": "python",
   "nbconvert_exporter": "python",
   "pygments_lexer": "ipython3",
   "version": "3.12.5"
  }
 },
 "nbformat": 4,
 "nbformat_minor": 2
}
