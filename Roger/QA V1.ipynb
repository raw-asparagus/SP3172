{
 "cells": [
  {
   "cell_type": "markdown",
   "metadata": {},
   "source": [
    "#### Note to self:\n",
    "\n",
    "Don't use np.linalg.norm(psi_final - psi_correct), use (np.dot(psi_correct, psi_final))**2\n",
    "Because there might be a global phase in psi_final that causes the magnitude of the difference to be large, even though the inner product may be large."
   ]
  },
  {
   "cell_type": "code",
   "execution_count": 1038,
   "metadata": {},
   "outputs": [],
   "source": [
    "import numpy as np\n",
    "from scipy.linalg import expm\n",
    "import matplotlib.pyplot as plt"
   ]
  },
  {
   "cell_type": "code",
   "execution_count": 1039,
   "metadata": {},
   "outputs": [],
   "source": [
    "np.set_printoptions(suppress=True)\n",
    "np.set_printoptions(precision=3)"
   ]
  },
  {
   "cell_type": "code",
   "execution_count": 1040,
   "metadata": {},
   "outputs": [],
   "source": [
    "Values = [1000, 1]\n",
    "Weights = [2, 3]\n",
    "Ancil = [1, 2]\n",
    "\n",
    "alpha = 1e4\n",
    "beta = 7.1\n",
    "gamma = max(Values) + 1\n",
    "T = 1\n",
    "t_axis = np.arange(0, T, 0.01)"
   ]
  },
  {
   "cell_type": "code",
   "execution_count": 1041,
   "metadata": {},
   "outputs": [],
   "source": [
    "sigmaI = np.array(\n",
    "    [\n",
    "        [1, 0],\n",
    "        [0, 1],\n",
    "    ]\n",
    ")\n",
    "sigmaX = np.array(\n",
    "    [\n",
    "        [0, 1],\n",
    "        [1, 0],\n",
    "    ]\n",
    ")\n",
    "sigmaBin = np.array(\n",
    "    [\n",
    "        [0, 0],\n",
    "        [0, 1],\n",
    "    ]\n",
    ")"
   ]
  },
  {
   "cell_type": "code",
   "execution_count": 1042,
   "metadata": {},
   "outputs": [
    {
     "name": "stdout",
     "output_type": "stream",
     "text": [
      "-4.000000000000003\n",
      "[ 0.25 -0.25 -0.25  0.25 -0.25  0.25  0.25 -0.25 -0.25  0.25  0.25 -0.25\n",
      "  0.25 -0.25 -0.25  0.25]\n"
     ]
    }
   ],
   "source": [
    "# H0 = np.zeros((2**(len(Values) + len(Ancil)), 2**(len(Values) + len(Ancil))))\n",
    "H0 = np.kron(np.kron(np.kron(sigmaX, sigmaI), sigmaI), sigmaI) + np.kron(np.kron(np.kron(sigmaI, sigmaX), sigmaI), sigmaI) + np.kron(np.kron(np.kron(sigmaI, sigmaI), sigmaX), sigmaI) + np.kron(np.kron(np.kron(sigmaI, sigmaI), sigmaI), sigmaX)\n",
    "# print(H0)\n",
    "\n",
    "eigenvals_H0, eigenvecs_H0 = np.linalg.eigh(H0)\n",
    "ground_idx_H0 = eigenvals_H0.argsort()[0]\n",
    "print(eigenvals_H0[ground_idx_H0])\n",
    "print(eigenvecs_H0[:, ground_idx_H0])"
   ]
  },
  {
   "cell_type": "code",
   "execution_count": 1043,
   "metadata": {},
   "outputs": [
    {
     "name": "stdout",
     "output_type": "stream",
     "text": [
      "-1000.0\n",
      "[0. 0. 0. 0. 0. 0. 0. 0. 0. 1. 0. 0. 0. 0. 0. 0.]\n"
     ]
    }
   ],
   "source": [
    "Hp = (\n",
    "    - (Values[0] * np.kron(np.kron(np.kron(sigmaBin, sigmaI), sigmaI), sigmaI) + Values[1] * np.kron(np.kron(np.kron(sigmaI, sigmaBin), sigmaI), sigmaI))\n",
    "    + gamma * (\n",
    "        (Weights[0] * np.kron(np.kron(np.kron(sigmaBin, sigmaI), sigmaI), sigmaI) + Weights[1] * np.kron(np.kron(np.kron(sigmaI, sigmaBin), sigmaI), sigmaI))\n",
    "      - (Ancil[0] * np.kron(np.kron(np.kron(sigmaI, sigmaI), sigmaBin), sigmaI) + Ancil[1] * np.kron(np.kron(np.kron(sigmaI, sigmaI), sigmaI), sigmaBin))\n",
    "    )**2\n",
    ")\n",
    "# print(Hp)\n",
    "\n",
    "eigenvals_Hp, eigenvecs_Hp = np.linalg.eigh(Hp)\n",
    "ground_idx_Hp = eigenvals_Hp.argsort()[0]\n",
    "print(eigenvals_Hp[ground_idx_Hp])\n",
    "print(eigenvecs_Hp[:, ground_idx_Hp])\n"
   ]
  },
  {
   "cell_type": "code",
   "execution_count": 1044,
   "metadata": {},
   "outputs": [],
   "source": [
    "def H(t):\n",
    "    return alpha * ( (1 - t/T)*beta*H0 + (t/T)*Hp )\n",
    "\n",
    "# print(H(0))\n",
    "# print(H(T))"
   ]
  },
  {
   "cell_type": "code",
   "execution_count": 1045,
   "metadata": {},
   "outputs": [
    {
     "data": {
      "text/plain": [
       "[<matplotlib.lines.Line2D at 0x14c5be660>,\n",
       " <matplotlib.lines.Line2D at 0x14c5be690>,\n",
       " <matplotlib.lines.Line2D at 0x14c5be7b0>,\n",
       " <matplotlib.lines.Line2D at 0x14c5be8d0>,\n",
       " <matplotlib.lines.Line2D at 0x14c5be9f0>]"
      ]
     },
     "execution_count": 1045,
     "metadata": {},
     "output_type": "execute_result"
    },
    {
     "data": {
      "image/png": "[encoded data removed]",
      "text/plain": [
       "<Figure size 640x480 with 1 Axes>"
      ]
     },
     "metadata": {},
     "output_type": "display_data"
    }
   ],
   "source": [
    "instant_eigenvals = []\n",
    "for t in t_axis:\n",
    "    eigenvals, eigenvecs = np.linalg.eigh(H(t))\n",
    "    instant_eigenvals.append(eigenvals[eigenvals.argsort()[0:5]])\n",
    "\n",
    "# print(instant_eigenvals)\n",
    "plt.plot(t_axis, instant_eigenvals)"
   ]
  },
  {
   "cell_type": "code",
   "execution_count": 1046,
   "metadata": {},
   "outputs": [],
   "source": [
    "int_H_T = 0.5 * alpha * T * (beta*H0 + Hp)"
   ]
  },
  {
   "cell_type": "code",
   "execution_count": 1047,
   "metadata": {},
   "outputs": [],
   "source": [
    "U = expm(-1j * int_H_T)\n",
    "# print(U.conjugate().transpose() @ U)"
   ]
  },
  {
   "cell_type": "code",
   "execution_count": 1048,
   "metadata": {},
   "outputs": [
    {
     "name": "stdout",
     "output_type": "stream",
     "text": [
      "[ 0.25 -0.25 -0.25  0.25 -0.25  0.25  0.25 -0.25 -0.25  0.25  0.25 -0.25\n",
      "  0.25 -0.25 -0.25  0.25]\n",
      "1.0000000000000004\n"
     ]
    }
   ],
   "source": [
    "psi_ini = eigenvecs_H0[:, ground_idx_H0]\n",
    "print(psi_ini)\n",
    "print(np.linalg.norm(psi_ini))"
   ]
  },
  {
   "cell_type": "code",
   "execution_count": 1049,
   "metadata": {},
   "outputs": [
    {
     "name": "stdout",
     "output_type": "stream",
     "text": [
      "[ 0.105-0.222j  0.126+0.214j  0.074+0.236j -0.136-0.209j  0.233+0.087j\n",
      " -0.075+0.236j  0.21 +0.134j  0.143+0.209j -0.227+0.101j -0.047+0.247j\n",
      " -0.021+0.256j  0.023-0.255j -0.08 -0.236j  0.193-0.159j  0.235-0.084j\n",
      "  0.123+0.217j]\n",
      "1.0000000004172211\n"
     ]
    }
   ],
   "source": [
    "psi_final = U @ psi_ini\n",
    "print(psi_final)\n",
    "print(np.linalg.norm(psi_final))"
   ]
  },
  {
   "cell_type": "code",
   "execution_count": 1050,
   "metadata": {},
   "outputs": [
    {
     "name": "stdout",
     "output_type": "stream",
     "text": [
      "[0. 0. 0. 0. 0. 0. 0. 0. 0. 1. 0. 0. 0. 0. 0. 0.]\n"
     ]
    }
   ],
   "source": [
    "psi_correct = eigenvecs_Hp[:, ground_idx_Hp]\n",
    "print(psi_correct)"
   ]
  },
  {
   "cell_type": "code",
   "execution_count": 1051,
   "metadata": {},
   "outputs": [],
   "source": [
    "def int_H(t):\n",
    "    return 0.5 * alpha * t / T * (2 * beta * H0*T + (-beta * H0 + Hp)*t )\n",
    "\n",
    "def Unitary(t):\n",
    "    return expm(-1j * int_H(t))"
   ]
  },
  {
   "cell_type": "code",
   "execution_count": 1052,
   "metadata": {},
   "outputs": [
    {
     "data": {
      "text/plain": [
       "array([[0., 0., 0., 0., 0., 0., 0., 0., 0., 0., 0., 0., 0., 0., 0., 0.],\n",
       "       [0., 0., 0., 0., 0., 0., 0., 0., 0., 0., 0., 0., 0., 0., 0., 0.],\n",
       "       [0., 0., 0., 0., 0., 0., 0., 0., 0., 0., 0., 0., 0., 0., 0., 0.],\n",
       "       [0., 0., 0., 0., 0., 0., 0., 0., 0., 0., 0., 0., 0., 0., 0., 0.],\n",
       "       [0., 0., 0., 0., 0., 0., 0., 0., 0., 0., 0., 0., 0., 0., 0., 0.],\n",
       "       [0., 0., 0., 0., 0., 0., 0., 0., 0., 0., 0., 0., 0., 0., 0., 0.],\n",
       "       [0., 0., 0., 0., 0., 0., 0., 0., 0., 0., 0., 0., 0., 0., 0., 0.],\n",
       "       [0., 0., 0., 0., 0., 0., 0., 0., 0., 0., 0., 0., 0., 0., 0., 0.],\n",
       "       [0., 0., 0., 0., 0., 0., 0., 0., 0., 0., 0., 0., 0., 0., 0., 0.],\n",
       "       [0., 0., 0., 0., 0., 0., 0., 0., 0., 0., 0., 0., 0., 0., 0., 0.],\n",
       "       [0., 0., 0., 0., 0., 0., 0., 0., 0., 0., 0., 0., 0., 0., 0., 0.],\n",
       "       [0., 0., 0., 0., 0., 0., 0., 0., 0., 0., 0., 0., 0., 0., 0., 0.],\n",
       "       [0., 0., 0., 0., 0., 0., 0., 0., 0., 0., 0., 0., 0., 0., 0., 0.],\n",
       "       [0., 0., 0., 0., 0., 0., 0., 0., 0., 0., 0., 0., 0., 0., 0., 0.],\n",
       "       [0., 0., 0., 0., 0., 0., 0., 0., 0., 0., 0., 0., 0., 0., 0., 0.],\n",
       "       [0., 0., 0., 0., 0., 0., 0., 0., 0., 0., 0., 0., 0., 0., 0., 0.]])"
      ]
     },
     "execution_count": 1052,
     "metadata": {},
     "output_type": "execute_result"
    }
   ],
   "source": [
    "int_H(T) - int_H_T"
   ]
  },
  {
   "cell_type": "code",
   "execution_count": 1053,
   "metadata": {},
   "outputs": [
    {
     "data": {
      "text/plain": [
       "array([[ 0.000e+00,  3.550e+04,  3.550e+04,  0.000e+00,  3.550e+04,\n",
       "         0.000e+00,  0.000e+00,  0.000e+00,  3.550e+04,  0.000e+00,\n",
       "         0.000e+00,  0.000e+00,  0.000e+00,  0.000e+00,  0.000e+00,\n",
       "         0.000e+00],\n",
       "       [ 3.550e+04,  2.002e+07,  0.000e+00,  3.550e+04,  0.000e+00,\n",
       "         3.550e+04,  0.000e+00,  0.000e+00,  0.000e+00,  3.550e+04,\n",
       "         0.000e+00,  0.000e+00,  0.000e+00,  0.000e+00,  0.000e+00,\n",
       "         0.000e+00],\n",
       "       [ 3.550e+04,  0.000e+00,  5.005e+06,  3.550e+04,  0.000e+00,\n",
       "         0.000e+00,  3.550e+04,  0.000e+00,  0.000e+00,  0.000e+00,\n",
       "         3.550e+04,  0.000e+00,  0.000e+00,  0.000e+00,  0.000e+00,\n",
       "         0.000e+00],\n",
       "       [ 0.000e+00,  3.550e+04,  3.550e+04,  4.504e+07,  0.000e+00,\n",
       "         0.000e+00,  0.000e+00,  3.550e+04,  0.000e+00,  0.000e+00,\n",
       "         0.000e+00,  3.550e+04,  0.000e+00,  0.000e+00,  0.000e+00,\n",
       "         0.000e+00],\n",
       "       [ 3.550e+04,  0.000e+00,  0.000e+00,  0.000e+00,  4.504e+07,\n",
       "         3.550e+04,  3.550e+04,  0.000e+00,  0.000e+00,  0.000e+00,\n",
       "         0.000e+00,  0.000e+00,  3.550e+04,  0.000e+00,  0.000e+00,\n",
       "         0.000e+00],\n",
       "       [ 0.000e+00,  3.550e+04,  0.000e+00,  0.000e+00,  3.550e+04,\n",
       "         5.000e+06,  0.000e+00,  3.550e+04,  0.000e+00,  0.000e+00,\n",
       "         0.000e+00,  0.000e+00,  0.000e+00,  3.550e+04,  0.000e+00,\n",
       "         0.000e+00],\n",
       "       [ 0.000e+00,  0.000e+00,  3.550e+04,  0.000e+00,  3.550e+04,\n",
       "         0.000e+00,  2.002e+07,  3.550e+04,  0.000e+00,  0.000e+00,\n",
       "         0.000e+00,  0.000e+00,  0.000e+00,  0.000e+00,  3.550e+04,\n",
       "         0.000e+00],\n",
       "       [ 0.000e+00,  0.000e+00,  0.000e+00,  3.550e+04,  0.000e+00,\n",
       "         3.550e+04,  3.550e+04, -5.000e+03,  0.000e+00,  0.000e+00,\n",
       "         0.000e+00,  0.000e+00,  0.000e+00,  0.000e+00,  0.000e+00,\n",
       "         3.550e+04],\n",
       "       [ 3.550e+04,  0.000e+00,  0.000e+00,  0.000e+00,  0.000e+00,\n",
       "         0.000e+00,  0.000e+00,  0.000e+00,  1.502e+07,  3.550e+04,\n",
       "         3.550e+04,  0.000e+00,  3.550e+04,  0.000e+00,  0.000e+00,\n",
       "         0.000e+00],\n",
       "       [ 0.000e+00,  3.550e+04,  0.000e+00,  0.000e+00,  0.000e+00,\n",
       "         0.000e+00,  0.000e+00,  0.000e+00,  3.550e+04, -5.000e+06,\n",
       "         0.000e+00,  3.550e+04,  0.000e+00,  3.550e+04,  0.000e+00,\n",
       "         0.000e+00],\n",
       "       [ 0.000e+00,  0.000e+00,  3.550e+04,  0.000e+00,  0.000e+00,\n",
       "         0.000e+00,  0.000e+00,  0.000e+00,  3.550e+04,  0.000e+00,\n",
       "         5.000e+03,  3.550e+04,  0.000e+00,  0.000e+00,  3.550e+04,\n",
       "         0.000e+00],\n",
       "       [ 0.000e+00,  0.000e+00,  0.000e+00,  3.550e+04,  0.000e+00,\n",
       "         0.000e+00,  0.000e+00,  0.000e+00,  0.000e+00,  3.550e+04,\n",
       "         3.550e+04,  5.000e+03,  0.000e+00,  0.000e+00,  0.000e+00,\n",
       "         3.550e+04],\n",
       "       [ 0.000e+00,  0.000e+00,  0.000e+00,  0.000e+00,  3.550e+04,\n",
       "         0.000e+00,  0.000e+00,  0.000e+00,  3.550e+04,  0.000e+00,\n",
       "         0.000e+00,  0.000e+00,  1.201e+08,  3.550e+04,  3.550e+04,\n",
       "         0.000e+00],\n",
       "       [ 0.000e+00,  0.000e+00,  0.000e+00,  0.000e+00,  0.000e+00,\n",
       "         3.550e+04,  0.000e+00,  0.000e+00,  0.000e+00,  3.550e+04,\n",
       "         0.000e+00,  0.000e+00,  3.550e+04,  4.004e+07,  0.000e+00,\n",
       "         3.550e+04],\n",
       "       [ 0.000e+00,  0.000e+00,  0.000e+00,  0.000e+00,  0.000e+00,\n",
       "         0.000e+00,  3.550e+04,  0.000e+00,  0.000e+00,  0.000e+00,\n",
       "         3.550e+04,  0.000e+00,  3.550e+04,  0.000e+00,  7.508e+07,\n",
       "         3.550e+04],\n",
       "       [ 0.000e+00,  0.000e+00,  0.000e+00,  0.000e+00,  0.000e+00,\n",
       "         0.000e+00,  0.000e+00,  3.550e+04,  0.000e+00,  0.000e+00,\n",
       "         0.000e+00,  3.550e+04,  0.000e+00,  3.550e+04,  3.550e+04,\n",
       "         1.502e+07]])"
      ]
     },
     "execution_count": 1053,
     "metadata": {},
     "output_type": "execute_result"
    }
   ],
   "source": [
    "int_H(T)"
   ]
  },
  {
   "cell_type": "code",
   "execution_count": 1054,
   "metadata": {},
   "outputs": [
    {
     "data": {
      "text/plain": [
       "array([[ 0.000e+00,  0.000e+00,  0.000e+00,  0.000e+00,  0.000e+00,\n",
       "         0.000e+00,  0.000e+00,  0.000e+00,  0.000e+00,  0.000e+00,\n",
       "         0.000e+00,  0.000e+00,  0.000e+00,  0.000e+00,  0.000e+00,\n",
       "         0.000e+00],\n",
       "       [ 0.000e+00,  4.004e+07,  0.000e+00,  0.000e+00,  0.000e+00,\n",
       "         0.000e+00,  0.000e+00,  0.000e+00,  0.000e+00,  0.000e+00,\n",
       "         0.000e+00,  0.000e+00,  0.000e+00,  0.000e+00,  0.000e+00,\n",
       "         0.000e+00],\n",
       "       [ 0.000e+00,  0.000e+00,  1.001e+07,  0.000e+00,  0.000e+00,\n",
       "         0.000e+00,  0.000e+00,  0.000e+00,  0.000e+00,  0.000e+00,\n",
       "         0.000e+00,  0.000e+00,  0.000e+00,  0.000e+00,  0.000e+00,\n",
       "         0.000e+00],\n",
       "       [ 0.000e+00,  0.000e+00,  0.000e+00,  9.009e+07,  0.000e+00,\n",
       "         0.000e+00,  0.000e+00,  0.000e+00,  0.000e+00,  0.000e+00,\n",
       "         0.000e+00,  0.000e+00,  0.000e+00,  0.000e+00,  0.000e+00,\n",
       "         0.000e+00],\n",
       "       [ 0.000e+00,  0.000e+00,  0.000e+00,  0.000e+00,  9.008e+07,\n",
       "         0.000e+00,  0.000e+00,  0.000e+00,  0.000e+00,  0.000e+00,\n",
       "         0.000e+00,  0.000e+00,  0.000e+00,  0.000e+00,  0.000e+00,\n",
       "         0.000e+00],\n",
       "       [ 0.000e+00,  0.000e+00,  0.000e+00,  0.000e+00,  0.000e+00,\n",
       "         1.000e+07,  0.000e+00,  0.000e+00,  0.000e+00,  0.000e+00,\n",
       "         0.000e+00,  0.000e+00,  0.000e+00,  0.000e+00,  0.000e+00,\n",
       "         0.000e+00],\n",
       "       [ 0.000e+00,  0.000e+00,  0.000e+00,  0.000e+00,  0.000e+00,\n",
       "         0.000e+00,  4.003e+07,  0.000e+00,  0.000e+00,  0.000e+00,\n",
       "         0.000e+00,  0.000e+00,  0.000e+00,  0.000e+00,  0.000e+00,\n",
       "         0.000e+00],\n",
       "       [ 0.000e+00,  0.000e+00,  0.000e+00,  0.000e+00,  0.000e+00,\n",
       "         0.000e+00,  0.000e+00, -1.000e+04,  0.000e+00,  0.000e+00,\n",
       "         0.000e+00,  0.000e+00,  0.000e+00,  0.000e+00,  0.000e+00,\n",
       "         0.000e+00],\n",
       "       [ 0.000e+00,  0.000e+00,  0.000e+00,  0.000e+00,  0.000e+00,\n",
       "         0.000e+00,  0.000e+00,  0.000e+00,  3.004e+07,  0.000e+00,\n",
       "         0.000e+00,  0.000e+00,  0.000e+00,  0.000e+00,  0.000e+00,\n",
       "         0.000e+00],\n",
       "       [ 0.000e+00,  0.000e+00,  0.000e+00,  0.000e+00,  0.000e+00,\n",
       "         0.000e+00,  0.000e+00,  0.000e+00,  0.000e+00, -1.000e+07,\n",
       "         0.000e+00,  0.000e+00,  0.000e+00,  0.000e+00,  0.000e+00,\n",
       "         0.000e+00],\n",
       "       [ 0.000e+00,  0.000e+00,  0.000e+00,  0.000e+00,  0.000e+00,\n",
       "         0.000e+00,  0.000e+00,  0.000e+00,  0.000e+00,  0.000e+00,\n",
       "         1.000e+04,  0.000e+00,  0.000e+00,  0.000e+00,  0.000e+00,\n",
       "         0.000e+00],\n",
       "       [ 0.000e+00,  0.000e+00,  0.000e+00,  0.000e+00,  0.000e+00,\n",
       "         0.000e+00,  0.000e+00,  0.000e+00,  0.000e+00,  0.000e+00,\n",
       "         0.000e+00,  1.000e+04,  0.000e+00,  0.000e+00,  0.000e+00,\n",
       "         0.000e+00],\n",
       "       [ 0.000e+00,  0.000e+00,  0.000e+00,  0.000e+00,  0.000e+00,\n",
       "         0.000e+00,  0.000e+00,  0.000e+00,  0.000e+00,  0.000e+00,\n",
       "         0.000e+00,  0.000e+00,  2.402e+08,  0.000e+00,  0.000e+00,\n",
       "         0.000e+00],\n",
       "       [ 0.000e+00,  0.000e+00,  0.000e+00,  0.000e+00,  0.000e+00,\n",
       "         0.000e+00,  0.000e+00,  0.000e+00,  0.000e+00,  0.000e+00,\n",
       "         0.000e+00,  0.000e+00,  0.000e+00,  8.008e+07,  0.000e+00,\n",
       "         0.000e+00],\n",
       "       [ 0.000e+00,  0.000e+00,  0.000e+00,  0.000e+00,  0.000e+00,\n",
       "         0.000e+00,  0.000e+00,  0.000e+00,  0.000e+00,  0.000e+00,\n",
       "         0.000e+00,  0.000e+00,  0.000e+00,  0.000e+00,  1.502e+08,\n",
       "         0.000e+00],\n",
       "       [ 0.000e+00,  0.000e+00,  0.000e+00,  0.000e+00,  0.000e+00,\n",
       "         0.000e+00,  0.000e+00,  0.000e+00,  0.000e+00,  0.000e+00,\n",
       "         0.000e+00,  0.000e+00,  0.000e+00,  0.000e+00,  0.000e+00,\n",
       "         3.003e+07]])"
      ]
     },
     "execution_count": 1054,
     "metadata": {},
     "output_type": "execute_result"
    }
   ],
   "source": [
    "H(T)"
   ]
  },
  {
   "cell_type": "code",
   "execution_count": 1055,
   "metadata": {},
   "outputs": [
    {
     "data": {
      "text/plain": [
       "array([[ 0.418-0.908j, -0.002+0.j   , -0.005-0.j   ,  0.   +0.j   ,\n",
       "        -0.001+0.j   ,  0.   -0.j   ,  0.   +0.j   ,  0.   -0.j   ,\n",
       "         0.001+0.001j,  0.   -0.j   , -0.003+0.003j,  0.002-0.018j,\n",
       "        -0.   -0.j   , -0.   +0.j   ,  0.   -0.j   , -0.   +0.j   ],\n",
       "       [-0.002+0.j   , -0.508-0.862j,  0.   -0.j   , -0.   +0.j   ,\n",
       "         0.   +0.j   , -0.   -0.004j,  0.   +0.j   , -0.   -0.j   ,\n",
       "        -0.   -0.j   , -0.   -0.003j,  0.   -0.j   , -0.   +0.j   ,\n",
       "         0.   -0.j   ,  0.   +0.j   , -0.   -0.j   ,  0.   +0.j   ],\n",
       "       [-0.005-0.j   ,  0.   -0.j   , -0.301-0.953j, -0.   +0.j   ,\n",
       "        -0.   -0.j   , -0.   +0.001j,  0.003+0.004j,  0.   +0.j   ,\n",
       "         0.   +0.j   , -0.   +0.j   , -0.004-0.013j, -0.002+0.001j,\n",
       "        -0.   -0.j   ,  0.   -0.j   , -0.   +0.j   ,  0.   -0.j   ],\n",
       "       [ 0.   +0.j   , -0.   +0.j   , -0.   +0.j   , -0.544-0.839j,\n",
       "         0.   -0.j   , -0.   -0.j   , -0.   -0.j   ,  0.   -0.j   ,\n",
       "         0.   -0.j   , -0.   +0.j   , -0.   +0.j   , -0.001-0.001j,\n",
       "        -0.   +0.j   ,  0.   -0.j   ,  0.   -0.j   , -0.   -0.j   ],\n",
       "       [-0.001+0.j   ,  0.   +0.j   , -0.   -0.j   ,  0.   -0.j   ,\n",
       "        -0.937-0.35j , -0.001-0.001j, -0.003-0.001j, -0.   -0.j   ,\n",
       "        -0.   -0.j   , -0.   +0.j   ,  0.   -0.j   , -0.   +0.j   ,\n",
       "         0.   -0.j   ,  0.   -0.j   ,  0.   +0.j   ,  0.   -0.j   ],\n",
       "       [ 0.   -0.j   , -0.   -0.004j, -0.   +0.001j, -0.   -0.j   ,\n",
       "        -0.001-0.001j, -0.301+0.953j, -0.   -0.j   ,  0.002+0.013j,\n",
       "        -0.   +0.j   , -0.   -0.j   ,  0.   +0.j   ,  0.   -0.j   ,\n",
       "         0.   +0.j   , -0.   -0.j   , -0.   +0.j   , -0.   -0.j   ],\n",
       "       [ 0.   +0.j   ,  0.   +0.j   ,  0.003+0.004j, -0.   -0.j   ,\n",
       "        -0.003-0.001j, -0.   -0.j   ,  0.842+0.539j,  0.002+0.002j,\n",
       "        -0.   -0.j   ,  0.   +0.j   ,  0.   +0.j   ,  0.   -0.j   ,\n",
       "         0.   +0.j   , -0.   +0.j   , -0.001-0.j   , -0.   -0.j   ],\n",
       "       [ 0.   -0.j   , -0.   -0.j   ,  0.   +0.j   ,  0.   -0.j   ,\n",
       "        -0.   -0.j   ,  0.002+0.013j,  0.002+0.002j, -0.567-0.823j,\n",
       "         0.   +0.j   , -0.   +0.j   , -0.002-0.006j, -0.   +0.002j,\n",
       "         0.   +0.j   , -0.   -0.j   , -0.   -0.j   ,  0.003+0.004j],\n",
       "       [ 0.001+0.001j, -0.   -0.j   ,  0.   +0.j   ,  0.   -0.j   ,\n",
       "        -0.   -0.j   , -0.   +0.j   , -0.   -0.j   ,  0.   +0.j   ,\n",
       "         0.912-0.41j ,  0.002-0.002j,  0.002-0.003j, -0.001+0.j   ,\n",
       "        -0.   -0.j   , -0.   +0.j   , -0.   +0.j   ,  0.   -0.j   ],\n",
       "       [ 0.   -0.j   , -0.   -0.003j, -0.   +0.j   , -0.   +0.j   ,\n",
       "        -0.   +0.j   , -0.   -0.j   ,  0.   +0.j   , -0.   +0.j   ,\n",
       "         0.002-0.002j, -0.188+0.982j,  0.002-0.001j,  0.003-0.j   ,\n",
       "        -0.   +0.j   , -0.   -0.j   , -0.   +0.j   , -0.   +0.j   ],\n",
       "       [-0.003+0.003j,  0.   -0.j   , -0.004-0.013j, -0.   +0.j   ,\n",
       "         0.   -0.j   ,  0.   +0.j   ,  0.   +0.j   , -0.002-0.006j,\n",
       "         0.002-0.003j,  0.002-0.001j,  0.217+0.925j,  0.303-0.072j,\n",
       "        -0.   +0.j   , -0.   +0.j   , -0.001-0.j   , -0.001+0.j   ],\n",
       "       [ 0.002-0.018j, -0.   +0.j   , -0.002+0.001j, -0.001-0.001j,\n",
       "        -0.   +0.j   ,  0.   -0.j   ,  0.   -0.j   , -0.   +0.002j,\n",
       "        -0.001+0.j   ,  0.003-0.j   ,  0.303-0.072j,  0.221+0.924j,\n",
       "         0.   -0.j   , -0.   -0.j   , -0.   +0.j   ,  0.001-0.j   ],\n",
       "       [-0.   -0.j   ,  0.   -0.j   , -0.   -0.j   , -0.   +0.j   ,\n",
       "         0.   -0.j   ,  0.   +0.j   ,  0.   +0.j   ,  0.   +0.j   ,\n",
       "        -0.   -0.j   , -0.   +0.j   , -0.   +0.j   ,  0.   -0.j   ,\n",
       "        -0.318-0.948j,  0.   -0.001j,  0.   -0.001j,  0.   -0.j   ],\n",
       "       [-0.   +0.j   ,  0.   +0.j   ,  0.   -0.j   ,  0.   -0.j   ,\n",
       "         0.   -0.j   , -0.   -0.j   , -0.   +0.j   , -0.   -0.j   ,\n",
       "        -0.   +0.j   , -0.   -0.j   , -0.   +0.j   , -0.   -0.j   ,\n",
       "         0.   -0.001j, -0.774+0.633j,  0.   -0.j   , -0.002-0.j   ],\n",
       "       [ 0.   -0.j   , -0.   -0.j   , -0.   +0.j   ,  0.   -0.j   ,\n",
       "         0.   +0.j   , -0.   +0.j   , -0.001-0.j   , -0.   -0.j   ,\n",
       "        -0.   +0.j   , -0.   +0.j   , -0.001-0.j   , -0.   +0.j   ,\n",
       "         0.   -0.001j,  0.   -0.j   , -0.943+0.334j, -0.001-0.j   ],\n",
       "       [-0.   +0.j   ,  0.   +0.j   ,  0.   -0.j   , -0.   -0.j   ,\n",
       "         0.   -0.j   , -0.   -0.j   , -0.   -0.j   ,  0.003+0.004j,\n",
       "         0.   -0.j   , -0.   +0.j   , -0.001+0.j   ,  0.001-0.j   ,\n",
       "         0.   -0.j   , -0.002-0.j   , -0.001-0.j   ,  0.494+0.87j ]])"
      ]
     },
     "execution_count": 1055,
     "metadata": {},
     "output_type": "execute_result"
    }
   ],
   "source": [
    "Unitary(T)"
   ]
  },
  {
   "cell_type": "code",
   "execution_count": 1056,
   "metadata": {},
   "outputs": [
    {
     "data": {
      "text/plain": [
       "array([[ 1.+0.j, -0.-0.j, -0.-0.j,  0.+0.j, -0.+0.j,  0.-0.j,  0.-0.j,\n",
       "         0.-0.j, -0.-0.j,  0.-0.j, -0.+0.j,  0.-0.j,  0.-0.j, -0.+0.j,\n",
       "         0.-0.j, -0.+0.j],\n",
       "       [-0.+0.j,  1.+0.j,  0.-0.j,  0.-0.j, -0.-0.j, -0.-0.j,  0.-0.j,\n",
       "         0.-0.j,  0.-0.j,  0.+0.j,  0.-0.j, -0.+0.j,  0.+0.j, -0.+0.j,\n",
       "        -0.+0.j,  0.-0.j],\n",
       "       [-0.+0.j,  0.+0.j,  1.+0.j,  0.-0.j,  0.+0.j,  0.-0.j,  0.+0.j,\n",
       "         0.-0.j,  0.+0.j,  0.+0.j, -0.-0.j, -0.+0.j, -0.-0.j, -0.+0.j,\n",
       "         0.+0.j,  0.-0.j],\n",
       "       [ 0.-0.j,  0.+0.j,  0.+0.j,  1.-0.j,  0.-0.j,  0.-0.j, -0.-0.j,\n",
       "         0.-0.j, -0.+0.j, -0.+0.j,  0.-0.j,  0.+0.j, -0.+0.j,  0.+0.j,\n",
       "        -0.+0.j,  0.-0.j],\n",
       "       [-0.-0.j, -0.+0.j,  0.-0.j,  0.+0.j,  1.+0.j, -0.+0.j, -0.-0.j,\n",
       "         0.-0.j,  0.-0.j, -0.+0.j,  0.-0.j, -0.+0.j,  0.-0.j,  0.-0.j,\n",
       "         0.+0.j,  0.-0.j],\n",
       "       [ 0.+0.j, -0.+0.j,  0.+0.j,  0.+0.j, -0.-0.j,  1.-0.j,  0.-0.j,\n",
       "        -0.+0.j, -0.-0.j, -0.+0.j, -0.+0.j,  0.+0.j,  0.-0.j, -0.-0.j,\n",
       "         0.-0.j,  0.-0.j],\n",
       "       [ 0.+0.j,  0.+0.j,  0.-0.j, -0.+0.j, -0.+0.j,  0.+0.j,  1.+0.j,\n",
       "        -0.+0.j, -0.-0.j,  0.+0.j,  0.+0.j,  0.+0.j,  0.-0.j, -0.-0.j,\n",
       "        -0.+0.j,  0.+0.j],\n",
       "       [ 0.+0.j,  0.+0.j,  0.+0.j,  0.+0.j,  0.+0.j, -0.-0.j, -0.-0.j,\n",
       "         1.-0.j, -0.+0.j, -0.-0.j,  0.-0.j, -0.-0.j,  0.-0.j,  0.+0.j,\n",
       "         0.+0.j, -0.-0.j],\n",
       "       [-0.+0.j,  0.+0.j,  0.-0.j, -0.-0.j,  0.+0.j, -0.+0.j, -0.+0.j,\n",
       "        -0.-0.j,  1.+0.j,  0.-0.j, -0.-0.j, -0.+0.j,  0.-0.j, -0.+0.j,\n",
       "         0.+0.j,  0.-0.j],\n",
       "       [ 0.+0.j,  0.-0.j,  0.-0.j, -0.-0.j, -0.-0.j, -0.-0.j,  0.-0.j,\n",
       "        -0.+0.j,  0.+0.j,  1.+0.j, -0.+0.j,  0.+0.j,  0.-0.j, -0.+0.j,\n",
       "         0.-0.j, -0.-0.j],\n",
       "       [-0.-0.j,  0.+0.j, -0.+0.j,  0.+0.j,  0.+0.j, -0.-0.j,  0.-0.j,\n",
       "         0.+0.j, -0.+0.j, -0.-0.j,  1.-0.j, -0.-0.j,  0.-0.j,  0.+0.j,\n",
       "        -0.-0.j,  0.+0.j],\n",
       "       [ 0.+0.j, -0.-0.j, -0.-0.j,  0.-0.j, -0.-0.j,  0.-0.j,  0.-0.j,\n",
       "        -0.+0.j, -0.-0.j,  0.-0.j, -0.+0.j,  1.+0.j,  0.+0.j, -0.-0.j,\n",
       "         0.-0.j, -0.-0.j],\n",
       "       [ 0.+0.j,  0.-0.j, -0.+0.j, -0.-0.j,  0.+0.j,  0.+0.j,  0.+0.j,\n",
       "         0.+0.j,  0.+0.j,  0.+0.j,  0.+0.j,  0.-0.j,  1.-0.j,  0.+0.j,\n",
       "         0.+0.j,  0.+0.j],\n",
       "       [-0.-0.j, -0.-0.j, -0.-0.j,  0.-0.j,  0.+0.j, -0.+0.j, -0.+0.j,\n",
       "         0.-0.j, -0.-0.j, -0.-0.j,  0.-0.j, -0.+0.j,  0.-0.j,  1.+0.j,\n",
       "         0.-0.j, -0.+0.j],\n",
       "       [ 0.+0.j, -0.-0.j,  0.-0.j, -0.-0.j,  0.-0.j,  0.+0.j, -0.-0.j,\n",
       "         0.-0.j,  0.-0.j,  0.+0.j, -0.+0.j,  0.+0.j,  0.-0.j,  0.+0.j,\n",
       "         1.+0.j,  0.-0.j],\n",
       "       [-0.-0.j,  0.+0.j,  0.+0.j,  0.+0.j,  0.+0.j,  0.+0.j,  0.-0.j,\n",
       "        -0.+0.j,  0.+0.j, -0.+0.j,  0.-0.j, -0.+0.j,  0.-0.j, -0.-0.j,\n",
       "         0.+0.j,  1.+0.j]])"
      ]
     },
     "execution_count": 1056,
     "metadata": {},
     "output_type": "execute_result"
    }
   ],
   "source": [
    "Unitary(T).conjugate().transpose() @ Unitary(T)"
   ]
  },
  {
   "cell_type": "code",
   "execution_count": 1057,
   "metadata": {},
   "outputs": [
    {
     "name": "stdout",
     "output_type": "stream",
     "text": [
      "[np.complex128(-284000.00000000023+0j), np.complex128(93185.60243925783-7.275957614183426e-12j), np.complex128(616211.3158289231-1.0913936421275139e-11j), np.complex128(914210.1522052698-1.0913936421275139e-11j), np.complex128(1567530.5235730442-1.4551915228366852e-11j), np.complex128(1948569.0306371832-7.275957614183426e-11j), np.complex128(2485281.719870838-1.4551915228366852e-11j), np.complex128(2981355.8693288765-7.275957614183426e-11j), np.complex128(3477962.1570785427+8.731149137020111e-11j), np.complex128(4006083.939157906+1.4551915228366852e-10j), np.complex128(4452772.348305562+7.275957614183426e-12j), np.complex128(4928092.572558433+2.9103830456733704e-11j), np.complex128(5525062.706419351+5.820766091346741e-11j), np.complex128(5980803.881760877+0j), np.complex128(6521935.097719301-2.9103830456733704e-10j), np.complex128(7020154.169101396-8.731149137020111e-11j), np.complex128(7497629.46374778+2.0372681319713593e-10j), np.complex128(8011884.145992679+4.0745362639427185e-10j), np.complex128(8537331.578290684+5.820766091346741e-11j), np.complex128(9020400.531015566+5.820766091346741e-11j), np.complex128(9487524.385662127-1.1641532182693481e-10j), np.complex128(10053707.181167081-6.402842700481415e-10j), np.complex128(10497520.488083005+5.820766091346741e-10j), np.complex128(11020047.786869913-1.1641532182693481e-10j), np.complex128(11485320.557052393-3.4924596548080444e-10j), np.complex128(12085918.517137676-5.820766091346741e-11j), np.complex128(12493806.350873327-2.3283064365386963e-10j), np.complex128(13025496.26792161+4.656612873077393e-10j), np.complex128(13455120.02362523+2.0372681319713593e-10j), np.complex128(14065371.851738684-4.0745362639427185e-10j), np.complex128(14520616.30988611-6.984919309616089e-10j), np.complex128(15128624.481166862+7.566995918750763e-10j), np.complex128(15564326.880886568+2.3283064365386963e-10j), np.complex128(16034044.104932839+4.656612873077393e-10j), np.complex128(16542337.234461369-2.3283064365386963e-10j), np.complex128(17097707.50875112+0j), np.complex128(17562918.925339825-2.3283064365386963e-10j), np.complex128(18071543.238066927+5.820766091346741e-11j), np.complex128(18555739.774452087+3.4924596548080444e-10j), np.complex128(19097976.72543203+1.1641532182693481e-10j), np.complex128(19538628.36456188+4.656612873077393e-10j), np.complex128(20061469.34144911-2.3283064365386963e-10j), np.complex128(20642871.23257934+6.402842700481415e-10j), np.complex128(21082072.20586261+4.656612873077393e-10j), np.complex128(21603602.46804043+2.3283064365386963e-10j), np.complex128(22105666.500704356-4.656612873077393e-10j), np.complex128(22635701.19022063-4.656612873077393e-10j), np.complex128(23082963.76295246-4.656612873077393e-10j), np.complex128(23605073.5767665+5.820766091346741e-10j), np.complex128(24065917.402790293-4.656612873077393e-10j), np.complex128(24559832.99756153+2.3283064365386963e-10j), np.complex128(25059159.146029048+1.1641532182693481e-10j), np.complex128(25655571.332082137+0j), np.complex128(26059015.963096425+6.984919309616089e-10j), np.complex128(26571935.801728398+5.820766091346741e-10j), np.complex128(27119484.54993178+1.1641532182693481e-10j), np.complex128(27588676.112808034+0j), np.complex128(28100263.512843452+4.656612873077393e-10j), np.complex128(28624582.99275826+3.4924596548080444e-10j), np.complex128(29172159.657249894+9.313225746154785e-10j), np.complex128(29632687.443347834+9.313225746154785e-10j), np.complex128(30185271.585357737+6.984919309616089e-10j), np.complex128(30651291.804150563-1.3969838619232178e-09j), np.complex128(31137209.00896965+0j), np.complex128(31619635.80603944+0j), np.complex128(32184630.3677051-2.3283064365386963e-10j), np.complex128(32712558.892591264+1.862645149230957e-09j), np.complex128(33199387.733813137+0j), np.complex128(33614896.37972464+1.7462298274040222e-10j), np.complex128(34133590.55071511+4.656612873077393e-10j), np.complex128(34690925.07844299+4.656612873077393e-10j), np.complex128(35207985.470034346+9.313225746154785e-10j), np.complex128(35732250.92077827-2.3283064365386963e-10j), np.complex128(36186403.43009705-1.3969838619232178e-09j), np.complex128(36624182.072551385+1.3969838619232178e-09j), np.complex128(37229156.881029025-1.3969838619232178e-09j), np.complex128(37720725.09335767-1.0477378964424133e-09j), np.complex128(38178882.41498856-1.862645149230957e-09j), np.complex128(38685704.27742861+5.820766091346741e-10j), np.complex128(39200827.72905566+6.984919309616089e-10j), np.complex128(39695309.36096653-4.656612873077393e-10j), np.complex128(40194632.27830214+9.313225746154785e-10j), np.complex128(40732816.67090191+0j), np.complex128(41210355.082355104+4.656612873077393e-10j), np.complex128(41767314.987122044-4.656612873077393e-10j), np.complex128(42240822.58137904+0j), np.complex128(42717881.353732176-2.3283064365386963e-09j), np.complex128(43240827.95859325-4.656612873077393e-10j), np.complex128(43706466.767057374-4.656612873077393e-10j), np.complex128(44254436.12728347+0j), np.complex128(44744168.47157006+9.313225746154785e-10j), np.complex128(45266016.35828218-6.984919309616089e-10j), np.complex128(45768805.21770431+6.984919309616089e-10j), np.complex128(46239332.51447904+9.313225746154785e-10j), np.complex128(46789400.15878792-2.3283064365386963e-10j), np.complex128(47281041.16685155-6.984919309616089e-10j), np.complex128(47724672.51754893-2.3283064365386963e-09j), np.complex128(48265624.37184116+4.656612873077393e-10j), np.complex128(48807266.34832324-9.313225746154785e-10j), np.complex128(49290189.45999657+0j)]\n",
      "[ 0.25+0.j -0.25+0.j -0.25+0.j  0.25+0.j -0.25+0.j  0.25+0.j  0.25+0.j\n",
      " -0.25+0.j -0.25+0.j  0.25+0.j  0.25+0.j -0.25+0.j  0.25+0.j -0.25+0.j\n",
      " -0.25+0.j  0.25+0.j]\n",
      "[-0.29 +0.158j  0.034-0.031j  0.264-0.091j -0.166+0.005j  0.289-0.099j\n",
      " -0.288+0.082j -0.111+0.113j  0.358-0.095j  0.15 -0.022j -0.28 +0.162j\n",
      " -0.292+0.189j  0.3  -0.156j  0.043-0.142j -0.086-0.075j -0.17 -0.071j\n",
      " -0.063+0.053j]\n",
      "[ 0.186+0.134j -0.183-0.183j -0.077-0.134j  0.129+0.207j -0.185-0.185j\n",
      "  0.01 +0.228j  0.037+0.26j  -0.187-0.29j  -0.046-0.159j  0.045+0.256j\n",
      "  0.189+0.283j -0.078-0.356j  0.038-0.185j -0.185+0.053j -0.221-0.131j\n",
      "  0.062-0.047j]\n",
      "[ 0.02 -0.057j  0.151+0.115j -0.003-0.027j -0.027-0.05j  -0.082-0.277j\n",
      "  0.022+0.036j  0.178+0.029j -0.055-0.234j -0.103+0.078j -0.192+0.67j\n",
      "  0.116-0.305j -0.065-0.048j -0.084+0.198j -0.102+0.156j -0.232-0.063j\n",
      " -0.063-0.151j]\n",
      "[ 0.012+0.273j  0.089-0.233j -0.141-0.127j -0.086+0.077j -0.31 -0.047j\n",
      "  0.204+0.161j  0.159+0.189j -0.237-0.171j -0.06 -0.173j -0.357+0.126j\n",
      " -0.024+0.276j  0.027-0.231j -0.169+0.158j  0.179+0.137j  0.066-0.232j\n",
      " -0.158-0.085j]\n",
      "[ 0.215-0.063j -0.109-0.173j -0.014+0.111j -0.057-0.191j  0.168+0.156j\n",
      " -0.227+0.09j   0.194-0.067j  0.249-0.13j  -0.041-0.158j -0.205-0.417j\n",
      "  0.368+0.07j  -0.165+0.009j  0.197-0.135j -0.182+0.129j -0.1  +0.221j\n",
      "  0.216-0.01j ]\n",
      "[ 0.086+0.016j -0.199+0.117j  0.051+0.07j   0.135-0.169j -0.028+0.24j\n",
      "  0.003-0.189j  0.208-0.057j  0.316+0.087j -0.183-0.163j  0.282+0.097j\n",
      "  0.072+0.4j   -0.055-0.326j  0.181-0.153j  0.051+0.216j  0.187+0.138j\n",
      "  0.193+0.128j]\n",
      "[-0.19 +0.032j  0.252+0.017j -0.044+0.175j  0.16 +0.09j   0.166-0.203j\n",
      " -0.082+0.093j  0.237+0.061j -0.306-0.132j  0.028-0.203j  0.223+0.32j\n",
      " -0.335-0.115j  0.173+0.061j -0.128+0.199j -0.225+0.02j   0.097+0.23j\n",
      " -0.229-0.054j]\n",
      "[ 0.074-0.032j -0.193+0.17j  -0.018+0.155j -0.114+0.188j  0.08 -0.217j\n",
      " -0.133-0.225j  0.165+0.126j  0.219+0.221j  0.196-0.054j  0.047-0.367j\n",
      " -0.174+0.303j  0.173-0.167j  0.01 +0.24j   0.01 +0.24j  -0.233-0.083j\n",
      "  0.016+0.243j]\n",
      "[ 0.166-0.068j -0.218-0.089j  0.065+0.27j  -0.027-0.238j  0.16 +0.164j\n",
      " -0.043+0.128j  0.154+0.162j  0.064+0.382j  0.06 +0.21j  -0.085-0.251j\n",
      " -0.039-0.25j   0.095+0.302j -0.185-0.16j  -0.24 +0.012j  0.061+0.232j\n",
      "  0.201+0.095j]\n",
      "[-0.001+0.062j -0.244+0.047j -0.099-0.133j -0.045+0.22j   0.076-0.226j\n",
      "  0.171+0.023j  0.201+0.12j   0.325+0.238j -0.178+0.155j  0.279-0.033j\n",
      "  0.036-0.315j -0.061+0.302j -0.222+0.092j  0.032+0.231j  0.142+0.196j\n",
      "  0.216+0.069j]\n",
      "[-0.141-0.122j  0.175+0.184j -0.097+0.132j  0.2  -0.02j   0.12 -0.225j\n",
      "  0.123-0.14j   0.224-0.062j  0.21 -0.316j -0.193-0.018j -0.26 +0.082j\n",
      " -0.325+0.011j  0.294-0.026j -0.043-0.238j -0.219+0.096j -0.173+0.172j\n",
      "  0.145+0.186j]\n",
      "[ 0.119-0.166j -0.229-0.067j -0.012+0.219j  0.111-0.207j  0.114+0.226j\n",
      " -0.075-0.184j  0.009-0.236j -0.282-0.208j -0.22 -0.09j   0.07 +0.287j\n",
      "  0.255-0.103j -0.24 +0.062j -0.238+0.056j  0.168+0.165j  0.183-0.159j\n",
      " -0.017+0.246j]\n",
      "[-0.123-0.043j -0.074-0.232j  0.184+0.038j  0.119-0.178j  0.182-0.197j\n",
      " -0.197+0.04j  -0.214+0.083j -0.314+0.183j -0.223-0.05j   0.161+0.197j\n",
      "  0.262+0.164j -0.275-0.166j -0.122-0.206j -0.077+0.222j -0.091-0.233j\n",
      " -0.233-0.002j]\n",
      "[ 0.247-0.035j -0.201-0.14j  -0.049-0.199j  0.226+0.029j  0.194-0.158j\n",
      "  0.14 +0.158j  0.243+0.053j -0.045+0.308j -0.198+0.134j -0.074+0.294j\n",
      "  0.264-0.088j -0.216+0.04j  -0.116+0.218j  0.233-0.046j  0.039-0.239j\n",
      "  0.085-0.244j]\n",
      "[-0.129+0.191j  0.031+0.246j -0.019+0.2j   -0.142+0.163j  0.002+0.259j\n",
      "  0.013-0.25j  -0.228-0.075j -0.104+0.283j  0.115+0.198j -0.197-0.158j\n",
      " -0.285-0.039j  0.266+0.109j -0.234+0.071j  0.178+0.163j  0.138+0.205j\n",
      "  0.129+0.206j]\n",
      "[-0.194-0.05j  -0.183-0.164j -0.145-0.136j  0.148-0.175j  0.233-0.103j\n",
      "  0.047+0.218j  0.249-0.069j -0.301+0.105j  0.137-0.178j  0.19 +0.208j\n",
      "  0.151-0.249j -0.192+0.192j  0.237+0.051j -0.001-0.244j  0.107-0.22j\n",
      " -0.192-0.147j]\n",
      "[-0.196-0.107j -0.03 -0.229j -0.016-0.208j -0.233-0.034j  0.238-0.071j\n",
      " -0.175-0.115j -0.021+0.251j -0.048-0.287j -0.209+0.115j  0.1  -0.242j\n",
      "  0.197-0.229j -0.213+0.202j  0.219+0.109j  0.157-0.182j  0.034-0.246j\n",
      "  0.224+0.113j]\n",
      "[-0.264-0.111j -0.209-0.113j -0.139-0.142j -0.153+0.168j -0.085+0.24j\n",
      "  0.113-0.206j -0.237+0.03j   0.118+0.243j  0.197-0.127j -0.081-0.253j\n",
      " -0.203-0.203j  0.168+0.188j -0.222-0.107j -0.235+0.064j  0.249+0.019j\n",
      " -0.183-0.182j]\n",
      "[-0.204+0.103j  0.088+0.228j  0.039+0.208j -0.168+0.169j  0.246-0.017j\n",
      "  0.214-0.071j -0.196-0.147j  0.021-0.284j -0.018+0.228j -0.023-0.281j\n",
      "  0.243+0.157j -0.244-0.104j -0.239-0.046j -0.237-0.069j -0.243-0.06j\n",
      "  0.034+0.254j]\n",
      "[-0.14 +0.22j  -0.249-0.042j -0.207-0.117j -0.226-0.061j  0.247-0.005j\n",
      "  0.212-0.132j -0.164-0.163j -0.269-0.039j -0.232-0.041j  0.269-0.063j\n",
      " -0.067+0.267j  0.015-0.242j  0.233-0.079j  0.18 +0.162j -0.147+0.199j\n",
      "  0.195-0.148j]\n",
      "[ 0.103+0.221j -0.189-0.152j -0.21 -0.172j  0.186-0.158j -0.124+0.21j\n",
      " -0.032-0.231j -0.229-0.058j -0.25 +0.115j -0.101-0.222j -0.201+0.179j\n",
      "  0.096+0.241j -0.094-0.235j  0.116-0.219j  0.13 +0.211j -0.235+0.069j\n",
      " -0.183-0.155j]\n",
      "[ 0.248-0.021j -0.223+0.113j -0.164+0.216j -0.184+0.144j  0.247+0.012j\n",
      " -0.159+0.147j -0.149+0.177j -0.285+0.042j -0.041-0.227j  0.248-0.084j\n",
      "  0.073-0.255j -0.085+0.255j  0.125+0.214j -0.074-0.234j  0.139-0.206j\n",
      " -0.182+0.148j]\n",
      "[ 0.081-0.229j  0.242-0.017j  0.069-0.224j  0.212+0.105j  0.247+0.014j\n",
      "  0.203-0.111j  0.207+0.137j -0.038-0.28j  -0.117-0.204j -0.116-0.267j\n",
      "  0.17 +0.194j -0.148-0.202j  0.24 -0.059j -0.048-0.24j  -0.247-0.034j\n",
      "  0.045+0.247j]\n",
      "[-0.214-0.091j -0.037+0.236j  0.228-0.084j  0.205-0.128j -0.124+0.213j\n",
      " -0.059+0.233j -0.064-0.239j  0.194+0.184j -0.233-0.008j -0.229-0.167j\n",
      "  0.092+0.263j -0.075-0.246j  0.054+0.239j  0.042+0.24j  -0.248+0.026j\n",
      "  0.185+0.161j]\n",
      "[-0.112+0.202j -0.089+0.223j  0.042-0.234j  0.216-0.107j  0.253-0.011j\n",
      " -0.232+0.026j  0.02 +0.249j -0.129-0.235j  0.023+0.236j -0.128-0.236j\n",
      "  0.271-0.051j -0.255+0.061j  0.223-0.102j  0.062+0.237j -0.023-0.249j\n",
      "  0.239+0.091j]\n",
      "[ 0.178+0.166j  0.205+0.134j -0.099+0.201j  0.184+0.149j  0.251-0.019j\n",
      " -0.201-0.107j -0.118-0.217j -0.225+0.138j  0.142-0.191j  0.262-0.115j\n",
      " -0.276+0.056j  0.26 -0.027j  0.193+0.153j -0.104-0.222j -0.037+0.247j\n",
      "  0.231+0.082j]\n",
      "[ 0.153-0.195j -0.189-0.151j -0.237-0.031j -0.23 +0.06j  -0.085+0.235j\n",
      " -0.231+0.018j  0.251-0.009j -0.1  +0.255j -0.16 +0.179j -0.162+0.224j\n",
      " -0.126-0.24j   0.125+0.217j -0.015-0.248j -0.159-0.19j   0.199+0.146j\n",
      "  0.186+0.154j]\n",
      "[-0.176-0.204j  0.158-0.187j -0.201+0.114j  0.238-0.036j  0.239-0.078j\n",
      "  0.032+0.226j  0.05 +0.239j -0.186+0.202j  0.038-0.232j  0.263-0.087j\n",
      " -0.218-0.166j  0.181+0.161j  0.122-0.214j  0.216+0.111j  0.055+0.24j\n",
      "  0.042+0.239j]\n",
      "[-0.186+0.159j  0.147-0.192j  0.243+0.017j -0.128-0.204j  0.223-0.11j\n",
      "  0.144-0.194j -0.146+0.199j -0.201-0.184j  0.22 +0.1j   -0.071-0.267j\n",
      "  0.004+0.267j -0.004-0.237j -0.188+0.163j  0.246+0.003j -0.184-0.168j\n",
      " -0.186+0.162j]\n",
      "[ 0.097+0.221j -0.211-0.13j  -0.066+0.234j -0.241-0.032j  0.023+0.243j\n",
      " -0.083+0.224j -0.181+0.168j  0.259+0.049j -0.013+0.241j -0.174-0.187j\n",
      " -0.202-0.163j  0.204+0.187j -0.198+0.145j -0.204+0.135j -0.084+0.235j\n",
      " -0.195-0.162j]\n",
      "[ 0.233-0.082j  0.228+0.091j -0.002+0.251j -0.237-0.067j  0.17 -0.182j\n",
      " -0.19 -0.129j -0.088+0.227j -0.219-0.153j -0.135+0.207j -0.031-0.25j\n",
      " -0.106-0.238j  0.111+0.244j  0.169-0.182j -0.077+0.236j -0.049+0.243j\n",
      "  0.191-0.155j]\n",
      "[-0.044-0.249j -0.028+0.248j  0.181-0.164j -0.023-0.244j  0.127-0.214j\n",
      " -0.026-0.244j  0.156+0.188j -0.142+0.21j  -0.098+0.221j  0.273-0.01j\n",
      " -0.263+0.033j  0.244-0.041j  0.078-0.234j -0.111-0.222j -0.238-0.074j\n",
      "  0.039+0.241j]\n",
      "[-0.229-0.009j  0.057+0.243j  0.097+0.215j  0.199+0.136j  0.17 +0.185j\n",
      " -0.054-0.245j  0.172-0.181j -0.028+0.25j   0.101+0.221j -0.246+0.122j\n",
      "  0.271-0.003j -0.261+0.012j  0.09 +0.229j -0.237-0.054j  0.203+0.145j\n",
      " -0.188-0.16j ]\n",
      "[-0.074+0.249j  0.203-0.14j   0.105+0.193j -0.17 -0.175j  0.01 -0.249j\n",
      " -0.227-0.076j -0.246-0.012j -0.164+0.207j  0.223-0.094j  0.262+0.034j\n",
      "  0.068+0.267j -0.071-0.24j   0.238+0.063j  0.18 -0.168j  0.23 -0.097j\n",
      "  0.24 +0.078j]\n",
      "[ 0.202+0.162j -0.125+0.212j  0.119-0.211j -0.112+0.218j -0.068-0.24j\n",
      "  0.061+0.244j  0.242+0.058j -0.202-0.16j  -0.207-0.132j  0.068-0.26j\n",
      "  0.153+0.205j -0.146-0.193j -0.144+0.203j -0.062-0.238j  0.229+0.096j\n",
      " -0.233-0.072j]\n",
      "[ 0.226-0.122j -0.247+0.008j  0.085+0.23j   0.083+0.228j  0.249-0.012j\n",
      " -0.047-0.245j -0.244+0.045j  0.252+0.063j  0.159+0.185j -0.029-0.252j\n",
      "  0.098-0.238j -0.075+0.247j  0.184+0.165j  0.244+0.035j -0.246+0.036j\n",
      "  0.199+0.144j]\n",
      "[-0.009-0.232j -0.206+0.142j  0.068+0.231j  0.032+0.243j -0.2  -0.146j\n",
      "  0.214+0.123j  0.08 -0.235j -0.158-0.208j -0.224-0.096j  0.132-0.231j\n",
      "  0.117+0.241j -0.12 -0.233j -0.138+0.206j  0.101-0.223j  0.107+0.226j\n",
      " -0.063-0.235j]\n",
      "[-0.215-0.106j  0.234+0.073j  0.205-0.14j  -0.226+0.097j -0.239-0.068j\n",
      " -0.041+0.238j  0.239+0.056j -0.228+0.136j  0.19 -0.156j  0.204+0.161j\n",
      " -0.011+0.261j  0.001-0.263j  0.243+0.047j  0.202+0.141j  0.124+0.215j\n",
      " -0.164+0.184j]\n",
      "[-0.205+0.139j -0.22 +0.098j -0.041+0.234j  0.092-0.23j   0.099-0.231j\n",
      " -0.105+0.209j  0.12 +0.212j -0.172+0.205j  0.189+0.152j -0.254-0.086j\n",
      "  0.243+0.109j -0.235-0.088j  0.11 +0.222j  0.161-0.188j -0.235+0.086j\n",
      "  0.218+0.124j]\n",
      "[-0.039+0.252j -0.234-0.087j -0.104+0.215j -0.144+0.196j -0.214+0.124j\n",
      "  0.069+0.233j  0.071+0.237j -0.251+0.043j  0.05 +0.235j  0.145+0.227j\n",
      " -0.238-0.114j  0.223+0.121j  0.049-0.244j  0.187+0.159j  0.249+0.011j\n",
      "  0.155-0.195j]\n",
      "[ 0.18 +0.18j  -0.216+0.125j  0.225+0.082j  0.228+0.093j -0.139+0.205j\n",
      "  0.22 -0.088j  0.155+0.193j  0.036-0.256j  0.044+0.24j   0.238-0.092j\n",
      "  0.1  -0.246j -0.091+0.247j  0.141-0.203j  0.137-0.204j  0.158-0.193j\n",
      " -0.101-0.226j]\n",
      "[ 0.247-0.j     0.246+0.026j -0.237+0.074j  0.23 -0.089j -0.199-0.149j\n",
      " -0.241-0.017j  0.246-0.04j   0.027+0.258j  0.184+0.16j   0.195-0.169j\n",
      "  0.001-0.256j -0.003+0.259j -0.172+0.18j   0.231+0.094j  0.249-0.002j\n",
      " -0.227-0.098j]\n",
      "[ 0.18 -0.154j -0.155+0.196j -0.234-0.05j   0.246-0.015j  0.09 +0.233j\n",
      "  0.21 -0.113j -0.056-0.238j  0.176-0.203j  0.191-0.149j  0.267-0.016j\n",
      " -0.228+0.13j   0.218-0.136j -0.151+0.196j  0.018-0.246j -0.221+0.115j\n",
      " -0.251+0.005j]\n",
      "[ 0.059-0.245j -0.226+0.1j   -0.054+0.253j  0.066+0.236j  0.194+0.154j\n",
      "  0.116+0.222j -0.142+0.201j -0.127-0.215j -0.221-0.102j -0.04 +0.263j\n",
      "  0.061-0.25j  -0.063+0.233j  0.072-0.238j  0.235-0.083j  0.162+0.189j\n",
      " -0.244+0.019j]\n",
      "[-0.074-0.245j -0.001+0.246j -0.061-0.224j -0.203-0.138j -0.152+0.197j\n",
      " -0.029+0.252j  0.189-0.158j -0.161-0.199j  0.158+0.191j -0.054-0.249j\n",
      "  0.19 -0.183j -0.191+0.172j -0.078-0.237j -0.184-0.165j  0.159+0.192j\n",
      " -0.24 -0.05j ]\n",
      "[-0.185-0.187j  0.088-0.232j  0.1  -0.21j   0.145+0.2j    0.226-0.106j\n",
      "  0.059+0.242j -0.112+0.225j  0.074-0.238j -0.197-0.137j -0.129+0.227j\n",
      " -0.1  -0.249j  0.096+0.223j  0.231+0.093j  0.031-0.246j -0.223+0.109j\n",
      " -0.17 -0.184j]\n",
      "[-0.236-0.079j  0.197+0.147j -0.2  -0.136j  0.17 -0.178j  0.128-0.213j\n",
      "  0.244-0.014j -0.129-0.212j  0.194+0.167j  0.232-0.082j  0.193+0.167j\n",
      "  0.07 +0.249j -0.079-0.255j  0.182-0.168j -0.207+0.138j  0.25 +0.007j\n",
      "  0.054-0.241j]\n",
      "[-0.25 +0.008j  0.164+0.186j  0.246+0.058j  0.019-0.246j  0.225+0.107j\n",
      " -0.179-0.159j  0.202-0.144j -0.194-0.173j  0.093+0.226j  0.243+0.104j\n",
      " -0.239+0.094j  0.227-0.093j  0.13 +0.211j -0.245-0.042j  0.169-0.183j\n",
      "  0.247-0.006j]\n",
      "[-0.246+0.074j  0.208-0.137j  0.133+0.206j  0.11 -0.22j  -0.166-0.186j\n",
      "  0.216+0.114j  0.239+0.058j -0.039+0.255j -0.107+0.216j  0.11 +0.234j\n",
      " -0.2  +0.172j  0.189-0.162j  0.202-0.145j  0.166+0.181j  0.248+0.03j\n",
      " -0.013+0.248j]\n",
      "[-0.217+0.11j  -0.212+0.116j  0.239-0.05j   0.233+0.082j -0.244-0.043j\n",
      " -0.198+0.154j  0.214+0.118j  0.182+0.177j -0.142+0.197j -0.26 +0.051j\n",
      "  0.249+0.093j -0.241-0.088j  0.202+0.145j  0.046+0.244j -0.241+0.065j\n",
      " -0.22 -0.114j]\n",
      "[-0.227+0.134j -0.115-0.217j -0.218+0.08j  -0.236+0.074j -0.001-0.249j\n",
      " -0.241-0.07j   0.247+0.027j  0.175+0.185j -0.024+0.243j  0.232-0.125j\n",
      " -0.241+0.106j  0.225-0.094j  0.012-0.248j  0.069-0.237j  0.099+0.228j\n",
      "  0.234-0.079j]\n",
      "[-0.222+0.13j  -0.125-0.21j  -0.193-0.137j  0.246+0.03j  -0.077+0.236j\n",
      " -0.239-0.058j  0.159-0.191j -0.103+0.236j  0.223+0.112j -0.243-0.066j\n",
      " -0.258-0.049j  0.248+0.054j  0.176-0.176j  0.152-0.198j  0.08 +0.236j\n",
      " -0.178+0.171j]\n",
      "[-0.228+0.13j  -0.188+0.153j -0.206+0.114j  0.009-0.247j  0.104+0.226j\n",
      " -0.165+0.187j -0.199-0.145j -0.124-0.226j  0.043-0.245j -0.121+0.222j\n",
      " -0.142+0.218j  0.133-0.218j -0.237+0.073j -0.196+0.152j -0.25 +0.001j\n",
      "  0.156-0.189j]\n",
      "[-0.226+0.082j  0.155-0.195j  0.211-0.121j -0.134-0.208j -0.195+0.154j\n",
      "  0.235+0.064j  0.012+0.249j  0.08 +0.248j -0.166+0.18j  -0.059+0.256j\n",
      "  0.173-0.196j -0.172+0.191j -0.248+0.017j -0.218+0.118j  0.211+0.131j\n",
      " -0.197+0.149j]\n",
      "[-0.236+0.042j  0.23 +0.097j  0.208+0.12j  -0.029-0.246j  0.227-0.102j\n",
      " -0.229-0.094j  0.049-0.244j  0.203-0.153j  0.148-0.199j -0.217+0.139j\n",
      "  0.216+0.153j -0.205-0.153j  0.246-0.024j  0.225-0.105j  0.243-0.055j\n",
      "  0.249-0.018j]\n",
      "[-0.236-0.037j  0.248+0.018j  0.224-0.1j    0.243-0.039j  0.079-0.236j\n",
      "  0.221-0.108j  0.039+0.247j  0.042-0.255j  0.035+0.244j -0.087-0.244j\n",
      "  0.249+0.083j -0.245-0.081j  0.23 -0.093j  0.221-0.113j  0.173+0.18j\n",
      " -0.163-0.183j]\n",
      "[-0.222-0.134j -0.085-0.234j -0.23 +0.078j -0.185+0.165j  0.249+0.j\n",
      "  0.17 +0.18j  -0.226-0.101j  0.113-0.223j -0.245+0.009j  0.144+0.217j\n",
      " -0.052-0.254j  0.037+0.244j -0.15 +0.198j -0.203+0.142j -0.219-0.119j\n",
      " -0.128+0.214j]\n",
      "[-0.133-0.212j  0.183+0.168j -0.147-0.194j  0.241-0.055j -0.245-0.042j\n",
      "  0.113+0.219j  0.09 -0.23j   0.249+0.067j -0.141-0.201j  0.045-0.255j\n",
      "  0.205+0.152j -0.205-0.152j  0.037+0.246j -0.164+0.187j -0.104+0.227j\n",
      "  0.208+0.135j]\n",
      "[-0.008-0.245j -0.049+0.243j -0.242-0.024j -0.057-0.241j -0.187+0.165j\n",
      "  0.235+0.089j  0.239-0.072j -0.228+0.102j -0.07 -0.235j -0.232-0.119j\n",
      "  0.075+0.245j -0.075-0.246j -0.231-0.091j  0.09 -0.23j  -0.141+0.207j\n",
      "  0.203-0.145j]\n",
      "[ 0.152-0.204j  0.101+0.227j  0.223+0.088j -0.172-0.18j  -0.226-0.106j\n",
      "  0.053-0.24j   0.245-0.006j  0.255-0.01j  -0.151-0.194j -0.255-0.054j\n",
      "  0.261+0.016j -0.246-0.021j -0.148+0.201j -0.015-0.246j -0.137-0.208j\n",
      "  0.024-0.248j]\n",
      "[ 0.236-0.059j  0.11 -0.223j -0.035+0.243j -0.056-0.241j  0.212+0.128j\n",
      " -0.154+0.195j  0.233-0.09j  -0.025-0.252j -0.244+0.034j -0.132-0.217j\n",
      " -0.254-0.054j  0.254+0.056j -0.198-0.151j  0.141+0.206j -0.015+0.249j\n",
      " -0.099-0.226j]\n",
      "[ 0.218+0.13j   0.073+0.237j  0.123+0.209j  0.243-0.05j   0.225-0.103j\n",
      "  0.036-0.242j  0.056-0.243j -0.158-0.204j  0.067+0.238j  0.247-0.063j\n",
      "  0.042-0.251j -0.039+0.253j -0.098+0.228j  0.235+0.082j  0.149+0.201j\n",
      " -0.132-0.209j]\n",
      "[ 0.035+0.239j -0.107+0.223j -0.036-0.242j -0.192+0.156j  0.196+0.153j\n",
      "  0.245+0.045j -0.244-0.044j -0.036-0.25j   0.107-0.223j -0.224+0.128j\n",
      " -0.034-0.262j  0.036+0.254j -0.248+0.024j -0.228+0.099j -0.112+0.224j\n",
      " -0.095-0.23j ]\n",
      "[-0.184+0.176j  0.109+0.221j  0.246-0.057j  0.245-0.026j -0.193-0.158j\n",
      "  0.174+0.174j  0.109+0.222j  0.258-0.03j  -0.117+0.215j  0.246+0.078j\n",
      " -0.201+0.153j  0.196-0.15j   0.188+0.164j -0.08 +0.236j  0.059-0.242j\n",
      "  0.031-0.245j]\n",
      "[-0.237-0.082j  0.036-0.246j  0.178-0.168j -0.01 -0.247j -0.232+0.09j\n",
      "  0.233+0.088j -0.045-0.244j -0.209+0.14j  -0.032-0.242j  0.146-0.207j\n",
      "  0.052-0.255j -0.056+0.248j  0.074+0.238j -0.145-0.202j -0.242-0.059j\n",
      "  0.21 -0.136j]\n",
      "[-0.036-0.25j   0.192+0.158j -0.239+0.064j -0.116-0.22j  -0.198-0.151j\n",
      "  0.131-0.209j  0.122+0.215j  0.256+0.012j  0.244+0.035j  0.097-0.233j\n",
      "  0.186-0.175j -0.186+0.173j  0.002-0.249j -0.249+0.021j -0.221-0.117j\n",
      "  0.198+0.148j]\n",
      "[ 0.217-0.128j  0.102+0.226j -0.047-0.236j  0.032-0.246j  0.206+0.14j\n",
      " -0.241+0.062j -0.247-0.02j   0.044-0.246j  0.069+0.238j  0.243-0.081j\n",
      " -0.092-0.244j  0.091+0.236j  0.013-0.248j  0.086-0.234j  0.206-0.143j\n",
      " -0.146+0.201j]\n",
      "[ 0.177+0.18j   0.247-0.008j -0.141-0.209j  0.241+0.059j  0.214-0.124j\n",
      "  0.224-0.106j  0.019-0.247j -0.036-0.256j -0.045+0.24j   0.006+0.252j\n",
      "  0.047+0.248j -0.046-0.249j  0.038+0.246j -0.193-0.156j -0.248-0.026j\n",
      " -0.144-0.201j]\n",
      "[-0.146+0.213j -0.237-0.073j -0.011+0.241j -0.244+0.043j  0.227+0.1j\n",
      "  0.024+0.249j  0.209-0.135j  0.145-0.209j  0.009+0.247j -0.054-0.249j\n",
      " -0.247+0.067j  0.244-0.056j  0.144+0.203j  0.196-0.152j -0.217+0.123j\n",
      "  0.247+0.015j]\n",
      "[-0.228-0.116j  0.133-0.212j -0.23 -0.063j  0.219+0.115j -0.239-0.07j\n",
      " -0.184+0.165j  0.24 -0.067j  0.168+0.191j  0.199+0.148j -0.145+0.205j\n",
      " -0.222+0.131j  0.215-0.132j -0.242-0.058j -0.124-0.216j -0.196-0.155j\n",
      " -0.22 +0.119j]\n",
      "[ 0.114-0.223j  0.167-0.185j -0.249+0.008j  0.146-0.201j -0.152+0.198j\n",
      " -0.167+0.181j  0.208-0.138j -0.21 -0.146j  0.147-0.198j  0.146+0.205j\n",
      "  0.216+0.13j  -0.216-0.137j -0.185+0.168j  0.218-0.118j  0.216+0.124j\n",
      "  0.19 -0.162j]\n",
      "[ 0.213+0.128j -0.164-0.19j   0.176+0.168j  0.063-0.24j  -0.249+0.012j\n",
      "  0.07 +0.233j  0.005-0.251j  0.028+0.254j -0.247+0.008j  0.185+0.176j\n",
      " -0.25 +0.052j  0.249-0.048j -0.096-0.229j -0.133-0.211j  0.142-0.206j\n",
      " -0.209+0.136j]\n",
      "[-0.16 +0.197j  0.154+0.194j -0.214+0.11j   0.201-0.145j  0.241-0.063j\n",
      "  0.176-0.174j -0.248-0.006j  0.249+0.065j  0.245+0.04j  -0.011+0.256j\n",
      " -0.232-0.105j  0.228+0.106j -0.238+0.077j  0.184-0.166j  0.199-0.15j\n",
      "  0.246-0.029j]\n",
      "[-0.163-0.191j -0.189+0.159j -0.194+0.146j  0.106+0.224j  0.01 -0.249j\n",
      " -0.198+0.155j  0.143+0.203j  0.249+0.038j -0.234+0.075j -0.233-0.103j\n",
      " -0.19 +0.176j  0.186-0.173j -0.115-0.221j -0.208-0.134j  0.022+0.248j\n",
      " -0.192-0.16j ]\n",
      "[ 0.241-0.09j  -0.178+0.176j  0.228+0.075j -0.172-0.18j   0.183-0.167j\n",
      " -0.002-0.251j -0.073-0.24j   0.11 +0.225j  0.024-0.245j  0.245+0.061j\n",
      "  0.219-0.137j -0.213+0.134j -0.154+0.197j  0.05 -0.244j  0.161-0.19j\n",
      " -0.071+0.236j]\n",
      "[-0.008+0.256j  0.2  +0.147j -0.171+0.173j  0.009+0.248j -0.131+0.212j\n",
      "  0.239-0.077j  0.143+0.204j -0.25 -0.007j  0.244-0.041j -0.113-0.231j\n",
      "  0.146+0.209j -0.144-0.199j -0.249+0.005j -0.241+0.066j  0.039-0.247j\n",
      "  0.244+0.056j]\n",
      "[-0.216-0.119j -0.228-0.096j -0.166+0.181j  0.245+0.046j  0.18 +0.173j\n",
      "  0.244-0.015j -0.248-0.007j  0.255+0.003j  0.222+0.11j  -0.256+0.022j\n",
      "  0.2  +0.163j -0.197-0.161j  0.203+0.144j -0.185-0.166j  0.247-0.037j\n",
      "  0.119-0.218j]\n",
      "[ 0.226-0.12j   0.024-0.246j  0.237+0.061j  0.247-0.025j  0.022+0.249j\n",
      "  0.176-0.175j  0.008-0.248j -0.113-0.228j  0.227+0.099j -0.246+0.066j\n",
      "  0.048-0.251j -0.039+0.245j  0.136+0.209j -0.016+0.249j -0.243+0.056j\n",
      " -0.108-0.223j]\n",
      "[-0.041+0.251j -0.065-0.239j -0.181+0.161j  0.196+0.154j -0.108-0.225j\n",
      " -0.2  -0.145j  0.209-0.138j -0.254-0.035j  0.234-0.083j -0.204-0.156j\n",
      "  0.129+0.22j  -0.129-0.211j -0.109-0.224j -0.189+0.161j  0.014+0.249j\n",
      " -0.216-0.12j ]\n",
      "[-0.158-0.191j -0.189+0.163j -0.195+0.146j -0.198+0.149j -0.238+0.075j\n",
      "  0.128+0.216j  0.242-0.063j -0.245-0.059j -0.046-0.243j  0.217-0.135j\n",
      " -0.024+0.255j  0.016-0.253j -0.137-0.208j  0.249-0.j    -0.083+0.235j\n",
      " -0.24 -0.059j]\n",
      "[ 0.252+0.041j  0.086-0.234j  0.204+0.129j  0.155-0.193j -0.235-0.081j\n",
      " -0.221-0.111j  0.211-0.131j -0.039-0.253j -0.188+0.162j -0.198+0.16j\n",
      "  0.227+0.119j -0.218-0.119j  0.206+0.141j  0.206+0.141j -0.14 -0.206j\n",
      " -0.235-0.077j]\n",
      "[-0.222+0.121j  0.241-0.056j -0.232+0.07j  -0.248+0.021j  0.248-0.024j\n",
      "  0.112-0.223j  0.024-0.249j  0.215+0.134j  0.233-0.087j  0.251+0.057j\n",
      " -0.202-0.156j  0.192+0.155j  0.249-0.011j -0.112-0.222j -0.067+0.241j\n",
      " -0.185-0.17j ]\n",
      "[ 0.114-0.226j  0.158-0.189j -0.249+0.017j -0.052+0.243j -0.008-0.248j\n",
      "  0.219-0.122j -0.246-0.029j -0.177-0.181j -0.194+0.158j  0.144-0.206j\n",
      "  0.143-0.208j -0.145+0.205j -0.147+0.201j -0.017-0.247j  0.048+0.246j\n",
      " -0.015-0.249j]\n",
      "[ 0.007+0.248j -0.249+0.006j  0.07 +0.237j  0.   +0.248j  0.126-0.215j\n",
      "  0.15 -0.201j  0.117+0.219j -0.125+0.218j -0.028-0.246j  0.117-0.222j\n",
      "  0.086-0.238j -0.085+0.243j  0.125+0.216j -0.059+0.243j -0.228+0.103j\n",
      "  0.216-0.126j]\n",
      "[-0.109-0.228j  0.172-0.178j -0.206-0.13j  -0.187+0.164j -0.006+0.25j\n",
      " -0.172-0.182j -0.036-0.246j  0.055+0.245j  0.242-0.055j  0.254-0.041j\n",
      " -0.253+0.038j  0.246-0.04j  -0.233+0.088j -0.106+0.226j  0.228-0.101j\n",
      "  0.149+0.199j]\n",
      "[ 0.175+0.177j  0.247-0.025j -0.15 -0.197j -0.093-0.231j  0.249+0.002j\n",
      "  0.006+0.246j  0.105+0.226j -0.031+0.255j  0.211+0.129j -0.063+0.248j\n",
      "  0.163-0.195j -0.161+0.193j  0.11 +0.224j  0.129-0.214j -0.043-0.246j\n",
      " -0.226+0.1j  ]\n",
      "[-0.208-0.134j  0.131-0.21j  -0.182+0.17j   0.132+0.211j  0.219+0.12j\n",
      " -0.063-0.241j -0.241-0.057j -0.255+0.005j  0.198+0.15j   0.033-0.251j\n",
      "  0.245-0.059j -0.247+0.061j -0.173+0.18j   0.128-0.212j  0.074-0.238j\n",
      "  0.038-0.247j]\n",
      "[ 0.23 +0.095j -0.225+0.106j  0.055-0.24j   0.081-0.235j -0.249+0.021j\n",
      "  0.246+0.016j  0.064-0.24j   0.201-0.155j  0.247+0.014j -0.224+0.123j\n",
      "  0.043-0.254j -0.035+0.25j   0.246+0.039j -0.107+0.225j  0.132+0.212j\n",
      "  0.122+0.217j]\n",
      "[-0.235-0.082j  0.015-0.249j  0.169-0.185j -0.189-0.161j  0.042+0.246j\n",
      "  0.145+0.204j  0.236-0.08j  -0.245+0.054j  0.088-0.233j  0.019+0.25j\n",
      " -0.084+0.238j  0.081-0.242j  0.161+0.191j -0.06 +0.242j  0.095-0.231j\n",
      " -0.184-0.167j]\n",
      "[ 0.23 +0.083j  0.118-0.22j  -0.179-0.169j -0.209-0.135j -0.061+0.241j\n",
      "  0.16 +0.188j  0.25 +0.007j  0.066+0.247j -0.248+0.004j  0.044+0.25j\n",
      " -0.246-0.075j  0.244+0.073j -0.061-0.242j -0.014-0.25j   0.001-0.25j\n",
      "  0.179+0.171j]\n",
      "[-0.227-0.108j -0.161-0.19j   0.241+0.073j -0.018-0.248j -0.101-0.228j\n",
      "  0.241-0.055j  0.241-0.062j  0.179+0.18j   0.22 +0.117j -0.177+0.178j\n",
      " -0.25 -0.005j  0.251+0.003j -0.012-0.249j -0.109-0.224j  0.247-0.037j\n",
      " -0.107-0.227j]\n",
      "[ 0.204+0.152j  0.099+0.229j  0.146+0.194j  0.234+0.084j -0.209+0.137j\n",
      " -0.164-0.189j  0.102-0.228j  0.05 +0.245j -0.236-0.08j  -0.087-0.24j\n",
      "  0.114+0.229j -0.11 -0.221j  0.026+0.248j  0.203+0.145j -0.249+0.016j\n",
      " -0.067+0.24j ]\n",
      "[-0.158-0.198j -0.245+0.044j  0.22 -0.114j -0.241-0.062j -0.242+0.06j\n",
      "  0.151+0.199j -0.222-0.114j -0.248+0.034j  0.215-0.124j  0.107+0.231j\n",
      " -0.234-0.097j  0.231+0.091j  0.1  +0.228j  0.249+0.005j -0.063+0.242j\n",
      "  0.242-0.059j]\n",
      "[ 0.076+0.237j -0.248+0.006j -0.168+0.181j  0.087+0.233j  0.139-0.207j\n",
      " -0.251+0.j     0.026+0.248j  0.216-0.127j  0.116+0.22j   0.132-0.214j\n",
      " -0.134-0.215j  0.132+0.218j -0.207-0.139j -0.194+0.157j -0.181+0.172j\n",
      " -0.101-0.228j]\n",
      "[ 0.023-0.247j -0.016+0.25j  -0.244+0.015j  0.248+0.024j -0.234-0.086j\n",
      " -0.082-0.233j  0.066-0.241j -0.249-0.039j -0.105+0.226j -0.136-0.212j\n",
      " -0.254+0.038j  0.25 -0.038j -0.243+0.058j -0.023+0.248j  0.007-0.249j\n",
      " -0.242+0.06j ]\n",
      "[-0.147+0.203j  0.022-0.247j -0.056+0.24j   0.249+0.011j -0.203-0.144j\n",
      " -0.027-0.25j  -0.002+0.248j -0.085+0.237j -0.158+0.192j -0.154-0.203j\n",
      "  0.253+0.011j -0.252-0.004j  0.064-0.241j -0.179-0.173j -0.217+0.123j\n",
      " -0.067+0.239j]\n",
      "[ 0.237-0.079j  0.249+0.01j   0.005-0.249j  0.124+0.216j  0.245-0.048j\n",
      " -0.19 -0.162j -0.192-0.159j -0.013+0.25j  -0.063+0.24j   0.085-0.24j\n",
      "  0.002+0.254j -0.001-0.25j  -0.219-0.119j -0.243+0.057j -0.17 +0.183j\n",
      "  0.105+0.226j]\n",
      "[-0.231-0.087j  0.248-0.022j  0.198-0.151j -0.249+0.008j -0.122-0.218j\n",
      " -0.121+0.215j  0.17 -0.182j -0.188+0.169j  0.188+0.161j  0.174+0.182j\n",
      "  0.071+0.244j -0.073-0.244j  0.115-0.221j  0.059-0.243j -0.196-0.156j\n",
      "  0.181+0.172j]\n",
      "[ 0.106+0.223j -0.067-0.239j -0.06 -0.241j  0.249-0.011j -0.08 -0.236j\n",
      "  0.197-0.153j  0.245+0.048j -0.102-0.229j  0.115-0.22j  -0.185-0.174j\n",
      "  0.181-0.18j  -0.177+0.179j -0.244-0.051j -0.204-0.143j  0.167+0.185j\n",
      "  0.185+0.168j]\n"
     ]
    }
   ],
   "source": [
    "psi_ini = eigenvecs_H0[:, ground_idx_H0]\n",
    "# print(psi_ini)\n",
    "# print(np.linalg.norm(psi_ini))\n",
    "\n",
    "psi_correct = eigenvecs_Hp[:, ground_idx_Hp]\n",
    "# print(psi_correct)\n",
    "\n",
    "# psi_t_list = []\n",
    "energy_expectation_t_list = []\n",
    "psi_t_list = []\n",
    "\n",
    "for t in t_axis:\n",
    "    psi_t = Unitary(t) @ psi_ini\n",
    "    # print(psi_t)\n",
    "    # print(np.linalg.norm(psi_t))\n",
    "    energy_expectation_t_list.append(psi_t.conjugate().transpose() @ H(t) @ psi_t)\n",
    "    psi_t_list.append(psi_t)\n",
    "\n",
    "print(energy_expectation_t_list)\n",
    "for psi_t in psi_t_list:\n",
    "    print(psi_t, sep=\"\\n\")"
   ]
  },
  {
   "cell_type": "code",
   "execution_count": 1058,
   "metadata": {},
   "outputs": [
    {
     "data": {
      "text/plain": [
       "[<matplotlib.lines.Line2D at 0x14c5f5220>]"
      ]
     },
     "execution_count": 1058,
     "metadata": {},
     "output_type": "execute_result"
    },
    {
     "data": {
      "image/png": "[encoded data removed]",
      "text/plain": [
       "<Figure size 640x480 with 1 Axes>"
      ]
     },
     "metadata": {},
     "output_type": "display_data"
    }
   ],
   "source": [
    "instant_eigenvals = []\n",
    "\n",
    "for t in t_axis:\n",
    "    eigenvals, eigenvecs = np.linalg.eigh(H(t))\n",
    "    instant_eigenvals.append(eigenvals[eigenvals.argsort()[0:5]])\n",
    "\n",
    "# print(instant_eigenvals)\n",
    "plt.plot(t_axis, instant_eigenvals)\n",
    "plt.plot(t_axis, energy_expectation_t_list)"
   ]
  },
  {
   "cell_type": "code",
   "execution_count": null,
   "metadata": {},
   "outputs": [],
   "source": []
  },
  {
   "cell_type": "code",
   "execution_count": null,
   "metadata": {},
   "outputs": [],
   "source": []
  },
  {
   "cell_type": "code",
   "execution_count": null,
   "metadata": {},
   "outputs": [],
   "source": []
  },
  {
   "cell_type": "code",
   "execution_count": null,
   "metadata": {},
   "outputs": [],
   "source": []
  },
  {
   "cell_type": "code",
   "execution_count": null,
   "metadata": {},
   "outputs": [],
   "source": []
  },
  {
   "cell_type": "code",
   "execution_count": 1059,
   "metadata": {},
   "outputs": [],
   "source": [
    "accuracy_list = []\n",
    "beta_list = np.arange(0, 15000, 1)\n",
    "\n",
    "for beta in beta_list:\n",
    "    int_H_T = 0.5 * alpha * T * (beta*H0 + Hp)\n",
    "    U = expm(-1j * int_H_T)\n",
    "\n",
    "    psi_final = U @ psi_ini\n",
    "    # print(psi_final)\n",
    "    # print(psi_final.conjugate().transpose() @ psi_final)\n",
    "    accuracy = np.abs(np.dot(psi_correct, psi_final))**2\n",
    "    # print(accuracy)\n",
    "    accuracy_list.append(accuracy)\n",
    "    \n",
    "accuracy_list = np.array(accuracy_list)"
   ]
  },
  {
   "cell_type": "code",
   "execution_count": 1060,
   "metadata": {},
   "outputs": [
    {
     "data": {
      "text/plain": [
       "Text(0, 0.5, 'accuracy')"
      ]
     },
     "execution_count": 1060,
     "metadata": {},
     "output_type": "execute_result"
    },
    {
     "data": {
      "image/png": "[encoded data removed]",
      "text/plain": [
       "<Figure size 640x480 with 1 Axes>"
      ]
     },
     "metadata": {},
     "output_type": "display_data"
    }
   ],
   "source": [
    "plt.scatter(beta_list, accuracy_list, s=1)\n",
    "plt.xlabel(\"beta\")\n",
    "plt.ylabel(\"accuracy\")"
   ]
  },
  {
   "cell_type": "code",
   "execution_count": 1061,
   "metadata": {},
   "outputs": [
    {
     "data": {
      "text/plain": [
       "np.float64(0.5654802931598533)"
      ]
     },
     "execution_count": 1061,
     "metadata": {},
     "output_type": "execute_result"
    }
   ],
   "source": [
    "max(accuracy_list)"
   ]
  },
  {
   "cell_type": "code",
   "execution_count": 1062,
   "metadata": {},
   "outputs": [
    {
     "data": {
      "text/plain": [
       "np.int64(836)"
      ]
     },
     "execution_count": 1062,
     "metadata": {},
     "output_type": "execute_result"
    }
   ],
   "source": [
    "beta_list[accuracy_list.argmax()]"
   ]
  },
  {
   "cell_type": "code",
   "execution_count": null,
   "metadata": {},
   "outputs": [],
   "source": []
  }
 ],
 "metadata": {
  "kernelspec": {
   "display_name": "env",
   "language": "python",
   "name": "python3"
  },
  "language_info": {
   "codemirror_mode": {
    "name": "ipython",
    "version": 3
   },
   "file_extension": ".py",
   "mimetype": "text/x-python",
   "name": "python",
   "nbconvert_exporter": "python",
   "pygments_lexer": "ipython3",
   "version": "3.12.5"
  }
 },
 "nbformat": 4,
 "nbformat_minor": 2
}
