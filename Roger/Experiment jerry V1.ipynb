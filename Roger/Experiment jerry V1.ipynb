{
 "cells": [
  {
   "cell_type": "markdown",
   "metadata": {},
   "source": [
    "line graph for:\n",
    "\n",
    "T = 100\n",
    "beta = 1\n",
    "gamma = max(V) + 1\n",
    "\n",
    "alpha in [1, 100]\n",
    "dt = 0.01 / alpha"
   ]
  },
  {
   "cell_type": "code",
   "execution_count": 1,
   "metadata": {},
   "outputs": [],
   "source": [
    "import numpy as np\n",
    "from scipy.linalg import expm\n",
    "import scipy\n",
    "import matplotlib.pyplot as plt\n",
    "import time"
   ]
  },
  {
   "cell_type": "code",
   "execution_count": 2,
   "metadata": {},
   "outputs": [],
   "source": [
    "np.set_printoptions(suppress=True)\n",
    "np.set_printoptions(precision=3)"
   ]
  },
  {
   "cell_type": "code",
   "execution_count": 3,
   "metadata": {},
   "outputs": [],
   "source": [
    "sigmaI = np.array(\n",
    "    [\n",
    "        [1, 0],\n",
    "        [0, 1],\n",
    "    ]\n",
    ")\n",
    "sigmaX = np.array(\n",
    "    [\n",
    "        [0, 1],\n",
    "        [1, 0],\n",
    "    ]\n",
    ")\n",
    "sigmaBin = np.array(\n",
    "    [\n",
    "        [0, 0],\n",
    "        [0, 1],\n",
    "    ]\n",
    ")"
   ]
  },
  {
   "cell_type": "code",
   "execution_count": 4,
   "metadata": {},
   "outputs": [],
   "source": [
    "Values = [4, 3]\n",
    "Weights = [2, 2]\n",
    "Ancil = [1, 2]\n",
    "num_dimension = 2**(len(Values) + len(Ancil))\n",
    "\n",
    "alpha = 1e0\n",
    "beta = 1\n",
    "gamma = max(Values) + 1\n",
    "T = 1e1\n",
    "dt = 0.01\n",
    "t_axis = np.arange(0, T, dt)[0:]"
   ]
  },
  {
   "cell_type": "code",
   "execution_count": 5,
   "metadata": {},
   "outputs": [],
   "source": [
    "# Create creation operator\n",
    "a_dag = np.zeros((num_dimension, num_dimension))\n",
    "n_indices = np.arange(num_dimension - 1)\n",
    "a_dag[n_indices + 1, n_indices] = np.sqrt(n_indices + 1)\n",
    "# print(a_dag)\n",
    "\n",
    "# Create annihilation operator\n",
    "a = np.zeros((num_dimension, num_dimension))\n",
    "n_indices = np.arange(1, num_dimension)\n",
    "a[n_indices - 1, n_indices] = np.sqrt(n_indices)\n",
    "# print(a)\n",
    "\n",
    "# print(a_dag @ a)"
   ]
  },
  {
   "cell_type": "code",
   "execution_count": 6,
   "metadata": {},
   "outputs": [
    {
     "name": "stdout",
     "output_type": "stream",
     "text": [
      "-6.630878198393129\n",
      "[-0.     0.    -0.     0.001 -0.004  0.011 -0.026  0.056 -0.106  0.182\n",
      " -0.281  0.389 -0.475  0.5   -0.428  0.25 ]\n"
     ]
    }
   ],
   "source": [
    "H0 = (a_dag + a)\n",
    "# print(H0)\n",
    "\n",
    "eigenvals_H0, eigenvecs_H0 = np.linalg.eigh(H0)\n",
    "ground_idx_H0 = eigenvals_H0.argsort()[0]\n",
    "print(eigenvals_H0[ground_idx_H0])\n",
    "print(eigenvecs_H0[:, ground_idx_H0])"
   ]
  },
  {
   "cell_type": "code",
   "execution_count": 7,
   "metadata": {},
   "outputs": [
    {
     "name": "stdout",
     "output_type": "stream",
     "text": [
      "[-4. -3. -2.  0.  1.  1.  2.  2.  5. 13. 16. 17. 20. 38. 45. 73.]\n",
      "[ 0  1  2  3  4  5  6  7  8  9 10 11 12 13 14 15]\n",
      "-4.0\n",
      "[0. 0. 0. 0. 0. 0. 0. 0. 0. 1. 0. 0. 0. 0. 0. 0.]\n",
      "-3.0\n",
      "[0. 0. 0. 0. 0. 1. 0. 0. 0. 0. 0. 0. 0. 0. 0. 0.]\n"
     ]
    }
   ],
   "source": [
    "eyes = [sigmaI for _ in range(len(Values) + len(Ancil))]\n",
    "profit_matrix = np.zeros((num_dimension, num_dimension))\n",
    "weight_matrix = np.zeros((num_dimension, num_dimension))\n",
    "penalty_matrix = np.zeros((num_dimension, num_dimension))\n",
    "\n",
    "for i in range(len(Values)):\n",
    "    nose = eyes.copy()\n",
    "    nose[i] = sigmaBin\n",
    "    tensorproduct = nose[0]\n",
    "    for sigma in nose[1:]:\n",
    "        tensorproduct = np.kron(tensorproduct, sigma)\n",
    "    profit_matrix += Values[i] * tensorproduct\n",
    "    weight_matrix += Weights[i] * tensorproduct\n",
    "    \n",
    "for j in range(len(Ancil)):\n",
    "    nose = eyes.copy()\n",
    "    nose[j + len(Values)] = sigmaBin\n",
    "    tensorproduct = nose[0]\n",
    "    for sigma in nose[1:]:\n",
    "        tensorproduct = np.kron(tensorproduct, sigma)\n",
    "    penalty_matrix += Ancil[j] * tensorproduct\n",
    "\n",
    "Hp = -profit_matrix + gamma * (weight_matrix - penalty_matrix)**2\n",
    "\n",
    "\n",
    "eigenvals_Hp, eigenvecs_Hp = np.linalg.eigh(Hp)\n",
    "print(eigenvals_Hp)\n",
    "print(eigenvals_Hp.argsort())\n",
    "ground_idx_Hp = eigenvals_Hp.argsort()[0]\n",
    "ground_idx_Hp_degen = eigenvals_Hp.argsort()[1]\n",
    "print(eigenvals_Hp[ground_idx_Hp])\n",
    "print(eigenvecs_Hp[:, ground_idx_Hp])\n",
    "print(eigenvals_Hp[ground_idx_Hp_degen])\n",
    "print(eigenvecs_Hp[:, ground_idx_Hp_degen])\n",
    "\n"
   ]
  },
  {
   "cell_type": "code",
   "execution_count": 8,
   "metadata": {},
   "outputs": [],
   "source": [
    "def H(t, T=1, alpha=1, beta=1):\n",
    "    return alpha * ( (1 - t/T)*beta*H0 + (t/T)*Hp )"
   ]
  },
  {
   "cell_type": "code",
   "execution_count": 9,
   "metadata": {},
   "outputs": [
    {
     "name": "stdout",
     "output_type": "stream",
     "text": [
      "[0. 0. 0. 0. 0. 0. 0. 0. 0. 1. 0. 0. 0. 0. 0. 0.]\n",
      "[0. 0. 0. 0. 0. 0. 0. 0. 0. 0. 0. 0. 0. 0. 0. 0.]\n"
     ]
    }
   ],
   "source": [
    "psi_ini = eigenvecs_H0[:, ground_idx_H0]\n",
    "# print(psi_ini)\n",
    "# print(np.linalg.norm(psi_ini))\n",
    "\n",
    "psi_correct = eigenvecs_Hp[:, ground_idx_Hp]\n",
    "if eigenvals_Hp[ground_idx_Hp] == eigenvals_Hp[ground_idx_Hp_degen]:\n",
    "    psi_correct_degen = eigenvecs_Hp[:, ground_idx_Hp_degen]\n",
    "else:    \n",
    "    psi_correct_degen = np.zeros(eigenvecs_Hp[:, ground_idx_Hp_degen].shape)\n",
    "print(psi_correct)\n",
    "print(psi_correct_degen)"
   ]
  },
  {
   "cell_type": "code",
   "execution_count": 10,
   "metadata": {},
   "outputs": [
    {
     "data": {
      "text/plain": [
       "11222.741464018822"
      ]
     },
     "execution_count": 10,
     "metadata": {},
     "output_type": "execute_result"
    }
   ],
   "source": [
    "1.5**23"
   ]
  },
  {
   "cell_type": "code",
   "execution_count": 11,
   "metadata": {},
   "outputs": [
    {
     "name": "stdout",
     "output_type": "stream",
     "text": [
      "alpha = 1.0000e+00, dt = 1.0000e-02, loop time: 0.10664010047912598, accuracy: 0.42629541544179567\n",
      "alpha = 1.5000e+00, dt = 1.0000e-02, loop time: 0.09567117691040039, accuracy: 0.4935937843064967\n",
      "alpha = 2.2500e+00, dt = 1.0000e-02, loop time: 0.16158199310302734, accuracy: 0.5791277175851156\n",
      "alpha = 3.3750e+00, dt = 1.0000e-02, loop time: 0.1478559970855713, accuracy: 0.6886763659546481\n",
      "alpha = 5.0625e+00, dt = 1.0000e-02, loop time: 0.10139107704162598, accuracy: 0.8120552290828171\n",
      "alpha = 7.5938e+00, dt = 1.0000e-02, loop time: 0.15955090522766113, accuracy: 0.9237076868591804\n",
      "alpha = 1.1391e+01, dt = 1.0000e-02, loop time: 0.1359848976135254, accuracy: 0.9878719018665538\n",
      "alpha = 1.7086e+01, dt = 1.0000e-02, loop time: 0.12154483795166016, accuracy: 0.9998757798833354\n",
      "alpha = 2.5629e+01, dt = 1.0000e-02, loop time: 0.1343231201171875, accuracy: 0.9992230161463205\n",
      "alpha = 3.8443e+01, dt = 1.0000e-02, loop time: 0.12784719467163086, accuracy: 0.9996920112626063\n"
     ]
    },
    {
     "data": {
      "image/png": "[encoded data removed]",
      "text/plain": [
       "<Figure size 640x480 with 1 Axes>"
      ]
     },
     "metadata": {},
     "output_type": "display_data"
    },
    {
     "name": "stdout",
     "output_type": "stream",
     "text": [
      "7\n",
      "max accuracy: 0.9998757798833354\n",
      "alpha_optimal: 17.0859375\n"
     ]
    }
   ],
   "source": [
    "# alpha_list = np.power(1.5, np.arange(0, 24, 1))\n",
    "alpha_list = np.power(1.5, np.arange(0, 10, 1))\n",
    "# alpha_list = np.power(1.5, np.arange(23, 25, 1))\n",
    "accuracy_list = []\n",
    "\n",
    "for alpha in alpha_list:\n",
    "    start_time = time.time()\n",
    "\n",
    "    # dt = 0.01 / alpha\n",
    "    dt = 0.01\n",
    "    t_axis = np.arange(0, T, dt)\n",
    "\n",
    "    junrui_unitary = np.identity(len(H0))\n",
    "    for t in t_axis:\n",
    "        junrui_unitary = expm(-1j * H(t, T=T, alpha=alpha, beta=beta) * dt) @ junrui_unitary\n",
    "\n",
    "    psi_final = junrui_unitary @ psi_ini\n",
    "\n",
    "    accuracy = np.abs( np.dot(psi_correct, psi_final) )**2 + np.abs( np.dot(psi_correct_degen, psi_final) )**2\n",
    "    accuracy_list.append(accuracy)\n",
    "\n",
    "    end_time = time.time()\n",
    "    print(f\"alpha = {alpha:.4e}, dt = {dt:.4e}, loop time: {end_time - start_time}, accuracy: {accuracy}\")\n",
    "\n",
    "plt.scatter(alpha_list, accuracy_list, s=1)\n",
    "plt.xlabel(\"alpha\")\n",
    "plt.ylabel(\"accuracy\")\n",
    "plt.show()\n",
    "accuracy_list = np.array(accuracy_list)\n",
    "print(accuracy_list.argmax())\n",
    "print(f\"max accuracy: {accuracy_list[accuracy_list.argmax()]}\")\n",
    "print(f\"alpha_optimal: {alpha_list[accuracy_list.argmax()]}\")\n"
   ]
  },
  {
   "cell_type": "code",
   "execution_count": 12,
   "metadata": {},
   "outputs": [],
   "source": [
    "# beta_list = np.arange(1e-2, 5e0, 1e-2)\n",
    "# accuracy_list = []\n",
    "\n",
    "# for beta in beta_list:\n",
    "#     start_time = time.time()\n",
    "\n",
    "#     junrui_unitary = np.identity(len(H0))\n",
    "#     for t in t_axis:\n",
    "#         junrui_unitary = expm(-1j * H(t, T=T, alpha=alpha, beta=beta) * dt) @ junrui_unitary\n",
    "\n",
    "#     psi_final = junrui_unitary @ psi_ini\n",
    "\n",
    "#     accuracy = np.abs( np.dot(psi_correct, psi_final) )**2 + np.abs( np.dot(psi_correct_degen, psi_final) )**2\n",
    "#     accuracy_list.append(accuracy)\n",
    "\n",
    "#     end_time = time.time()\n",
    "#     # print(f\"beta = {beta}, loop time: {end_time - start_time}\")\n",
    "\n",
    "# plt.scatter(beta_list, accuracy_list, s=1)\n",
    "# plt.xlabel(\"beta\")\n",
    "# plt.ylabel(\"accuracy\")\n",
    "# plt.show()\n",
    "# accuracy_list = np.array(accuracy_list)\n",
    "# print(accuracy_list.argmax())\n",
    "# print(f\"max accuracy: {accuracy_list[accuracy_list.argmax()]}\")\n",
    "# print(f\"beta_optimal: {beta_list[accuracy_list.argmax()]}\")\n"
   ]
  }
 ],
 "metadata": {
  "kernelspec": {
   "display_name": "env",
   "language": "python",
   "name": "python3"
  },
  "language_info": {
   "codemirror_mode": {
    "name": "ipython",
    "version": 3
   },
   "file_extension": ".py",
   "mimetype": "text/x-python",
   "name": "python",
   "nbconvert_exporter": "python",
   "pygments_lexer": "ipython3",
   "version": "3.12.5"
  }
 },
 "nbformat": 4,
 "nbformat_minor": 2
}
