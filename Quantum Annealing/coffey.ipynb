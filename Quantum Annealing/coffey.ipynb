{
 "cells": [
  {
   "cell_type": "markdown",
   "metadata": {},
   "source": [
    "Consider the evolution of a simple Hamiltonian into a problem-specific Hamiltonian where the optimal solution is 'encoded' in the ground state of the problem Hamiltonian $\\displaystyle H_{\\text{P}}$\n",
    "\n",
    "$$H\\left(s\\right) = \\left(1 - s\\right)H_0 + sH_{\\text{P}}$$\n",
    "\n",
    "where\n",
    "\n",
    "$$H_{\\text{P}} = \\underbrace{A\\left[\\sum_{j = 0}^{\\ell}2^jy_j + \\left(c + 1 - 2^{\\ell + 1}\\right)y_{\\ell + 1} - \\sum_{i = 1}^nw_ix_i\\right]^2}_{H_A} + \\underbrace{\\left(-B\\sum_{i = 1}^np_ix_i\\right)}_{H_B}$$\n",
    "\n",
    "for $\\displaystyle s = \\frac{t}{T}$ where $T$ is the total computation time and $\\displaystyle \\ell = \\lfloor\\log_2\\lparen c - 1\\rparen\\rfloor$\n"
   ]
  },
  {
   "cell_type": "code",
   "execution_count": 1,
   "metadata": {},
   "outputs": [],
   "source": [
    "from qutip import tensor, basis, sigmaz, qeye, mesolve\n",
    "import numpy as np"
   ]
  },
  {
   "cell_type": "code",
   "execution_count": null,
   "metadata": {},
   "outputs": [],
   "source": []
  }
 ],
 "metadata": {
  "kernelspec": {
   "display_name": "Python 3",
   "language": "python",
   "name": "python3"
  },
  "language_info": {
   "codemirror_mode": {
    "name": "ipython",
    "version": 3
   },
   "file_extension": ".py",
   "mimetype": "text/x-python",
   "name": "python",
   "nbconvert_exporter": "python",
   "pygments_lexer": "ipython3",
   "version": "3.12.5"
  }
 },
 "nbformat": 4,
 "nbformat_minor": 2
}
